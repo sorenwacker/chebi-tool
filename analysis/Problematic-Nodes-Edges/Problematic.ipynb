{
 "cells": [
  {
   "cell_type": "code",
   "execution_count": 1,
   "id": "25f75dfb-557c-4026-a368-a47be3e6c7fd",
   "metadata": {},
   "outputs": [
    {
     "data": {
      "text/plain": [
       "'/home/swacker/workspace/chebi-tools/analysis'"
      ]
     },
     "execution_count": 1,
     "metadata": {},
     "output_type": "execute_result"
    }
   ],
   "source": [
    "import os\n",
    "os.getcwd()"
   ]
  },
  {
   "cell_type": "code",
   "execution_count": 2,
   "id": "207acccc-54ac-48ad-8abd-2c730b0b3d08",
   "metadata": {},
   "outputs": [],
   "source": [
    "from chebi_tools import ChEBIDownloader, ChEBIGraph, ChEBIStandardizer"
   ]
  },
  {
   "cell_type": "code",
   "execution_count": 3,
   "id": "f701cb8f-6c6b-424d-ad7a-95fc16f5f845",
   "metadata": {},
   "outputs": [],
   "source": [
    "std = ChEBIStandardizer()"
   ]
  },
  {
   "cell_type": "code",
   "execution_count": 20,
   "id": "8bcb352e-61f7-44d2-9e8e-accd1935a370",
   "metadata": {},
   "outputs": [
    {
     "data": {
      "text/plain": [
       "REF_CHEBI\n",
       "CHEBI:175256    124\n",
       "CHEBI:192579     79\n",
       "CHEBI:61313      65\n",
       "CHEBI:33313      30\n",
       "CHEBI:64961      30\n",
       "CHEBI:18019      28\n",
       "CHEBI:184013     28\n",
       "CHEBI:86071      25\n",
       "CHEBI:188921     23\n",
       "CHEBI:17719      19\n",
       "CHEBI:29708      17\n",
       "CHEBI:15971      17\n",
       "CHEBI:49140      15\n",
       "CHEBI:16375      15\n",
       "dtype: int64"
      ]
     },
     "execution_count": 20,
     "metadata": {},
     "output_type": "execute_result"
    }
   ],
   "source": [
    "largest_subgraphs = std.reference_chebi.value_counts('REF_CHEBI')\n",
    "largest_subgraphs = largest_subgraphs[largest_subgraphs>=15]\n",
    "largest_subgraphs"
   ]
  },
  {
   "cell_type": "code",
   "execution_count": 23,
   "id": "2df0f328-97df-4965-920e-64a970d0ca1b",
   "metadata": {},
   "outputs": [],
   "source": [
    "largest_subgraphs.to_csv('subgraph-sizes.csv')"
   ]
  },
  {
   "cell_type": "markdown",
   "id": "a6a51c83-48d7-471b-8a6e-1906016eea81",
   "metadata": {},
   "source": [
    "# Graph"
   ]
  },
  {
   "cell_type": "code",
   "execution_count": 11,
   "id": "e7e5947d-2768-42ac-9e5a-3af68737318e",
   "metadata": {},
   "outputs": [
    {
     "name": "stdout",
     "output_type": "stream",
     "text": [
      "Loading topology from: /data/ChEBI/chebi_core.obo\n"
     ]
    }
   ],
   "source": [
    "graph = ChEBIGraph()"
   ]
  },
  {
   "cell_type": "code",
   "execution_count": 12,
   "id": "c481508c-29af-4963-a1e9-bda6bdfd6f37",
   "metadata": {},
   "outputs": [
    {
     "name": "stdout",
     "output_type": "stream",
     "text": [
      "Removing deuterated compounds\n",
      "Removing oligopeptides\n",
      "Removing dipeptides\n",
      "Removing tripeptides\n",
      "Removing tetrapeptides\n",
      "Removing pentapeptides\n"
     ]
    },
    {
     "name": "stderr",
     "output_type": "stream",
     "text": [
      "WARNING:root:Source CHEBI:25676 is not in G\n"
     ]
    },
    {
     "name": "stdout",
     "output_type": "stream",
     "text": [
      "Removing compound classes nodes\n"
     ]
    },
    {
     "name": "stderr",
     "output_type": "stream",
     "text": [
      "100%|██████████| 162317/162317 [00:00<00:00, 198284.67it/s]\n"
     ]
    },
    {
     "name": "stdout",
     "output_type": "stream",
     "text": [
      "Removing isotopically modified compounds\n"
     ]
    },
    {
     "name": "stderr",
     "output_type": "stream",
     "text": [
      "WARNING:root:Source CHEBI:139358 is not in G\n"
     ]
    }
   ],
   "source": [
    "# Remove identified nodes which mess up the sub-graphs\n",
    "graph.remove_unnecessary_nodes()"
   ]
  },
  {
   "cell_type": "code",
   "execution_count": 13,
   "id": "18eb1538-cc3e-4283-b0d4-c5bac227bd9e",
   "metadata": {},
   "outputs": [],
   "source": [
    "# update the data to the nodes currently present\n",
    "graph.update_df()"
   ]
  },
  {
   "cell_type": "markdown",
   "id": "67a67c1c-8efa-40b3-8af9-3646e65d7c1f",
   "metadata": {},
   "source": [
    "## Generate HTML files of large subgraphs"
   ]
  },
  {
   "cell_type": "code",
   "execution_count": 16,
   "id": "91982af7-2400-4a44-bd5b-95d08858d942",
   "metadata": {},
   "outputs": [],
   "source": [
    "import logging\n",
    "from tqdm import tqdm"
   ]
  },
  {
   "cell_type": "code",
   "execution_count": 17,
   "id": "50ecbbfc-60d1-4136-88e2-81e6004b081a",
   "metadata": {},
   "outputs": [],
   "source": [
    "from networkx.exception import NodeNotFound"
   ]
  },
  {
   "cell_type": "code",
   "execution_count": 21,
   "id": "3bf67a0f-f550-4e18-8881-f453a191f5c5",
   "metadata": {},
   "outputs": [
    {
     "name": "stderr",
     "output_type": "stream",
     "text": [
      "  7%|▋         | 1/14 [00:02<00:38,  2.97s/it]"
     ]
    },
    {
     "name": "stdout",
     "output_type": "stream",
     "text": [
      "Local cdn resources have problems on chrome/safari when used in jupyter-notebook. \n"
     ]
    },
    {
     "name": "stderr",
     "output_type": "stream",
     "text": [
      " 14%|█▍        | 2/14 [00:06<00:42,  3.54s/it]"
     ]
    },
    {
     "name": "stdout",
     "output_type": "stream",
     "text": [
      "Local cdn resources have problems on chrome/safari when used in jupyter-notebook. \n"
     ]
    },
    {
     "name": "stderr",
     "output_type": "stream",
     "text": [
      " 21%|██▏       | 3/14 [00:09<00:36,  3.28s/it]"
     ]
    },
    {
     "name": "stdout",
     "output_type": "stream",
     "text": [
      "Local cdn resources have problems on chrome/safari when used in jupyter-notebook. \n"
     ]
    },
    {
     "name": "stderr",
     "output_type": "stream",
     "text": [
      " 29%|██▊       | 4/14 [00:12<00:31,  3.15s/it]"
     ]
    },
    {
     "name": "stdout",
     "output_type": "stream",
     "text": [
      "Local cdn resources have problems on chrome/safari when used in jupyter-notebook. \n"
     ]
    },
    {
     "name": "stderr",
     "output_type": "stream",
     "text": [
      "WARNING:root:Source CHEBI:64961 is not in G\n",
      " 43%|████▎     | 6/14 [00:19<00:26,  3.29s/it]"
     ]
    },
    {
     "name": "stdout",
     "output_type": "stream",
     "text": [
      "Local cdn resources have problems on chrome/safari when used in jupyter-notebook. \n"
     ]
    },
    {
     "name": "stderr",
     "output_type": "stream",
     "text": [
      " 50%|█████     | 7/14 [00:22<00:22,  3.18s/it]"
     ]
    },
    {
     "name": "stdout",
     "output_type": "stream",
     "text": [
      "Local cdn resources have problems on chrome/safari when used in jupyter-notebook. \n"
     ]
    },
    {
     "name": "stderr",
     "output_type": "stream",
     "text": [
      " 57%|█████▋    | 8/14 [00:25<00:18,  3.11s/it]"
     ]
    },
    {
     "name": "stdout",
     "output_type": "stream",
     "text": [
      "Local cdn resources have problems on chrome/safari when used in jupyter-notebook. \n"
     ]
    },
    {
     "name": "stderr",
     "output_type": "stream",
     "text": [
      " 64%|██████▍   | 9/14 [00:29<00:16,  3.34s/it]"
     ]
    },
    {
     "name": "stdout",
     "output_type": "stream",
     "text": [
      "Local cdn resources have problems on chrome/safari when used in jupyter-notebook. \n"
     ]
    },
    {
     "name": "stderr",
     "output_type": "stream",
     "text": [
      " 71%|███████▏  | 10/14 [00:32<00:12,  3.23s/it]"
     ]
    },
    {
     "name": "stdout",
     "output_type": "stream",
     "text": [
      "Local cdn resources have problems on chrome/safari when used in jupyter-notebook. \n"
     ]
    },
    {
     "name": "stderr",
     "output_type": "stream",
     "text": [
      " 79%|███████▊  | 11/14 [00:36<00:10,  3.44s/it]"
     ]
    },
    {
     "name": "stdout",
     "output_type": "stream",
     "text": [
      "Local cdn resources have problems on chrome/safari when used in jupyter-notebook. \n"
     ]
    },
    {
     "name": "stderr",
     "output_type": "stream",
     "text": [
      " 86%|████████▌ | 12/14 [00:39<00:06,  3.30s/it]"
     ]
    },
    {
     "name": "stdout",
     "output_type": "stream",
     "text": [
      "Local cdn resources have problems on chrome/safari when used in jupyter-notebook. \n"
     ]
    },
    {
     "name": "stderr",
     "output_type": "stream",
     "text": [
      " 93%|█████████▎| 13/14 [00:42<00:03,  3.19s/it]"
     ]
    },
    {
     "name": "stdout",
     "output_type": "stream",
     "text": [
      "Local cdn resources have problems on chrome/safari when used in jupyter-notebook. \n"
     ]
    },
    {
     "name": "stderr",
     "output_type": "stream",
     "text": [
      "100%|██████████| 14/14 [00:46<00:00,  3.31s/it]"
     ]
    },
    {
     "name": "stdout",
     "output_type": "stream",
     "text": [
      "Local cdn resources have problems on chrome/safari when used in jupyter-notebook. \n"
     ]
    },
    {
     "name": "stderr",
     "output_type": "stream",
     "text": [
      "\n"
     ]
    }
   ],
   "source": [
    "for chebi in tqdm(largest_subgraphs.index):\n",
    "    try:\n",
    "        a, fig = graph.get_subgraph(chebi, show=True)\n",
    "    except NodeNotFound as e:\n",
    "        logging.warning(e)"
   ]
  },
  {
   "cell_type": "code",
   "execution_count": null,
   "id": "9c2115ba-cb3b-4496-b150-6a87d43738fe",
   "metadata": {},
   "outputs": [],
   "source": []
  }
 ],
 "metadata": {
  "kernelspec": {
   "display_name": "Chem",
   "language": "python",
   "name": "chem"
  },
  "language_info": {
   "codemirror_mode": {
    "name": "ipython",
    "version": 3
   },
   "file_extension": ".py",
   "mimetype": "text/x-python",
   "name": "python",
   "nbconvert_exporter": "python",
   "pygments_lexer": "ipython3",
   "version": "3.10.8"
  }
 },
 "nbformat": 4,
 "nbformat_minor": 5
}
