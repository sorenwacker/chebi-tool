{
 "cells": [
  {
   "cell_type": "code",
   "execution_count": 4,
   "id": "805e1897-ad44-48b4-b11f-a5ef58f6f99a",
   "metadata": {},
   "outputs": [],
   "source": [
    "from chebi_tools import ChEBIGraph"
   ]
  },
  {
   "cell_type": "code",
   "execution_count": 5,
   "id": "30ddf777-b40a-4acc-8125-a62baba7ccc9",
   "metadata": {},
   "outputs": [
    {
     "name": "stderr",
     "output_type": "stream",
     "text": [
      "WARNING:root:Loading topology from: /data/ChEBI/chebi_core.obo\n"
     ]
    }
   ],
   "source": [
    "graph = ChEBIGraph()"
   ]
  },
  {
   "cell_type": "code",
   "execution_count": 6,
   "id": "c87c1c72-fb2f-42f1-b8dc-a79db7821f7b",
   "metadata": {},
   "outputs": [],
   "source": [
    "graph.update_df()"
   ]
  },
  {
   "cell_type": "markdown",
   "id": "488dac44-2091-493c-bff1-f62e655fc9b2",
   "metadata": {},
   "source": [
    "## Remove undesired nodes and edges"
   ]
  },
  {
   "cell_type": "code",
   "execution_count": 7,
   "id": "32f42773-9812-431f-80c8-cbd963488a2d",
   "metadata": {},
   "outputs": [
    {
     "name": "stderr",
     "output_type": "stream",
     "text": [
      "WARNING:root:Removing deuterated compounds\n",
      "WARNING:root:Removing oligopeptides\n",
      "WARNING:root:Removing dipeptides\n",
      "WARNING:root:Removing tripeptides\n",
      "WARNING:root:Removing tetrapeptides\n",
      "WARNING:root:Removing pentapeptides\n",
      "WARNING:root:Source CHEBI:25676 is not in G\n",
      "WARNING:root:Removing compound classes nodes\n",
      "100%|██████████| 162317/162317 [00:00<00:00, 188878.17it/s]\n",
      "WARNING:root:Removing isotopically modified compounds\n",
      "WARNING:root:Source CHEBI:139358 is not in G\n"
     ]
    }
   ],
   "source": [
    "graph.remove_unnecessary_nodes()"
   ]
  },
  {
   "cell_type": "code",
   "execution_count": 8,
   "id": "4e179550-d549-4e4d-8a9e-2e0145da916b",
   "metadata": {},
   "outputs": [],
   "source": [
    "graph.update_df()"
   ]
  },
  {
   "cell_type": "code",
   "execution_count": 9,
   "id": "7417d496-96b4-49df-a67f-8ee6dd08314a",
   "metadata": {},
   "outputs": [
    {
     "data": {
      "text/html": [
       "<div>\n",
       "<style scoped>\n",
       "    .dataframe tbody tr th:only-of-type {\n",
       "        vertical-align: middle;\n",
       "    }\n",
       "\n",
       "    .dataframe tbody tr th {\n",
       "        vertical-align: top;\n",
       "    }\n",
       "\n",
       "    .dataframe thead th {\n",
       "        text-align: right;\n",
       "    }\n",
       "</style>\n",
       "<table border=\"1\" class=\"dataframe\">\n",
       "  <thead>\n",
       "    <tr style=\"text-align: right;\">\n",
       "      <th></th>\n",
       "      <th>compound_id</th>\n",
       "      <th>name</th>\n",
       "      <th>monoisotopicmass</th>\n",
       "      <th>charge</th>\n",
       "      <th>formula</th>\n",
       "      <th>inchikey</th>\n",
       "      <th>smiles</th>\n",
       "    </tr>\n",
       "    <tr>\n",
       "      <th>ChEBI</th>\n",
       "      <th></th>\n",
       "      <th></th>\n",
       "      <th></th>\n",
       "      <th></th>\n",
       "      <th></th>\n",
       "      <th></th>\n",
       "      <th></th>\n",
       "    </tr>\n",
       "  </thead>\n",
       "  <tbody>\n",
       "    <tr>\n",
       "      <th>CHEBI:32129</th>\n",
       "      <td>32129</td>\n",
       "      <td>diamminesilver(1+) fluoride</td>\n",
       "      <td>159.95659</td>\n",
       "      <td>0.0</td>\n",
       "      <td>AgFH6N2</td>\n",
       "      <td>FJKGRAZQBBWYLG-UHFFFAOYSA-M</td>\n",
       "      <td>[F-].[H][N]([H])([H])[Ag+][N]([H])([H])[H]</td>\n",
       "    </tr>\n",
       "    <tr>\n",
       "      <th>CHEBI:30340</th>\n",
       "      <td>30340</td>\n",
       "      <td>silver monofluoride</td>\n",
       "      <td>125.90349</td>\n",
       "      <td>0.0</td>\n",
       "      <td>AgF</td>\n",
       "      <td>REYHXKZHIMGNSE-UHFFFAOYSA-M</td>\n",
       "      <td>[F-].[Ag+]</td>\n",
       "    </tr>\n",
       "    <tr>\n",
       "      <th>CHEBI:51990</th>\n",
       "      <td>51990</td>\n",
       "      <td>tetrabutylammonium fluoride</td>\n",
       "      <td>261.28318</td>\n",
       "      <td>0.0</td>\n",
       "      <td>C16H36FN</td>\n",
       "      <td>FPGGTKZVZWFYPV-UHFFFAOYSA-M</td>\n",
       "      <td>[F-].CCCC[N+](CCCC)(CCCC)CCCC</td>\n",
       "    </tr>\n",
       "    <tr>\n",
       "      <th>CHEBI:66872</th>\n",
       "      <td>66872</td>\n",
       "      <td>potassium fluoride</td>\n",
       "      <td>57.96211</td>\n",
       "      <td>0.0</td>\n",
       "      <td>FK</td>\n",
       "      <td>NROKBHXJSPEDAR-UHFFFAOYSA-M</td>\n",
       "      <td>[F-].[K+]</td>\n",
       "    </tr>\n",
       "    <tr>\n",
       "      <th>CHEBI:135933</th>\n",
       "      <td>135933</td>\n",
       "      <td>stannous fluoride</td>\n",
       "      <td>157.89901</td>\n",
       "      <td>0.0</td>\n",
       "      <td>F2Sn</td>\n",
       "      <td>ANOBYBYXJXCGBS-UHFFFAOYSA-L</td>\n",
       "      <td>F[Sn]F</td>\n",
       "    </tr>\n",
       "    <tr>\n",
       "      <th>...</th>\n",
       "      <td>...</td>\n",
       "      <td>...</td>\n",
       "      <td>...</td>\n",
       "      <td>...</td>\n",
       "      <td>...</td>\n",
       "      <td>...</td>\n",
       "      <td>...</td>\n",
       "    </tr>\n",
       "    <tr>\n",
       "      <th>CHEBI:52255</th>\n",
       "      <td>52255</td>\n",
       "      <td>hydroxylapatite</td>\n",
       "      <td>501.67595</td>\n",
       "      <td>0.0</td>\n",
       "      <td>Ca5HO13P3</td>\n",
       "      <td>None</td>\n",
       "      <td>None</td>\n",
       "    </tr>\n",
       "    <tr>\n",
       "      <th>CHEBI:52257</th>\n",
       "      <td>52257</td>\n",
       "      <td>fluorapatite</td>\n",
       "      <td>503.67162</td>\n",
       "      <td>0.0</td>\n",
       "      <td>Ca5FP3O12</td>\n",
       "      <td>None</td>\n",
       "      <td>None</td>\n",
       "    </tr>\n",
       "    <tr>\n",
       "      <th>CHEBI:52258</th>\n",
       "      <td>52258</td>\n",
       "      <td>chlorapatite</td>\n",
       "      <td>519.64207</td>\n",
       "      <td>0.0</td>\n",
       "      <td>Ca5ClP3O12</td>\n",
       "      <td>None</td>\n",
       "      <td>None</td>\n",
       "    </tr>\n",
       "    <tr>\n",
       "      <th>CHEBI:156296</th>\n",
       "      <td>156296</td>\n",
       "      <td>G-1</td>\n",
       "      <td>411.04701</td>\n",
       "      <td>0.0</td>\n",
       "      <td>C21H18BrNO3</td>\n",
       "      <td>VHSVKVWHYFBIFJ-HKZYLEAXSA-N</td>\n",
       "      <td>BrC=1C([C@@]2(N(C3=C([C@]4([C@@]2(C(C(=C4[H])[...</td>\n",
       "    </tr>\n",
       "    <tr>\n",
       "      <th>CHEBI:156295</th>\n",
       "      <td>156295</td>\n",
       "      <td>G-15</td>\n",
       "      <td>369.03644</td>\n",
       "      <td>0.0</td>\n",
       "      <td>C19H16BrNO2</td>\n",
       "      <td>YOLTZIVRJAPVPH-MJCKAROISA-N</td>\n",
       "      <td>BrC=1C([C@@]2(N(C=3C([C@@]4([C@]2(C(C(=C4[H])[...</td>\n",
       "    </tr>\n",
       "  </tbody>\n",
       "</table>\n",
       "<p>142997 rows × 7 columns</p>\n",
       "</div>"
      ],
      "text/plain": [
       "              compound_id                         name  monoisotopicmass  \\\n",
       "ChEBI                                                                      \n",
       "CHEBI:32129         32129  diamminesilver(1+) fluoride         159.95659   \n",
       "CHEBI:30340         30340          silver monofluoride         125.90349   \n",
       "CHEBI:51990         51990  tetrabutylammonium fluoride         261.28318   \n",
       "CHEBI:66872         66872           potassium fluoride          57.96211   \n",
       "CHEBI:135933       135933            stannous fluoride         157.89901   \n",
       "...                   ...                          ...               ...   \n",
       "CHEBI:52255         52255              hydroxylapatite         501.67595   \n",
       "CHEBI:52257         52257                 fluorapatite         503.67162   \n",
       "CHEBI:52258         52258                 chlorapatite         519.64207   \n",
       "CHEBI:156296       156296                          G-1         411.04701   \n",
       "CHEBI:156295       156295                         G-15         369.03644   \n",
       "\n",
       "              charge      formula                     inchikey  \\\n",
       "ChEBI                                                            \n",
       "CHEBI:32129      0.0      AgFH6N2  FJKGRAZQBBWYLG-UHFFFAOYSA-M   \n",
       "CHEBI:30340      0.0          AgF  REYHXKZHIMGNSE-UHFFFAOYSA-M   \n",
       "CHEBI:51990      0.0     C16H36FN  FPGGTKZVZWFYPV-UHFFFAOYSA-M   \n",
       "CHEBI:66872      0.0           FK  NROKBHXJSPEDAR-UHFFFAOYSA-M   \n",
       "CHEBI:135933     0.0         F2Sn  ANOBYBYXJXCGBS-UHFFFAOYSA-L   \n",
       "...              ...          ...                          ...   \n",
       "CHEBI:52255      0.0    Ca5HO13P3                         None   \n",
       "CHEBI:52257      0.0    Ca5FP3O12                         None   \n",
       "CHEBI:52258      0.0   Ca5ClP3O12                         None   \n",
       "CHEBI:156296     0.0  C21H18BrNO3  VHSVKVWHYFBIFJ-HKZYLEAXSA-N   \n",
       "CHEBI:156295     0.0  C19H16BrNO2  YOLTZIVRJAPVPH-MJCKAROISA-N   \n",
       "\n",
       "                                                         smiles  \n",
       "ChEBI                                                            \n",
       "CHEBI:32129          [F-].[H][N]([H])([H])[Ag+][N]([H])([H])[H]  \n",
       "CHEBI:30340                                          [F-].[Ag+]  \n",
       "CHEBI:51990                       [F-].CCCC[N+](CCCC)(CCCC)CCCC  \n",
       "CHEBI:66872                                           [F-].[K+]  \n",
       "CHEBI:135933                                             F[Sn]F  \n",
       "...                                                         ...  \n",
       "CHEBI:52255                                                None  \n",
       "CHEBI:52257                                                None  \n",
       "CHEBI:52258                                                None  \n",
       "CHEBI:156296  BrC=1C([C@@]2(N(C3=C([C@]4([C@@]2(C(C(=C4[H])[...  \n",
       "CHEBI:156295  BrC=1C([C@@]2(N(C=3C([C@@]4([C@]2(C(C(=C4[H])[...  \n",
       "\n",
       "[142997 rows x 7 columns]"
      ]
     },
     "execution_count": 9,
     "metadata": {},
     "output_type": "execute_result"
    }
   ],
   "source": [
    "graph.df"
   ]
  },
  {
   "cell_type": "markdown",
   "id": "038cce51-ddf6-4156-8fa9-90d61a97cc6e",
   "metadata": {},
   "source": [
    "## Some examples"
   ]
  },
  {
   "cell_type": "markdown",
   "id": "5beb8403-aed1-4a45-a95c-98f3f1ece76e",
   "metadata": {},
   "source": [
    "### Creatine"
   ]
  },
  {
   "cell_type": "code",
   "execution_count": 12,
   "id": "9611e401-b99a-47df-88c7-5a6a95459329",
   "metadata": {},
   "outputs": [
    {
     "name": "stdout",
     "output_type": "stream",
     "text": [
      "Local cdn resources have problems on chrome/safari when used in jupyter-notebook. \n",
      "             compound_id                 name  monoisotopicmass  charge  \\\n",
      "ChEBI                                                                     \n",
      "CHEBI:16919        16919             creatine         131.06948     0.0   \n",
      "CHEBI:66924        66924           creatinate         130.06220    -1.0   \n",
      "CHEBI:57947        57947  creatine zwitterion         131.06948     0.0   \n",
      "\n",
      "              formula                     inchikey                     smiles  \\\n",
      "ChEBI                                                                           \n",
      "CHEBI:16919  C4H9N3O2  CVSVTCORWBXHQV-UHFFFAOYSA-N          CN(CC(O)=O)C(N)=N   \n",
      "CHEBI:66924  C4H8N3O2  CVSVTCORWBXHQV-UHFFFAOYSA-M       CN(CC([O-])=O)C(N)=N   \n",
      "CHEBI:57947  C4H9N3O2  CVSVTCORWBXHQV-UHFFFAOYSA-N  CN(CC([O-])=O)C(N)=[NH2+]   \n",
      "\n",
      "             abs_charge  name_alpha  name_length  \n",
      "ChEBI                                             \n",
      "CHEBI:16919         0.0        True            8  \n",
      "CHEBI:66924         1.0        True           10  \n",
      "CHEBI:57947         0.0        True           19  \n",
      "('CHEBI:16919', 'creatine')\n"
     ]
    },
    {
     "data": {
      "text/html": [
       "\n",
       "        <iframe\n",
       "            width=\"1000px\"\n",
       "            height=\"800px\"\n",
       "            src=\"CHEBI16919.html\"\n",
       "            frameborder=\"0\"\n",
       "            allowfullscreen\n",
       "            \n",
       "        ></iframe>\n",
       "        "
      ],
      "text/plain": [
       "<IPython.lib.display.IFrame at 0x7f8c679d3280>"
      ]
     },
     "execution_count": 12,
     "metadata": {},
     "output_type": "execute_result"
    }
   ],
   "source": [
    "group, fig = graph.get_subgraph('CHEBI:16919', show=True)\n",
    "print(graph.get_reference_chebi_of_group(group))\n",
    "fig"
   ]
  },
  {
   "cell_type": "code",
   "execution_count": null,
   "id": "3f5fa691-885d-4d6c-bbe1-3d64d2959033",
   "metadata": {},
   "outputs": [],
   "source": []
  },
  {
   "cell_type": "markdown",
   "id": "c1557019-6bd7-4675-9297-c9e7ab8270ff",
   "metadata": {},
   "source": [
    "### Mevalonate"
   ]
  },
  {
   "cell_type": "code",
   "execution_count": 7,
   "id": "965988b3-1dfe-40c4-88b7-8a19dabff3a0",
   "metadata": {},
   "outputs": [
    {
     "name": "stdout",
     "output_type": "stream",
     "text": [
      "Local cdn resources have problems on chrome/safari when used in jupyter-notebook. \n"
     ]
    },
    {
     "data": {
      "text/html": [
       "\n",
       "        <iframe\n",
       "            width=\"1000px\"\n",
       "            height=\"800px\"\n",
       "            src=\"CHEBI25351.html\"\n",
       "            frameborder=\"0\"\n",
       "            allowfullscreen\n",
       "            \n",
       "        ></iframe>\n",
       "        "
      ],
      "text/plain": [
       "<IPython.lib.display.IFrame at 0x7f3563954580>"
      ]
     },
     "execution_count": 7,
     "metadata": {},
     "output_type": "execute_result"
    }
   ],
   "source": [
    "group, fig = graph.get_subgraph('CHEBI:25351', show=True)\n",
    "print(graph.get_reference_chebi_of_group(group))\n",
    "\n",
    "fig"
   ]
  },
  {
   "cell_type": "markdown",
   "id": "5cb34c63-b168-46e1-ac41-ef0ffbfad8f2",
   "metadata": {},
   "source": [
    "### Arabitol"
   ]
  },
  {
   "cell_type": "code",
   "execution_count": 7,
   "id": "b65a5ec5-bd0a-4b4d-9e10-f232ad1edf13",
   "metadata": {},
   "outputs": [
    {
     "name": "stdout",
     "output_type": "stream",
     "text": [
      "Local cdn resources have problems on chrome/safari when used in jupyter-notebook. \n"
     ]
    },
    {
     "data": {
      "text/html": [
       "\n",
       "        <iframe\n",
       "            width=\"1000px\"\n",
       "            height=\"800px\"\n",
       "            src=\"CHEBI18333.html\"\n",
       "            frameborder=\"0\"\n",
       "            allowfullscreen\n",
       "            \n",
       "        ></iframe>\n",
       "        "
      ],
      "text/plain": [
       "<IPython.lib.display.IFrame at 0x7fd680296350>"
      ]
     },
     "execution_count": 7,
     "metadata": {},
     "output_type": "execute_result"
    }
   ],
   "source": [
    "a, fig = graph.get_subgraph('CHEBI:18333', show=True)\n",
    "fig"
   ]
  },
  {
   "cell_type": "markdown",
   "id": "c8279d48-a0e2-4f7e-b71e-4446cd2fc7a7",
   "metadata": {},
   "source": [
    "### Aspartic acid"
   ]
  },
  {
   "cell_type": "code",
   "execution_count": 9,
   "id": "78a3c6f5-06df-47ed-a357-6e5dcd837049",
   "metadata": {},
   "outputs": [
    {
     "name": "stdout",
     "output_type": "stream",
     "text": [
      "Local cdn resources have problems on chrome/safari when used in jupyter-notebook. \n"
     ]
    },
    {
     "data": {
      "text/html": [
       "\n",
       "        <iframe\n",
       "            width=\"1000px\"\n",
       "            height=\"800px\"\n",
       "            src=\"CHEBI22660.html\"\n",
       "            frameborder=\"0\"\n",
       "            allowfullscreen\n",
       "            \n",
       "        ></iframe>\n",
       "        "
      ],
      "text/plain": [
       "<IPython.lib.display.IFrame at 0x7f356813d450>"
      ]
     },
     "execution_count": 9,
     "metadata": {},
     "output_type": "execute_result"
    }
   ],
   "source": [
    "a, fig = graph.get_subgraph('CHEBI:22660', show=True)\n",
    "fig"
   ]
  },
  {
   "cell_type": "code",
   "execution_count": null,
   "id": "cfae04b0-8e72-497a-988b-056bb7da4a23",
   "metadata": {},
   "outputs": [],
   "source": []
  },
  {
   "cell_type": "code",
   "execution_count": null,
   "id": "f71a69ba-1492-44cd-87de-be8298eaa6a7",
   "metadata": {},
   "outputs": [],
   "source": []
  }
 ],
 "metadata": {
  "kernelspec": {
   "display_name": "Chem",
   "language": "python",
   "name": "chem"
  },
  "language_info": {
   "codemirror_mode": {
    "name": "ipython",
    "version": 3
   },
   "file_extension": ".py",
   "mimetype": "text/x-python",
   "name": "python",
   "nbconvert_exporter": "python",
   "pygments_lexer": "ipython3",
   "version": "3.10.8"
  }
 },
 "nbformat": 4,
 "nbformat_minor": 5
}
