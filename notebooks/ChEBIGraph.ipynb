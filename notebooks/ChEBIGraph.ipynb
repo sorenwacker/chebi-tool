{
 "cells": [
  {
   "cell_type": "code",
   "execution_count": 1,
   "id": "805e1897-ad44-48b4-b11f-a5ef58f6f99a",
   "metadata": {},
   "outputs": [],
   "source": [
    "from chebi_tools import ChEBIGraph"
   ]
  },
  {
   "cell_type": "code",
   "execution_count": 2,
   "id": "30ddf777-b40a-4acc-8125-a62baba7ccc9",
   "metadata": {},
   "outputs": [
    {
     "name": "stderr",
     "output_type": "stream",
     "text": [
      "WARNING:root:Loading topology from: /data/ChEBI/chebi_core.obo\n"
     ]
    }
   ],
   "source": [
    "graph = ChEBIGraph()"
   ]
  },
  {
   "cell_type": "code",
   "execution_count": 3,
   "id": "c87c1c72-fb2f-42f1-b8dc-a79db7821f7b",
   "metadata": {},
   "outputs": [],
   "source": [
    "graph.update_df()"
   ]
  },
  {
   "cell_type": "code",
   "execution_count": 4,
   "id": "a7ade102-c0bd-4be3-b95f-9d1c8ed7922f",
   "metadata": {},
   "outputs": [
    {
     "data": {
      "text/plain": [
       "\u001b[0;31mSignature:\u001b[0m \u001b[0mgraph\u001b[0m\u001b[0;34m.\u001b[0m\u001b[0mupdate_df\u001b[0m\u001b[0;34m(\u001b[0m\u001b[0;34m)\u001b[0m\u001b[0;34m\u001b[0m\u001b[0;34m\u001b[0m\u001b[0m\n",
       "\u001b[0;31mDocstring:\u001b[0m <no docstring>\n",
       "\u001b[0;31mFile:\u001b[0m      ~/workspace/chebi-tools/chebi_tools/ChEBIGraph.py\n",
       "\u001b[0;31mType:\u001b[0m      method"
      ]
     },
     "metadata": {},
     "output_type": "display_data"
    }
   ],
   "source": [
    "graph.update_df?"
   ]
  },
  {
   "cell_type": "markdown",
   "id": "488dac44-2091-493c-bff1-f62e655fc9b2",
   "metadata": {},
   "source": [
    "## Remove undesired nodes and edges"
   ]
  },
  {
   "cell_type": "code",
   "execution_count": 5,
   "id": "32f42773-9812-431f-80c8-cbd963488a2d",
   "metadata": {},
   "outputs": [
    {
     "name": "stderr",
     "output_type": "stream",
     "text": [
      "WARNING:root:Removing deuterated compounds\n",
      "WARNING:root:Removing oligopeptides\n",
      "WARNING:root:Removing dipeptides\n",
      "WARNING:root:Removing tripeptides\n",
      "WARNING:root:Removing tetrapeptides\n",
      "WARNING:root:Removing pentapeptides\n",
      "WARNING:root:Source CHEBI:25676 is not in G\n",
      "WARNING:root:Removing compound classes nodes\n",
      "100%|██████████| 163457/163457 [00:00<00:00, 200407.65it/s]\n",
      "WARNING:root:Removing isotopically modified compounds\n",
      "WARNING:root:Source CHEBI:139358 is not in G\n"
     ]
    }
   ],
   "source": [
    "graph.remove_unnecessary_nodes()"
   ]
  },
  {
   "cell_type": "code",
   "execution_count": 6,
   "id": "4e179550-d549-4e4d-8a9e-2e0145da916b",
   "metadata": {},
   "outputs": [],
   "source": [
    "graph.update_df()"
   ]
  },
  {
   "cell_type": "code",
   "execution_count": 7,
   "id": "7417d496-96b4-49df-a67f-8ee6dd08314a",
   "metadata": {},
   "outputs": [
    {
     "data": {
      "text/html": [
       "<div>\n",
       "<style scoped>\n",
       "    .dataframe tbody tr th:only-of-type {\n",
       "        vertical-align: middle;\n",
       "    }\n",
       "\n",
       "    .dataframe tbody tr th {\n",
       "        vertical-align: top;\n",
       "    }\n",
       "\n",
       "    .dataframe thead th {\n",
       "        text-align: right;\n",
       "    }\n",
       "</style>\n",
       "<table border=\"1\" class=\"dataframe\">\n",
       "  <thead>\n",
       "    <tr style=\"text-align: right;\">\n",
       "      <th></th>\n",
       "      <th>compound_id</th>\n",
       "      <th>name</th>\n",
       "      <th>monoisotopicmass</th>\n",
       "      <th>charge</th>\n",
       "      <th>formula</th>\n",
       "      <th>inchikey</th>\n",
       "      <th>smiles</th>\n",
       "    </tr>\n",
       "    <tr>\n",
       "      <th>ChEBI</th>\n",
       "      <th></th>\n",
       "      <th></th>\n",
       "      <th></th>\n",
       "      <th></th>\n",
       "      <th></th>\n",
       "      <th></th>\n",
       "      <th></th>\n",
       "    </tr>\n",
       "  </thead>\n",
       "  <tbody>\n",
       "    <tr>\n",
       "      <th>CHEBI:32129</th>\n",
       "      <td>32129</td>\n",
       "      <td>diamminesilver(1+) fluoride</td>\n",
       "      <td>159.95659</td>\n",
       "      <td>0.0</td>\n",
       "      <td>AgFH6N2</td>\n",
       "      <td>FJKGRAZQBBWYLG-UHFFFAOYSA-M</td>\n",
       "      <td>[F-].[H][N]([H])([H])[Ag+][N]([H])([H])[H]</td>\n",
       "    </tr>\n",
       "    <tr>\n",
       "      <th>CHEBI:30340</th>\n",
       "      <td>30340</td>\n",
       "      <td>silver monofluoride</td>\n",
       "      <td>125.90349</td>\n",
       "      <td>0.0</td>\n",
       "      <td>AgF</td>\n",
       "      <td>REYHXKZHIMGNSE-UHFFFAOYSA-M</td>\n",
       "      <td>[F-].[Ag+]</td>\n",
       "    </tr>\n",
       "    <tr>\n",
       "      <th>CHEBI:51990</th>\n",
       "      <td>51990</td>\n",
       "      <td>tetrabutylammonium fluoride</td>\n",
       "      <td>261.28318</td>\n",
       "      <td>0.0</td>\n",
       "      <td>C16H36FN</td>\n",
       "      <td>FPGGTKZVZWFYPV-UHFFFAOYSA-M</td>\n",
       "      <td>[F-].CCCC[N+](CCCC)(CCCC)CCCC</td>\n",
       "    </tr>\n",
       "    <tr>\n",
       "      <th>CHEBI:66872</th>\n",
       "      <td>66872</td>\n",
       "      <td>potassium fluoride</td>\n",
       "      <td>57.96211</td>\n",
       "      <td>0.0</td>\n",
       "      <td>FK</td>\n",
       "      <td>NROKBHXJSPEDAR-UHFFFAOYSA-M</td>\n",
       "      <td>[F-].[K+]</td>\n",
       "    </tr>\n",
       "    <tr>\n",
       "      <th>CHEBI:135933</th>\n",
       "      <td>135933</td>\n",
       "      <td>stannous fluoride</td>\n",
       "      <td>157.89901</td>\n",
       "      <td>0.0</td>\n",
       "      <td>F2Sn</td>\n",
       "      <td>ANOBYBYXJXCGBS-UHFFFAOYSA-L</td>\n",
       "      <td>F[Sn]F</td>\n",
       "    </tr>\n",
       "    <tr>\n",
       "      <th>...</th>\n",
       "      <td>...</td>\n",
       "      <td>...</td>\n",
       "      <td>...</td>\n",
       "      <td>...</td>\n",
       "      <td>...</td>\n",
       "      <td>...</td>\n",
       "      <td>...</td>\n",
       "    </tr>\n",
       "    <tr>\n",
       "      <th>CHEBI:52257</th>\n",
       "      <td>52257</td>\n",
       "      <td>fluorapatite</td>\n",
       "      <td>503.67162</td>\n",
       "      <td>0.0</td>\n",
       "      <td>Ca5FP3O12</td>\n",
       "      <td>None</td>\n",
       "      <td>None</td>\n",
       "    </tr>\n",
       "    <tr>\n",
       "      <th>CHEBI:52258</th>\n",
       "      <td>52258</td>\n",
       "      <td>chlorapatite</td>\n",
       "      <td>519.64207</td>\n",
       "      <td>0.0</td>\n",
       "      <td>Ca5ClP3O12</td>\n",
       "      <td>None</td>\n",
       "      <td>None</td>\n",
       "    </tr>\n",
       "    <tr>\n",
       "      <th>CHEBI:156296</th>\n",
       "      <td>156296</td>\n",
       "      <td>G-1</td>\n",
       "      <td>411.04701</td>\n",
       "      <td>0.0</td>\n",
       "      <td>C21H18BrNO3</td>\n",
       "      <td>VHSVKVWHYFBIFJ-HKZYLEAXSA-N</td>\n",
       "      <td>BrC=1C([C@@]2(N(C3=C([C@]4([C@@]2(C(C(=C4[H])[...</td>\n",
       "    </tr>\n",
       "    <tr>\n",
       "      <th>CHEBI:156295</th>\n",
       "      <td>156295</td>\n",
       "      <td>G-15</td>\n",
       "      <td>369.03644</td>\n",
       "      <td>0.0</td>\n",
       "      <td>C19H16BrNO2</td>\n",
       "      <td>YOLTZIVRJAPVPH-MJCKAROISA-N</td>\n",
       "      <td>BrC=1C([C@@]2(N(C=3C([C@@]4([C@]2(C(C(=C4[H])[...</td>\n",
       "    </tr>\n",
       "    <tr>\n",
       "      <th>CHEBI:195299</th>\n",
       "      <td>195299</td>\n",
       "      <td>Grace_C1_2023</td>\n",
       "      <td>515.17039</td>\n",
       "      <td>0.0</td>\n",
       "      <td>C25H26FN3O8</td>\n",
       "      <td>DHNOULBSVABTDJ-UHFFFAOYSA-N</td>\n",
       "      <td>None</td>\n",
       "    </tr>\n",
       "  </tbody>\n",
       "</table>\n",
       "<p>140990 rows × 7 columns</p>\n",
       "</div>"
      ],
      "text/plain": [
       "              compound_id                         name  monoisotopicmass  \\\n",
       "ChEBI                                                                      \n",
       "CHEBI:32129         32129  diamminesilver(1+) fluoride         159.95659   \n",
       "CHEBI:30340         30340          silver monofluoride         125.90349   \n",
       "CHEBI:51990         51990  tetrabutylammonium fluoride         261.28318   \n",
       "CHEBI:66872         66872           potassium fluoride          57.96211   \n",
       "CHEBI:135933       135933            stannous fluoride         157.89901   \n",
       "...                   ...                          ...               ...   \n",
       "CHEBI:52257         52257                 fluorapatite         503.67162   \n",
       "CHEBI:52258         52258                 chlorapatite         519.64207   \n",
       "CHEBI:156296       156296                          G-1         411.04701   \n",
       "CHEBI:156295       156295                         G-15         369.03644   \n",
       "CHEBI:195299       195299                Grace_C1_2023         515.17039   \n",
       "\n",
       "              charge      formula                     inchikey  \\\n",
       "ChEBI                                                            \n",
       "CHEBI:32129      0.0      AgFH6N2  FJKGRAZQBBWYLG-UHFFFAOYSA-M   \n",
       "CHEBI:30340      0.0          AgF  REYHXKZHIMGNSE-UHFFFAOYSA-M   \n",
       "CHEBI:51990      0.0     C16H36FN  FPGGTKZVZWFYPV-UHFFFAOYSA-M   \n",
       "CHEBI:66872      0.0           FK  NROKBHXJSPEDAR-UHFFFAOYSA-M   \n",
       "CHEBI:135933     0.0         F2Sn  ANOBYBYXJXCGBS-UHFFFAOYSA-L   \n",
       "...              ...          ...                          ...   \n",
       "CHEBI:52257      0.0    Ca5FP3O12                         None   \n",
       "CHEBI:52258      0.0   Ca5ClP3O12                         None   \n",
       "CHEBI:156296     0.0  C21H18BrNO3  VHSVKVWHYFBIFJ-HKZYLEAXSA-N   \n",
       "CHEBI:156295     0.0  C19H16BrNO2  YOLTZIVRJAPVPH-MJCKAROISA-N   \n",
       "CHEBI:195299     0.0  C25H26FN3O8  DHNOULBSVABTDJ-UHFFFAOYSA-N   \n",
       "\n",
       "                                                         smiles  \n",
       "ChEBI                                                            \n",
       "CHEBI:32129          [F-].[H][N]([H])([H])[Ag+][N]([H])([H])[H]  \n",
       "CHEBI:30340                                          [F-].[Ag+]  \n",
       "CHEBI:51990                       [F-].CCCC[N+](CCCC)(CCCC)CCCC  \n",
       "CHEBI:66872                                           [F-].[K+]  \n",
       "CHEBI:135933                                             F[Sn]F  \n",
       "...                                                         ...  \n",
       "CHEBI:52257                                                None  \n",
       "CHEBI:52258                                                None  \n",
       "CHEBI:156296  BrC=1C([C@@]2(N(C3=C([C@]4([C@@]2(C(C(=C4[H])[...  \n",
       "CHEBI:156295  BrC=1C([C@@]2(N(C=3C([C@@]4([C@]2(C(C(=C4[H])[...  \n",
       "CHEBI:195299                                               None  \n",
       "\n",
       "[140990 rows x 7 columns]"
      ]
     },
     "execution_count": 7,
     "metadata": {},
     "output_type": "execute_result"
    }
   ],
   "source": [
    "graph.df"
   ]
  },
  {
   "cell_type": "markdown",
   "id": "038cce51-ddf6-4156-8fa9-90d61a97cc6e",
   "metadata": {},
   "source": [
    "## Some examples"
   ]
  },
  {
   "cell_type": "markdown",
   "id": "5beb8403-aed1-4a45-a95c-98f3f1ece76e",
   "metadata": {},
   "source": [
    "### Creatine"
   ]
  },
  {
   "cell_type": "code",
   "execution_count": 8,
   "id": "9611e401-b99a-47df-88c7-5a6a95459329",
   "metadata": {},
   "outputs": [
    {
     "name": "stdout",
     "output_type": "stream",
     "text": [
      "Local cdn resources have problems on chrome/safari when used in jupyter-notebook. \n",
      "('CHEBI:16919', 'creatine')\n"
     ]
    },
    {
     "data": {
      "text/html": [
       "\n",
       "        <iframe\n",
       "            width=\"1000px\"\n",
       "            height=\"800px\"\n",
       "            src=\"CHEBI16919.html\"\n",
       "            frameborder=\"0\"\n",
       "            allowfullscreen\n",
       "            \n",
       "        ></iframe>\n",
       "        "
      ],
      "text/plain": [
       "<IPython.lib.display.IFrame at 0x7f6635bb3ee0>"
      ]
     },
     "execution_count": 8,
     "metadata": {},
     "output_type": "execute_result"
    }
   ],
   "source": [
    "group, fig = graph.get_subgraph('CHEBI:16919', show=True)\n",
    "print(graph.get_reference_chebi_of_group(group))\n",
    "fig"
   ]
  },
  {
   "cell_type": "markdown",
   "id": "c1557019-6bd7-4675-9297-c9e7ab8270ff",
   "metadata": {},
   "source": [
    "### Mevalonate"
   ]
  },
  {
   "cell_type": "code",
   "execution_count": 9,
   "id": "965988b3-1dfe-40c4-88b7-8a19dabff3a0",
   "metadata": {},
   "outputs": [
    {
     "name": "stdout",
     "output_type": "stream",
     "text": [
      "Local cdn resources have problems on chrome/safari when used in jupyter-notebook. \n",
      "('CHEBI:25351', 'mevalonic acid')\n"
     ]
    },
    {
     "data": {
      "text/html": [
       "\n",
       "        <iframe\n",
       "            width=\"1000px\"\n",
       "            height=\"800px\"\n",
       "            src=\"CHEBI25351.html\"\n",
       "            frameborder=\"0\"\n",
       "            allowfullscreen\n",
       "            \n",
       "        ></iframe>\n",
       "        "
      ],
      "text/plain": [
       "<IPython.lib.display.IFrame at 0x7f6649e77a60>"
      ]
     },
     "execution_count": 9,
     "metadata": {},
     "output_type": "execute_result"
    }
   ],
   "source": [
    "group, fig = graph.get_subgraph('CHEBI:25351', show=True)\n",
    "print(graph.get_reference_chebi_of_group(group))\n",
    "fig"
   ]
  },
  {
   "cell_type": "code",
   "execution_count": 10,
   "id": "8fb34039-2155-4b91-9b10-c6fe34a88a6e",
   "metadata": {},
   "outputs": [
    {
     "name": "stdout",
     "output_type": "stream",
     "text": [
      "Local cdn resources have problems on chrome/safari when used in jupyter-notebook. \n",
      "('CHEBI:17710', '(R)-mevalonic acid')\n"
     ]
    },
    {
     "data": {
      "text/html": [
       "\n",
       "        <iframe\n",
       "            width=\"1000px\"\n",
       "            height=\"800px\"\n",
       "            src=\"CHEBI36464.html\"\n",
       "            frameborder=\"0\"\n",
       "            allowfullscreen\n",
       "            \n",
       "        ></iframe>\n",
       "        "
      ],
      "text/plain": [
       "<IPython.lib.display.IFrame at 0x7f6635bb0be0>"
      ]
     },
     "execution_count": 10,
     "metadata": {},
     "output_type": "execute_result"
    }
   ],
   "source": [
    "group, fig = graph.get_subgraph('CHEBI:36464', show=True)\n",
    "print(graph.get_reference_chebi_of_group(group))\n",
    "fig"
   ]
  },
  {
   "cell_type": "markdown",
   "id": "5cb34c63-b168-46e1-ac41-ef0ffbfad8f2",
   "metadata": {},
   "source": [
    "### Arabitol"
   ]
  },
  {
   "cell_type": "code",
   "execution_count": 11,
   "id": "b65a5ec5-bd0a-4b4d-9e10-f232ad1edf13",
   "metadata": {},
   "outputs": [
    {
     "name": "stdout",
     "output_type": "stream",
     "text": [
      "Local cdn resources have problems on chrome/safari when used in jupyter-notebook. \n",
      "('CHEBI:22605', 'arabinitol')\n"
     ]
    },
    {
     "data": {
      "text/html": [
       "\n",
       "        <iframe\n",
       "            width=\"1000px\"\n",
       "            height=\"800px\"\n",
       "            src=\"CHEBI18333.html\"\n",
       "            frameborder=\"0\"\n",
       "            allowfullscreen\n",
       "            \n",
       "        ></iframe>\n",
       "        "
      ],
      "text/plain": [
       "<IPython.lib.display.IFrame at 0x7f664c633c70>"
      ]
     },
     "execution_count": 11,
     "metadata": {},
     "output_type": "execute_result"
    }
   ],
   "source": [
    "group, fig = graph.get_subgraph('CHEBI:18333', show=True)\n",
    "print(graph.get_reference_chebi_of_group(group))\n",
    "fig"
   ]
  },
  {
   "cell_type": "markdown",
   "id": "c8279d48-a0e2-4f7e-b71e-4446cd2fc7a7",
   "metadata": {},
   "source": [
    "### Aspartic acid"
   ]
  },
  {
   "cell_type": "code",
   "execution_count": 12,
   "id": "78a3c6f5-06df-47ed-a357-6e5dcd837049",
   "metadata": {},
   "outputs": [
    {
     "name": "stdout",
     "output_type": "stream",
     "text": [
      "Local cdn resources have problems on chrome/safari when used in jupyter-notebook. \n",
      "('CHEBI:22660', 'aspartic acid')\n"
     ]
    },
    {
     "data": {
      "text/html": [
       "\n",
       "        <iframe\n",
       "            width=\"1000px\"\n",
       "            height=\"800px\"\n",
       "            src=\"CHEBI22660.html\"\n",
       "            frameborder=\"0\"\n",
       "            allowfullscreen\n",
       "            \n",
       "        ></iframe>\n",
       "        "
      ],
      "text/plain": [
       "<IPython.lib.display.IFrame at 0x7f6635bb13f0>"
      ]
     },
     "execution_count": 12,
     "metadata": {},
     "output_type": "execute_result"
    }
   ],
   "source": [
    "group, fig = graph.get_subgraph('CHEBI:22660', show=True)\n",
    "print(graph.get_reference_chebi_of_group(group))\n",
    "fig"
   ]
  },
  {
   "cell_type": "markdown",
   "id": "009310ea-5fea-4e43-859c-9001b3b5954b",
   "metadata": {},
   "source": [
    "### Ornithine"
   ]
  },
  {
   "cell_type": "code",
   "execution_count": 13,
   "id": "f71a69ba-1492-44cd-87de-be8298eaa6a7",
   "metadata": {},
   "outputs": [
    {
     "name": "stdout",
     "output_type": "stream",
     "text": [
      "Local cdn resources have problems on chrome/safari when used in jupyter-notebook. \n",
      "('CHEBI:18257', 'ornithine')\n"
     ]
    },
    {
     "data": {
      "text/html": [
       "\n",
       "        <iframe\n",
       "            width=\"1000px\"\n",
       "            height=\"800px\"\n",
       "            src=\"CHEBI15729.html\"\n",
       "            frameborder=\"0\"\n",
       "            allowfullscreen\n",
       "            \n",
       "        ></iframe>\n",
       "        "
      ],
      "text/plain": [
       "<IPython.lib.display.IFrame at 0x7f664a20bbe0>"
      ]
     },
     "execution_count": 13,
     "metadata": {},
     "output_type": "execute_result"
    }
   ],
   "source": [
    "group, fig = graph.get_subgraph('CHEBI:15729', show=True)\n",
    "print(graph.get_reference_chebi_of_group(group))\n",
    "fig"
   ]
  },
  {
   "cell_type": "markdown",
   "id": "922414e5-0a1d-4f6b-b35a-58a5dc45e5be",
   "metadata": {},
   "source": [
    "# Fumarate"
   ]
  },
  {
   "cell_type": "code",
   "execution_count": 14,
   "id": "63ece534-408c-450a-afd5-920ed3ec0e9f",
   "metadata": {},
   "outputs": [
    {
     "name": "stdout",
     "output_type": "stream",
     "text": [
      "Local cdn resources have problems on chrome/safari when used in jupyter-notebook. \n",
      "('CHEBI:18300', 'maleic acid')\n"
     ]
    },
    {
     "data": {
      "text/html": [
       "\n",
       "        <iframe\n",
       "            width=\"1000px\"\n",
       "            height=\"800px\"\n",
       "            src=\"CHEBI18012.html\"\n",
       "            frameborder=\"0\"\n",
       "            allowfullscreen\n",
       "            \n",
       "        ></iframe>\n",
       "        "
      ],
      "text/plain": [
       "<IPython.lib.display.IFrame at 0x7f6635637eb0>"
      ]
     },
     "execution_count": 14,
     "metadata": {},
     "output_type": "execute_result"
    }
   ],
   "source": [
    "group, fig = graph.get_subgraph('CHEBI:18012', show=True)\n",
    "print(graph.get_reference_chebi_of_group(group))\n",
    "fig"
   ]
  },
  {
   "cell_type": "markdown",
   "id": "267b413e-e075-487b-9017-78f55b6283d0",
   "metadata": {},
   "source": [
    "# Glucose"
   ]
  },
  {
   "cell_type": "code",
   "execution_count": 15,
   "id": "c4f4422a-ce29-44ea-b57b-585278f57eb8",
   "metadata": {
    "tags": []
   },
   "outputs": [
    {
     "name": "stdout",
     "output_type": "stream",
     "text": [
      "Local cdn resources have problems on chrome/safari when used in jupyter-notebook. \n",
      "('CHEBI:37710', 'talose')\n"
     ]
    },
    {
     "data": {
      "text/html": [
       "\n",
       "        <iframe\n",
       "            width=\"1000px\"\n",
       "            height=\"800px\"\n",
       "            src=\"CHEBI37710.html\"\n",
       "            frameborder=\"0\"\n",
       "            allowfullscreen\n",
       "            \n",
       "        ></iframe>\n",
       "        "
      ],
      "text/plain": [
       "<IPython.lib.display.IFrame at 0x7f664a20a290>"
      ]
     },
     "execution_count": 15,
     "metadata": {},
     "output_type": "execute_result"
    }
   ],
   "source": [
    "group, fig = graph.get_subgraph('CHEBI:37710', show=True)\n",
    "print(graph.get_reference_chebi_of_group(group))\n",
    "fig "
   ]
  },
  {
   "cell_type": "code",
   "execution_count": null,
   "id": "62af1021-ca0a-4105-baa1-efc881302a90",
   "metadata": {},
   "outputs": [],
   "source": []
  },
  {
   "cell_type": "code",
   "execution_count": null,
   "id": "094f2097-534f-4240-9483-124b26b44c24",
   "metadata": {},
   "outputs": [],
   "source": []
  },
  {
   "cell_type": "code",
   "execution_count": 16,
   "id": "01833e48-623f-49ea-98c9-f54bd7a6c676",
   "metadata": {},
   "outputs": [
    {
     "ename": "NameError",
     "evalue": "name 'g' is not defined",
     "output_type": "error",
     "traceback": [
      "\u001b[0;31m---------------------------------------------------------------------------\u001b[0m",
      "\u001b[0;31mNameError\u001b[0m                                 Traceback (most recent call last)",
      "Cell \u001b[0;32mIn[16], line 1\u001b[0m\n\u001b[0;32m----> 1\u001b[0m \u001b[43mg\u001b[49m\n",
      "\u001b[0;31mNameError\u001b[0m: name 'g' is not defined"
     ]
    }
   ],
   "source": [
    "g"
   ]
  },
  {
   "cell_type": "code",
   "execution_count": null,
   "id": "61cd3b74-964b-4bf5-9463-bb573c6bc84c",
   "metadata": {},
   "outputs": [],
   "source": []
  }
 ],
 "metadata": {
  "kernelspec": {
   "display_name": "Chem",
   "language": "python",
   "name": "chem"
  },
  "language_info": {
   "codemirror_mode": {
    "name": "ipython",
    "version": 3
   },
   "file_extension": ".py",
   "mimetype": "text/x-python",
   "name": "python",
   "nbconvert_exporter": "python",
   "pygments_lexer": "ipython3",
   "version": "3.10.8"
  }
 },
 "nbformat": 4,
 "nbformat_minor": 5
}
