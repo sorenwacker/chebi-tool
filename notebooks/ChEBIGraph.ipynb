{
 "cells": [
  {
   "cell_type": "code",
   "execution_count": 1,
   "id": "805e1897-ad44-48b4-b11f-a5ef58f6f99a",
   "metadata": {},
   "outputs": [],
   "source": [
    "from chebi_tools import ChEBIGraph"
   ]
  },
  {
   "cell_type": "code",
   "execution_count": null,
   "id": "30ddf777-b40a-4acc-8125-a62baba7ccc9",
   "metadata": {},
   "outputs": [
    {
     "name": "stderr",
     "output_type": "stream",
     "text": [
      "WARNING:root:Loading topology from: /data/ChEBI/chebi_core.obo\n"
     ]
    }
   ],
   "source": [
    "graph = ChEBIGraph()"
   ]
  },
  {
   "cell_type": "code",
   "execution_count": null,
   "id": "c87c1c72-fb2f-42f1-b8dc-a79db7821f7b",
   "metadata": {},
   "outputs": [],
   "source": [
    "graph.update_df()"
   ]
  },
  {
   "cell_type": "markdown",
   "id": "488dac44-2091-493c-bff1-f62e655fc9b2",
   "metadata": {},
   "source": [
    "## Remove undesired nodes and edges"
   ]
  },
  {
   "cell_type": "code",
   "execution_count": null,
   "id": "32f42773-9812-431f-80c8-cbd963488a2d",
   "metadata": {},
   "outputs": [],
   "source": [
    "graph.remove_unnecessary_nodes()"
   ]
  },
  {
   "cell_type": "code",
   "execution_count": null,
   "id": "4e179550-d549-4e4d-8a9e-2e0145da916b",
   "metadata": {},
   "outputs": [],
   "source": [
    "graph.update_df()"
   ]
  },
  {
   "cell_type": "code",
   "execution_count": null,
   "id": "7417d496-96b4-49df-a67f-8ee6dd08314a",
   "metadata": {},
   "outputs": [],
   "source": [
    "graph.df"
   ]
  },
  {
   "cell_type": "markdown",
   "id": "038cce51-ddf6-4156-8fa9-90d61a97cc6e",
   "metadata": {},
   "source": [
    "## Some examples"
   ]
  },
  {
   "cell_type": "markdown",
   "id": "5beb8403-aed1-4a45-a95c-98f3f1ece76e",
   "metadata": {},
   "source": [
    "### Creatine"
   ]
  },
  {
   "cell_type": "code",
   "execution_count": null,
   "id": "9611e401-b99a-47df-88c7-5a6a95459329",
   "metadata": {},
   "outputs": [],
   "source": [
    "group, fig = graph.get_subgraph('CHEBI:16919', show=True)\n",
    "fig"
   ]
  },
  {
   "cell_type": "code",
   "execution_count": null,
   "id": "3f5fa691-885d-4d6c-bbe1-3d64d2959033",
   "metadata": {},
   "outputs": [],
   "source": [
    "graph.get_reference_chebi_of_group(group)"
   ]
  },
  {
   "cell_type": "markdown",
   "id": "c1557019-6bd7-4675-9297-c9e7ab8270ff",
   "metadata": {},
   "source": [
    "### Mevalonate"
   ]
  },
  {
   "cell_type": "code",
   "execution_count": 7,
   "id": "965988b3-1dfe-40c4-88b7-8a19dabff3a0",
   "metadata": {},
   "outputs": [
    {
     "name": "stdout",
     "output_type": "stream",
     "text": [
      "Local cdn resources have problems on chrome/safari when used in jupyter-notebook. \n"
     ]
    },
    {
     "data": {
      "text/html": [
       "\n",
       "        <iframe\n",
       "            width=\"1000px\"\n",
       "            height=\"800px\"\n",
       "            src=\"CHEBI25351.html\"\n",
       "            frameborder=\"0\"\n",
       "            allowfullscreen\n",
       "            \n",
       "        ></iframe>\n",
       "        "
      ],
      "text/plain": [
       "<IPython.lib.display.IFrame at 0x7f3563954580>"
      ]
     },
     "execution_count": 7,
     "metadata": {},
     "output_type": "execute_result"
    }
   ],
   "source": [
    "a, fig = graph.get_subgraph('CHEBI:25351', show=True)\n",
    "fig"
   ]
  },
  {
   "cell_type": "markdown",
   "id": "5cb34c63-b168-46e1-ac41-ef0ffbfad8f2",
   "metadata": {},
   "source": [
    "### Arabitol"
   ]
  },
  {
   "cell_type": "code",
   "execution_count": 7,
   "id": "b65a5ec5-bd0a-4b4d-9e10-f232ad1edf13",
   "metadata": {},
   "outputs": [
    {
     "name": "stdout",
     "output_type": "stream",
     "text": [
      "Local cdn resources have problems on chrome/safari when used in jupyter-notebook. \n"
     ]
    },
    {
     "data": {
      "text/html": [
       "\n",
       "        <iframe\n",
       "            width=\"1000px\"\n",
       "            height=\"800px\"\n",
       "            src=\"CHEBI18333.html\"\n",
       "            frameborder=\"0\"\n",
       "            allowfullscreen\n",
       "            \n",
       "        ></iframe>\n",
       "        "
      ],
      "text/plain": [
       "<IPython.lib.display.IFrame at 0x7fd680296350>"
      ]
     },
     "execution_count": 7,
     "metadata": {},
     "output_type": "execute_result"
    }
   ],
   "source": [
    "a, fig = graph.get_subgraph('CHEBI:18333', show=True)\n",
    "fig"
   ]
  },
  {
   "cell_type": "markdown",
   "id": "c8279d48-a0e2-4f7e-b71e-4446cd2fc7a7",
   "metadata": {},
   "source": [
    "### Aspartic acid"
   ]
  },
  {
   "cell_type": "code",
   "execution_count": 9,
   "id": "78a3c6f5-06df-47ed-a357-6e5dcd837049",
   "metadata": {},
   "outputs": [
    {
     "name": "stdout",
     "output_type": "stream",
     "text": [
      "Local cdn resources have problems on chrome/safari when used in jupyter-notebook. \n"
     ]
    },
    {
     "data": {
      "text/html": [
       "\n",
       "        <iframe\n",
       "            width=\"1000px\"\n",
       "            height=\"800px\"\n",
       "            src=\"CHEBI22660.html\"\n",
       "            frameborder=\"0\"\n",
       "            allowfullscreen\n",
       "            \n",
       "        ></iframe>\n",
       "        "
      ],
      "text/plain": [
       "<IPython.lib.display.IFrame at 0x7f356813d450>"
      ]
     },
     "execution_count": 9,
     "metadata": {},
     "output_type": "execute_result"
    }
   ],
   "source": [
    "a, fig = graph.get_subgraph('CHEBI:22660', show=True)\n",
    "fig"
   ]
  },
  {
   "cell_type": "code",
   "execution_count": null,
   "id": "cfae04b0-8e72-497a-988b-056bb7da4a23",
   "metadata": {},
   "outputs": [],
   "source": []
  },
  {
   "cell_type": "code",
   "execution_count": null,
   "id": "f71a69ba-1492-44cd-87de-be8298eaa6a7",
   "metadata": {},
   "outputs": [],
   "source": []
  }
 ],
 "metadata": {
  "kernelspec": {
   "display_name": "Chem",
   "language": "python",
   "name": "chem"
  },
  "language_info": {
   "codemirror_mode": {
    "name": "ipython",
    "version": 3
   },
   "file_extension": ".py",
   "mimetype": "text/x-python",
   "name": "python",
   "nbconvert_exporter": "python",
   "pygments_lexer": "ipython3",
   "version": "3.10.8"
  }
 },
 "nbformat": 4,
 "nbformat_minor": 5
}
