{
 "cells": [
  {
   "cell_type": "code",
   "execution_count": 1,
   "id": "805e1897-ad44-48b4-b11f-a5ef58f6f99a",
   "metadata": {},
   "outputs": [],
   "source": [
    "from chebi_tools import ChEBIGraph"
   ]
  },
  {
   "cell_type": "code",
   "execution_count": 2,
   "id": "30ddf777-b40a-4acc-8125-a62baba7ccc9",
   "metadata": {},
   "outputs": [
    {
     "name": "stdout",
     "output_type": "stream",
     "text": [
      "Loading topology from: /data/ChEBI/chebi_core.obo\n"
     ]
    }
   ],
   "source": [
    "graph = ChEBIGraph()"
   ]
  },
  {
   "cell_type": "code",
   "execution_count": 3,
   "id": "c87c1c72-fb2f-42f1-b8dc-a79db7821f7b",
   "metadata": {},
   "outputs": [],
   "source": [
    "graph.update_df()"
   ]
  },
  {
   "cell_type": "markdown",
   "id": "488dac44-2091-493c-bff1-f62e655fc9b2",
   "metadata": {},
   "source": [
    "## Remove undesired nodes and edges"
   ]
  },
  {
   "cell_type": "code",
   "execution_count": 4,
   "id": "32f42773-9812-431f-80c8-cbd963488a2d",
   "metadata": {},
   "outputs": [
    {
     "name": "stdout",
     "output_type": "stream",
     "text": [
      "Removing deuterated compounds\n",
      "Removing oligopeptides\n",
      "Removing dipeptides\n",
      "Removing tripeptides\n",
      "Removing tetrapeptides\n",
      "Removing pentapeptides\n"
     ]
    },
    {
     "name": "stderr",
     "output_type": "stream",
     "text": [
      "WARNING:root:Source CHEBI:25676 is not in G\n"
     ]
    },
    {
     "name": "stdout",
     "output_type": "stream",
     "text": [
      "Removing compound classes nodes\n"
     ]
    },
    {
     "name": "stderr",
     "output_type": "stream",
     "text": [
      "100%|██████████| 162317/162317 [00:00<00:00, 174779.85it/s]\n"
     ]
    },
    {
     "name": "stdout",
     "output_type": "stream",
     "text": [
      "Removing isotopically modified compounds\n"
     ]
    },
    {
     "name": "stderr",
     "output_type": "stream",
     "text": [
      "WARNING:root:Source CHEBI:139358 is not in G\n"
     ]
    }
   ],
   "source": [
    "graph.remove_unnecessary_nodes()"
   ]
  },
  {
   "cell_type": "code",
   "execution_count": 5,
   "id": "4e179550-d549-4e4d-8a9e-2e0145da916b",
   "metadata": {},
   "outputs": [],
   "source": [
    "graph.update_df()"
   ]
  },
  {
   "cell_type": "code",
   "execution_count": 6,
   "id": "7417d496-96b4-49df-a67f-8ee6dd08314a",
   "metadata": {},
   "outputs": [
    {
     "data": {
      "text/html": [
       "<div>\n",
       "<style scoped>\n",
       "    .dataframe tbody tr th:only-of-type {\n",
       "        vertical-align: middle;\n",
       "    }\n",
       "\n",
       "    .dataframe tbody tr th {\n",
       "        vertical-align: top;\n",
       "    }\n",
       "\n",
       "    .dataframe thead th {\n",
       "        text-align: right;\n",
       "    }\n",
       "</style>\n",
       "<table border=\"1\" class=\"dataframe\">\n",
       "  <thead>\n",
       "    <tr style=\"text-align: right;\">\n",
       "      <th></th>\n",
       "      <th>compound_id</th>\n",
       "      <th>name</th>\n",
       "      <th>monoisotopicmass</th>\n",
       "      <th>charge</th>\n",
       "      <th>formula</th>\n",
       "      <th>inchikey</th>\n",
       "      <th>smiles</th>\n",
       "    </tr>\n",
       "    <tr>\n",
       "      <th>ChEBI</th>\n",
       "      <th></th>\n",
       "      <th></th>\n",
       "      <th></th>\n",
       "      <th></th>\n",
       "      <th></th>\n",
       "      <th></th>\n",
       "      <th></th>\n",
       "    </tr>\n",
       "  </thead>\n",
       "  <tbody>\n",
       "    <tr>\n",
       "      <th>CHEBI:32129</th>\n",
       "      <td>32129</td>\n",
       "      <td>diamminesilver(1+) fluoride</td>\n",
       "      <td>159.95659</td>\n",
       "      <td>0.0</td>\n",
       "      <td>AgFH6N2</td>\n",
       "      <td>FJKGRAZQBBWYLG-UHFFFAOYSA-M</td>\n",
       "      <td>[F-].[H][N]([H])([H])[Ag+][N]([H])([H])[H]</td>\n",
       "    </tr>\n",
       "    <tr>\n",
       "      <th>CHEBI:30340</th>\n",
       "      <td>30340</td>\n",
       "      <td>silver monofluoride</td>\n",
       "      <td>125.90349</td>\n",
       "      <td>0.0</td>\n",
       "      <td>AgF</td>\n",
       "      <td>REYHXKZHIMGNSE-UHFFFAOYSA-M</td>\n",
       "      <td>[F-].[Ag+]</td>\n",
       "    </tr>\n",
       "    <tr>\n",
       "      <th>CHEBI:51990</th>\n",
       "      <td>51990</td>\n",
       "      <td>tetrabutylammonium fluoride</td>\n",
       "      <td>261.28318</td>\n",
       "      <td>0.0</td>\n",
       "      <td>C16H36FN</td>\n",
       "      <td>FPGGTKZVZWFYPV-UHFFFAOYSA-M</td>\n",
       "      <td>[F-].CCCC[N+](CCCC)(CCCC)CCCC</td>\n",
       "    </tr>\n",
       "    <tr>\n",
       "      <th>CHEBI:66872</th>\n",
       "      <td>66872</td>\n",
       "      <td>potassium fluoride</td>\n",
       "      <td>57.96211</td>\n",
       "      <td>0.0</td>\n",
       "      <td>FK</td>\n",
       "      <td>NROKBHXJSPEDAR-UHFFFAOYSA-M</td>\n",
       "      <td>[F-].[K+]</td>\n",
       "    </tr>\n",
       "    <tr>\n",
       "      <th>CHEBI:135933</th>\n",
       "      <td>135933</td>\n",
       "      <td>stannous fluoride</td>\n",
       "      <td>157.89901</td>\n",
       "      <td>0.0</td>\n",
       "      <td>F2Sn</td>\n",
       "      <td>ANOBYBYXJXCGBS-UHFFFAOYSA-L</td>\n",
       "      <td>F[Sn]F</td>\n",
       "    </tr>\n",
       "    <tr>\n",
       "      <th>...</th>\n",
       "      <td>...</td>\n",
       "      <td>...</td>\n",
       "      <td>...</td>\n",
       "      <td>...</td>\n",
       "      <td>...</td>\n",
       "      <td>...</td>\n",
       "      <td>...</td>\n",
       "    </tr>\n",
       "    <tr>\n",
       "      <th>CHEBI:140503</th>\n",
       "      <td>140503</td>\n",
       "      <td>kaolin</td>\n",
       "      <td>257.90246</td>\n",
       "      <td>0.0</td>\n",
       "      <td>Al2H4O9Si2</td>\n",
       "      <td>NLYAJNPCOHFWQQ-UHFFFAOYSA-N</td>\n",
       "      <td>[Al](O[Si](O[Si](O[Al]=O)=O)=O)=O.O.O</td>\n",
       "    </tr>\n",
       "    <tr>\n",
       "      <th>CHEBI:81948</th>\n",
       "      <td>81948</td>\n",
       "      <td>tralkoxydim</td>\n",
       "      <td>329.19909</td>\n",
       "      <td>0.0</td>\n",
       "      <td>C20H27NO3</td>\n",
       "      <td>DQFPEYARZIQXRM-LTGZKZEYSA-N</td>\n",
       "      <td>CCO\\\\N=C(CC)\\\\C1=C(O)CC(CC1=O)c1c(C)cc(C)cc1C</td>\n",
       "    </tr>\n",
       "    <tr>\n",
       "      <th>CHEBI:140499</th>\n",
       "      <td>140499</td>\n",
       "      <td>kaolinite</td>\n",
       "      <td>257.90246</td>\n",
       "      <td>0.0</td>\n",
       "      <td>Al2H4O9Si2</td>\n",
       "      <td>CYPPCCJJKNISFK-UHFFFAOYSA-J</td>\n",
       "      <td>[OH-].[OH-].[OH-].[OH-].O=[Si]([O-])O[Si](=O)[...</td>\n",
       "    </tr>\n",
       "    <tr>\n",
       "      <th>CHEBI:156296</th>\n",
       "      <td>156296</td>\n",
       "      <td>G-1</td>\n",
       "      <td>411.04701</td>\n",
       "      <td>0.0</td>\n",
       "      <td>C21H18BrNO3</td>\n",
       "      <td>VHSVKVWHYFBIFJ-HKZYLEAXSA-N</td>\n",
       "      <td>BrC=1C([C@@]2(N(C3=C([C@]4([C@@]2(C(C(=C4[H])[...</td>\n",
       "    </tr>\n",
       "    <tr>\n",
       "      <th>CHEBI:156295</th>\n",
       "      <td>156295</td>\n",
       "      <td>G-15</td>\n",
       "      <td>369.03644</td>\n",
       "      <td>0.0</td>\n",
       "      <td>C19H16BrNO2</td>\n",
       "      <td>YOLTZIVRJAPVPH-MJCKAROISA-N</td>\n",
       "      <td>BrC=1C([C@@]2(N(C=3C([C@@]4([C@]2(C(C(=C4[H])[...</td>\n",
       "    </tr>\n",
       "  </tbody>\n",
       "</table>\n",
       "<p>133716 rows × 7 columns</p>\n",
       "</div>"
      ],
      "text/plain": [
       "              compound_id                         name  monoisotopicmass  \\\n",
       "ChEBI                                                                      \n",
       "CHEBI:32129         32129  diamminesilver(1+) fluoride         159.95659   \n",
       "CHEBI:30340         30340          silver monofluoride         125.90349   \n",
       "CHEBI:51990         51990  tetrabutylammonium fluoride         261.28318   \n",
       "CHEBI:66872         66872           potassium fluoride          57.96211   \n",
       "CHEBI:135933       135933            stannous fluoride         157.89901   \n",
       "...                   ...                          ...               ...   \n",
       "CHEBI:140503       140503                       kaolin         257.90246   \n",
       "CHEBI:81948         81948                  tralkoxydim         329.19909   \n",
       "CHEBI:140499       140499                    kaolinite         257.90246   \n",
       "CHEBI:156296       156296                          G-1         411.04701   \n",
       "CHEBI:156295       156295                         G-15         369.03644   \n",
       "\n",
       "              charge      formula                     inchikey  \\\n",
       "ChEBI                                                            \n",
       "CHEBI:32129      0.0      AgFH6N2  FJKGRAZQBBWYLG-UHFFFAOYSA-M   \n",
       "CHEBI:30340      0.0          AgF  REYHXKZHIMGNSE-UHFFFAOYSA-M   \n",
       "CHEBI:51990      0.0     C16H36FN  FPGGTKZVZWFYPV-UHFFFAOYSA-M   \n",
       "CHEBI:66872      0.0           FK  NROKBHXJSPEDAR-UHFFFAOYSA-M   \n",
       "CHEBI:135933     0.0         F2Sn  ANOBYBYXJXCGBS-UHFFFAOYSA-L   \n",
       "...              ...          ...                          ...   \n",
       "CHEBI:140503     0.0   Al2H4O9Si2  NLYAJNPCOHFWQQ-UHFFFAOYSA-N   \n",
       "CHEBI:81948      0.0    C20H27NO3  DQFPEYARZIQXRM-LTGZKZEYSA-N   \n",
       "CHEBI:140499     0.0   Al2H4O9Si2  CYPPCCJJKNISFK-UHFFFAOYSA-J   \n",
       "CHEBI:156296     0.0  C21H18BrNO3  VHSVKVWHYFBIFJ-HKZYLEAXSA-N   \n",
       "CHEBI:156295     0.0  C19H16BrNO2  YOLTZIVRJAPVPH-MJCKAROISA-N   \n",
       "\n",
       "                                                         smiles  \n",
       "ChEBI                                                            \n",
       "CHEBI:32129          [F-].[H][N]([H])([H])[Ag+][N]([H])([H])[H]  \n",
       "CHEBI:30340                                          [F-].[Ag+]  \n",
       "CHEBI:51990                       [F-].CCCC[N+](CCCC)(CCCC)CCCC  \n",
       "CHEBI:66872                                           [F-].[K+]  \n",
       "CHEBI:135933                                             F[Sn]F  \n",
       "...                                                         ...  \n",
       "CHEBI:140503              [Al](O[Si](O[Si](O[Al]=O)=O)=O)=O.O.O  \n",
       "CHEBI:81948       CCO\\\\N=C(CC)\\\\C1=C(O)CC(CC1=O)c1c(C)cc(C)cc1C  \n",
       "CHEBI:140499  [OH-].[OH-].[OH-].[OH-].O=[Si]([O-])O[Si](=O)[...  \n",
       "CHEBI:156296  BrC=1C([C@@]2(N(C3=C([C@]4([C@@]2(C(C(=C4[H])[...  \n",
       "CHEBI:156295  BrC=1C([C@@]2(N(C=3C([C@@]4([C@]2(C(C(=C4[H])[...  \n",
       "\n",
       "[133716 rows x 7 columns]"
      ]
     },
     "execution_count": 6,
     "metadata": {},
     "output_type": "execute_result"
    }
   ],
   "source": [
    "graph.df"
   ]
  },
  {
   "cell_type": "markdown",
   "id": "038cce51-ddf6-4156-8fa9-90d61a97cc6e",
   "metadata": {},
   "source": [
    "## Some examples"
   ]
  },
  {
   "cell_type": "markdown",
   "id": "c1557019-6bd7-4675-9297-c9e7ab8270ff",
   "metadata": {},
   "source": [
    "### Mevalonate"
   ]
  },
  {
   "cell_type": "code",
   "execution_count": 7,
   "id": "965988b3-1dfe-40c4-88b7-8a19dabff3a0",
   "metadata": {},
   "outputs": [
    {
     "name": "stdout",
     "output_type": "stream",
     "text": [
      "Local cdn resources have problems on chrome/safari when used in jupyter-notebook. \n"
     ]
    },
    {
     "data": {
      "text/html": [
       "\n",
       "        <iframe\n",
       "            width=\"1000px\"\n",
       "            height=\"800px\"\n",
       "            src=\"CHEBI25351.html\"\n",
       "            frameborder=\"0\"\n",
       "            allowfullscreen\n",
       "            \n",
       "        ></iframe>\n",
       "        "
      ],
      "text/plain": [
       "<IPython.lib.display.IFrame at 0x7f3563954580>"
      ]
     },
     "execution_count": 7,
     "metadata": {},
     "output_type": "execute_result"
    }
   ],
   "source": [
    "a, fig = graph.get_subgraph('CHEBI:25351', show=True)\n",
    "fig"
   ]
  },
  {
   "cell_type": "markdown",
   "id": "5cb34c63-b168-46e1-ac41-ef0ffbfad8f2",
   "metadata": {},
   "source": [
    "### Arabitol"
   ]
  },
  {
   "cell_type": "code",
   "execution_count": 8,
   "id": "b65a5ec5-bd0a-4b4d-9e10-f232ad1edf13",
   "metadata": {},
   "outputs": [
    {
     "name": "stdout",
     "output_type": "stream",
     "text": [
      "Local cdn resources have problems on chrome/safari when used in jupyter-notebook. \n"
     ]
    },
    {
     "data": {
      "text/html": [
       "\n",
       "        <iframe\n",
       "            width=\"1000px\"\n",
       "            height=\"800px\"\n",
       "            src=\"CHEBI18333.html\"\n",
       "            frameborder=\"0\"\n",
       "            allowfullscreen\n",
       "            \n",
       "        ></iframe>\n",
       "        "
      ],
      "text/plain": [
       "<IPython.lib.display.IFrame at 0x7f35728e5270>"
      ]
     },
     "execution_count": 8,
     "metadata": {},
     "output_type": "execute_result"
    }
   ],
   "source": [
    "a, fig = graph.get_subgraph('CHEBI:18333', show=True)\n",
    "fig"
   ]
  },
  {
   "cell_type": "markdown",
   "id": "c8279d48-a0e2-4f7e-b71e-4446cd2fc7a7",
   "metadata": {},
   "source": [
    "### Aspartic acid"
   ]
  },
  {
   "cell_type": "code",
   "execution_count": 9,
   "id": "78a3c6f5-06df-47ed-a357-6e5dcd837049",
   "metadata": {},
   "outputs": [
    {
     "name": "stdout",
     "output_type": "stream",
     "text": [
      "Local cdn resources have problems on chrome/safari when used in jupyter-notebook. \n"
     ]
    },
    {
     "data": {
      "text/html": [
       "\n",
       "        <iframe\n",
       "            width=\"1000px\"\n",
       "            height=\"800px\"\n",
       "            src=\"CHEBI22660.html\"\n",
       "            frameborder=\"0\"\n",
       "            allowfullscreen\n",
       "            \n",
       "        ></iframe>\n",
       "        "
      ],
      "text/plain": [
       "<IPython.lib.display.IFrame at 0x7f356813d450>"
      ]
     },
     "execution_count": 9,
     "metadata": {},
     "output_type": "execute_result"
    }
   ],
   "source": [
    "a, fig = graph.get_subgraph('CHEBI:22660', show=True)\n",
    "fig"
   ]
  },
  {
   "cell_type": "code",
   "execution_count": null,
   "id": "cfae04b0-8e72-497a-988b-056bb7da4a23",
   "metadata": {},
   "outputs": [],
   "source": []
  },
  {
   "cell_type": "code",
   "execution_count": null,
   "id": "f71a69ba-1492-44cd-87de-be8298eaa6a7",
   "metadata": {},
   "outputs": [],
   "source": []
  }
 ],
 "metadata": {
  "kernelspec": {
   "display_name": "Chem",
   "language": "python",
   "name": "chem"
  },
  "language_info": {
   "codemirror_mode": {
    "name": "ipython",
    "version": 3
   },
   "file_extension": ".py",
   "mimetype": "text/x-python",
   "name": "python",
   "nbconvert_exporter": "python",
   "pygments_lexer": "ipython3",
   "version": "3.10.8"
  }
 },
 "nbformat": 4,
 "nbformat_minor": 5
}
