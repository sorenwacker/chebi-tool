{
 "cells": [
  {
   "cell_type": "code",
   "execution_count": 12,
   "id": "805e1897-ad44-48b4-b11f-a5ef58f6f99a",
   "metadata": {},
   "outputs": [],
   "source": [
    "from chebi_tools import ChEBIGraph"
   ]
  },
  {
   "cell_type": "code",
   "execution_count": 13,
   "id": "30ddf777-b40a-4acc-8125-a62baba7ccc9",
   "metadata": {},
   "outputs": [
    {
     "name": "stdout",
     "output_type": "stream",
     "text": [
      "Loading topology from: /data/ChEBI/chebi_core.obo\n"
     ]
    }
   ],
   "source": [
    "graph = ChEBIGraph()"
   ]
  },
  {
   "cell_type": "code",
   "execution_count": null,
   "id": "32f42773-9812-431f-80c8-cbd963488a2d",
   "metadata": {},
   "outputs": [
    {
     "name": "stdout",
     "output_type": "stream",
     "text": [
      "Removing deuterated compounds\n",
      "Removing oligopeptides\n",
      "Removing dipeptides\n",
      "Removing tripeptides\n",
      "Removing tetrapeptides\n"
     ]
    }
   ],
   "source": [
    "graph.remove_unnecessary_nodes()"
   ]
  },
  {
   "cell_type": "code",
   "execution_count": null,
   "id": "4e179550-d549-4e4d-8a9e-2e0145da916b",
   "metadata": {},
   "outputs": [],
   "source": [
    "graph.update_df()"
   ]
  },
  {
   "cell_type": "code",
   "execution_count": null,
   "id": "7417d496-96b4-49df-a67f-8ee6dd08314a",
   "metadata": {},
   "outputs": [],
   "source": [
    "graph.df"
   ]
  },
  {
   "cell_type": "markdown",
   "id": "c1557019-6bd7-4675-9297-c9e7ab8270ff",
   "metadata": {},
   "source": [
    "# Mevalonate"
   ]
  },
  {
   "cell_type": "code",
   "execution_count": null,
   "id": "965988b3-1dfe-40c4-88b7-8a19dabff3a0",
   "metadata": {},
   "outputs": [],
   "source": [
    "a, fig = graph.get_subgraph('CHEBI:25351', show=True)\n",
    "fig"
   ]
  },
  {
   "cell_type": "markdown",
   "id": "5cb34c63-b168-46e1-ac41-ef0ffbfad8f2",
   "metadata": {},
   "source": [
    "# Arabitol"
   ]
  },
  {
   "cell_type": "code",
   "execution_count": null,
   "id": "b65a5ec5-bd0a-4b4d-9e10-f232ad1edf13",
   "metadata": {},
   "outputs": [],
   "source": [
    "a, fig = graph.get_subgraph('CHEBI:18333', show=True)\n",
    "fig"
   ]
  },
  {
   "cell_type": "markdown",
   "id": "c8279d48-a0e2-4f7e-b71e-4446cd2fc7a7",
   "metadata": {},
   "source": [
    "# Aspartic acid"
   ]
  },
  {
   "cell_type": "code",
   "execution_count": null,
   "id": "78a3c6f5-06df-47ed-a357-6e5dcd837049",
   "metadata": {},
   "outputs": [],
   "source": [
    "a, fig = graph.get_subgraph('CHEBI:22660', show=True)\n",
    "fig"
   ]
  },
  {
   "cell_type": "code",
   "execution_count": null,
   "id": "cfae04b0-8e72-497a-988b-056bb7da4a23",
   "metadata": {},
   "outputs": [],
   "source": []
  }
 ],
 "metadata": {
  "kernelspec": {
   "display_name": "Chem",
   "language": "python",
   "name": "chem"
  },
  "language_info": {
   "codemirror_mode": {
    "name": "ipython",
    "version": 3
   },
   "file_extension": ".py",
   "mimetype": "text/x-python",
   "name": "python",
   "nbconvert_exporter": "python",
   "pygments_lexer": "ipython3",
   "version": "3.10.8"
  }
 },
 "nbformat": 4,
 "nbformat_minor": 5
}
