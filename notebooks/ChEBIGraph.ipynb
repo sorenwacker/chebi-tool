{
 "cells": [
  {
   "cell_type": "code",
   "execution_count": 1,
   "id": "805e1897-ad44-48b4-b11f-a5ef58f6f99a",
   "metadata": {},
   "outputs": [],
   "source": [
    "from chebi_tools import ChEBIGraph"
   ]
  },
  {
   "cell_type": "code",
   "execution_count": 2,
   "id": "30ddf777-b40a-4acc-8125-a62baba7ccc9",
   "metadata": {},
   "outputs": [
    {
     "name": "stderr",
     "output_type": "stream",
     "text": [
      "WARNING:root:Loading topology from: /data/ChEBI/chebi_core.obo\n"
     ]
    }
   ],
   "source": [
    "graph = ChEBIGraph()"
   ]
  },
  {
   "cell_type": "code",
   "execution_count": 3,
   "id": "c87c1c72-fb2f-42f1-b8dc-a79db7821f7b",
   "metadata": {},
   "outputs": [],
   "source": [
    "graph.update_df()"
   ]
  },
  {
   "cell_type": "code",
   "execution_count": 4,
   "id": "a7ade102-c0bd-4be3-b95f-9d1c8ed7922f",
   "metadata": {},
   "outputs": [
    {
     "data": {
      "text/plain": [
       "\u001b[0;31mSignature:\u001b[0m \u001b[0mgraph\u001b[0m\u001b[0;34m.\u001b[0m\u001b[0mupdate_df\u001b[0m\u001b[0;34m(\u001b[0m\u001b[0;34m)\u001b[0m\u001b[0;34m\u001b[0m\u001b[0;34m\u001b[0m\u001b[0m\n",
       "\u001b[0;31mDocstring:\u001b[0m <no docstring>\n",
       "\u001b[0;31mFile:\u001b[0m      ~/workspace/chebi-tools/chebi_tools/ChEBIGraph.py\n",
       "\u001b[0;31mType:\u001b[0m      method"
      ]
     },
     "metadata": {},
     "output_type": "display_data"
    }
   ],
   "source": [
    "graph.update_df?"
   ]
  },
  {
   "cell_type": "code",
   "execution_count": 8,
   "id": "5e1020a7-799c-4d86-b014-453c1753e1a8",
   "metadata": {},
   "outputs": [
    {
     "data": {
      "text/plain": [
       "{'name': '(R)-mevalonate',\n",
       " 'alt_id': ['CHEBI:11005', 'CHEBI:18690', 'CHEBI:43870'],\n",
       " 'subset': ['3_STAR'],\n",
       " 'def': '\"The (R)-enantiomer of mevalonate.\" []',\n",
       " 'property_value': ['http://purl.obolibrary.org/obo/chebi/charge \"-1\" xsd:string',\n",
       "  'http://purl.obolibrary.org/obo/chebi/monoisotopicmass \"147.06628\" xsd:string',\n",
       "  'http://purl.obolibrary.org/obo/chebi/formula \"C6H11O4\" xsd:string',\n",
       "  'http://purl.obolibrary.org/obo/chebi/mass \"147.151\" xsd:string',\n",
       "  'http://purl.obolibrary.org/obo/chebi/inchikey \"KJTLQQUUPVSXIM-ZCFIWIBFSA-M\" xsd:string',\n",
       "  'http://purl.obolibrary.org/obo/chebi/smiles \"C[C@@](O)(CCO)CC([O-])=O\" xsd:string',\n",
       "  'http://purl.obolibrary.org/obo/chebi/inchi \"InChI=1S/C6H12O4/c1-6(10,2-3-7)4-5(8)9/h7,10H,2-4H2,1H3,(H,8,9)/p-1/t6-/m1/s1\" xsd:string'],\n",
       " 'relationship': ['is_enantiomer_of CHEBI:18790',\n",
       "  'has_role CHEBI:77746',\n",
       "  'has_role CHEBI:75772',\n",
       "  'is_conjugate_base_of CHEBI:17710'],\n",
       " 'is_a': ['CHEBI:194520']}"
      ]
     },
     "execution_count": 8,
     "metadata": {},
     "output_type": "execute_result"
    }
   ],
   "source": [
    "graph.nodes['CHEBI:36464']"
   ]
  },
  {
   "cell_type": "markdown",
   "id": "488dac44-2091-493c-bff1-f62e655fc9b2",
   "metadata": {},
   "source": [
    "## Remove undesired nodes and edges"
   ]
  },
  {
   "cell_type": "code",
   "execution_count": null,
   "id": "32f42773-9812-431f-80c8-cbd963488a2d",
   "metadata": {},
   "outputs": [
    {
     "name": "stderr",
     "output_type": "stream",
     "text": [
      "WARNING:root:Removing deuterated compounds\n",
      "WARNING:root:Removing oligopeptides\n",
      "WARNING:root:Removing dipeptides\n"
     ]
    }
   ],
   "source": [
    "graph.remove_unnecessary_nodes()"
   ]
  },
  {
   "cell_type": "code",
   "execution_count": null,
   "id": "4e179550-d549-4e4d-8a9e-2e0145da916b",
   "metadata": {},
   "outputs": [],
   "source": [
    "graph.update_df()"
   ]
  },
  {
   "cell_type": "code",
   "execution_count": null,
   "id": "7417d496-96b4-49df-a67f-8ee6dd08314a",
   "metadata": {},
   "outputs": [],
   "source": [
    "graph.df"
   ]
  },
  {
   "cell_type": "markdown",
   "id": "038cce51-ddf6-4156-8fa9-90d61a97cc6e",
   "metadata": {},
   "source": [
    "## Some examples"
   ]
  },
  {
   "cell_type": "markdown",
   "id": "5beb8403-aed1-4a45-a95c-98f3f1ece76e",
   "metadata": {},
   "source": [
    "### Creatine"
   ]
  },
  {
   "cell_type": "code",
   "execution_count": null,
   "id": "9611e401-b99a-47df-88c7-5a6a95459329",
   "metadata": {},
   "outputs": [],
   "source": [
    "group, fig = graph.get_subgraph('CHEBI:16919', show=True)\n",
    "print(graph.get_reference_chebi_of_group(group))\n",
    "fig"
   ]
  },
  {
   "cell_type": "markdown",
   "id": "c1557019-6bd7-4675-9297-c9e7ab8270ff",
   "metadata": {},
   "source": [
    "### Mevalonate"
   ]
  },
  {
   "cell_type": "code",
   "execution_count": null,
   "id": "965988b3-1dfe-40c4-88b7-8a19dabff3a0",
   "metadata": {},
   "outputs": [],
   "source": [
    "group, fig = graph.get_subgraph('CHEBI:25351', show=True)\n",
    "print(graph.get_reference_chebi_of_group(group))\n",
    "fig"
   ]
  },
  {
   "cell_type": "code",
   "execution_count": null,
   "id": "8fb34039-2155-4b91-9b10-c6fe34a88a6e",
   "metadata": {},
   "outputs": [],
   "source": [
    "group, fig = graph.get_subgraph('CHEBI:36464', show=True)\n",
    "print(graph.get_reference_chebi_of_group(group))\n",
    "fig"
   ]
  },
  {
   "cell_type": "markdown",
   "id": "5cb34c63-b168-46e1-ac41-ef0ffbfad8f2",
   "metadata": {},
   "source": [
    "### Arabitol"
   ]
  },
  {
   "cell_type": "code",
   "execution_count": null,
   "id": "b65a5ec5-bd0a-4b4d-9e10-f232ad1edf13",
   "metadata": {},
   "outputs": [],
   "source": [
    "group, fig = graph.get_subgraph('CHEBI:18333', show=True)\n",
    "print(graph.get_reference_chebi_of_group(group))\n",
    "fig"
   ]
  },
  {
   "cell_type": "markdown",
   "id": "c8279d48-a0e2-4f7e-b71e-4446cd2fc7a7",
   "metadata": {},
   "source": [
    "### Aspartic acid"
   ]
  },
  {
   "cell_type": "code",
   "execution_count": null,
   "id": "78a3c6f5-06df-47ed-a357-6e5dcd837049",
   "metadata": {},
   "outputs": [],
   "source": [
    "group, fig = graph.get_subgraph('CHEBI:22660', show=True)\n",
    "print(graph.get_reference_chebi_of_group(group))\n",
    "fig"
   ]
  },
  {
   "cell_type": "markdown",
   "id": "009310ea-5fea-4e43-859c-9001b3b5954b",
   "metadata": {},
   "source": [
    "### Ornithine"
   ]
  },
  {
   "cell_type": "code",
   "execution_count": null,
   "id": "f71a69ba-1492-44cd-87de-be8298eaa6a7",
   "metadata": {},
   "outputs": [],
   "source": [
    "group, fig = graph.get_subgraph('CHEBI:15729', show=True)\n",
    "print(graph.get_reference_chebi_of_group(group))\n",
    "fig"
   ]
  },
  {
   "cell_type": "markdown",
   "id": "922414e5-0a1d-4f6b-b35a-58a5dc45e5be",
   "metadata": {},
   "source": [
    "# Fumarate"
   ]
  },
  {
   "cell_type": "code",
   "execution_count": null,
   "id": "63ece534-408c-450a-afd5-920ed3ec0e9f",
   "metadata": {},
   "outputs": [],
   "source": [
    "group, fig = graph.get_subgraph('CHEBI:18012', show=True)\n",
    "print(graph.get_reference_chebi_of_group(group))\n",
    "fig"
   ]
  },
  {
   "cell_type": "markdown",
   "id": "267b413e-e075-487b-9017-78f55b6283d0",
   "metadata": {},
   "source": [
    "# Glucose"
   ]
  },
  {
   "cell_type": "code",
   "execution_count": null,
   "id": "c4f4422a-ce29-44ea-b57b-585278f57eb8",
   "metadata": {
    "tags": []
   },
   "outputs": [],
   "source": [
    "group, fig = graph.get_subgraph('CHEBI:37710', show=True)\n",
    "print(graph.get_reference_chebi_of_group(group))\n",
    "fig "
   ]
  },
  {
   "cell_type": "code",
   "execution_count": null,
   "id": "62af1021-ca0a-4105-baa1-efc881302a90",
   "metadata": {},
   "outputs": [],
   "source": []
  },
  {
   "cell_type": "code",
   "execution_count": null,
   "id": "094f2097-534f-4240-9483-124b26b44c24",
   "metadata": {},
   "outputs": [],
   "source": []
  },
  {
   "cell_type": "code",
   "execution_count": null,
   "id": "01833e48-623f-49ea-98c9-f54bd7a6c676",
   "metadata": {},
   "outputs": [],
   "source": [
    "g"
   ]
  },
  {
   "cell_type": "code",
   "execution_count": null,
   "id": "61cd3b74-964b-4bf5-9463-bb573c6bc84c",
   "metadata": {},
   "outputs": [],
   "source": []
  }
 ],
 "metadata": {
  "kernelspec": {
   "display_name": "Chem",
   "language": "python",
   "name": "chem"
  },
  "language_info": {
   "codemirror_mode": {
    "name": "ipython",
    "version": 3
   },
   "file_extension": ".py",
   "mimetype": "text/x-python",
   "name": "python",
   "nbconvert_exporter": "python",
   "pygments_lexer": "ipython3",
   "version": "3.10.8"
  }
 },
 "nbformat": 4,
 "nbformat_minor": 5
}
