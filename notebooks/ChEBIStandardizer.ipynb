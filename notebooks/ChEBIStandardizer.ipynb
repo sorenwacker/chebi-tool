{
 "cells": [
  {
   "cell_type": "code",
   "execution_count": 1,
   "id": "f5f22083-b85e-4c5e-ba95-ed65d061d84e",
   "metadata": {},
   "outputs": [],
   "source": [
    "from chebi_tools import ChEBIStandardizer"
   ]
  },
  {
   "cell_type": "code",
   "execution_count": 2,
   "id": "e7524b2d-2bf2-4586-92b1-bf4ff369f130",
   "metadata": {},
   "outputs": [],
   "source": [
    "std = ChEBIStandardizer()"
   ]
  },
  {
   "cell_type": "markdown",
   "id": "7521bf70-3b8f-4024-a1bd-9071020ee0d2",
   "metadata": {},
   "source": [
    "# Find standardized name records"
   ]
  },
  {
   "cell_type": "code",
   "execution_count": 3,
   "id": "2e103e63-ace9-43fa-a4d2-55df8708588b",
   "metadata": {},
   "outputs": [
    {
     "name": "stderr",
     "output_type": "stream",
     "text": [
      "WARNING:root:Multiple matches for \"glucosamine\":\n",
      "                       SOURCE  COMPOUND_ID         NAME        TYPE\n",
      "NAME_lowercase                                                     \n",
      "glucosamine     KEGG COMPOUND         5417  Glucosamine     SYNONYM\n",
      "glucosamine             IUPAC         5417  glucosamine  IUPAC NAME\n",
      "glucosamine     KEGG COMPOUND         5417  glucosamine         NaN\n",
      "Taking first entry.\n"
     ]
    },
    {
     "data": {
      "text/plain": [
       "{'CHEBI': 'CHEBI:5417',\n",
       " 'REF_CHEBI': 'CHEBI:5417',\n",
       " 'REF_NAME': 'Glucosamine',\n",
       " 'EXACT_MATCH': True,\n",
       " 'COMPOUND_ID': 5417,\n",
       " 'SMILES': None,\n",
       " 'QUERY': 'Glucosamine'}"
      ]
     },
     "execution_count": 3,
     "metadata": {},
     "output_type": "execute_result"
    }
   ],
   "source": [
    "std.process('Glucosamine')"
   ]
  },
  {
   "cell_type": "code",
   "execution_count": 4,
   "id": "dea2d4e2-baff-48d5-893b-5bb0915e720b",
   "metadata": {},
   "outputs": [
    {
     "name": "stderr",
     "output_type": "stream",
     "text": [
      "WARNING:root:Multiple matches for \"glutathione\":\n",
      "                       SOURCE  COMPOUND_ID         NAME     TYPE\n",
      "NAME_lowercase                                                  \n",
      "glutathione     KEGG COMPOUND        16856  Glutathione  SYNONYM\n",
      "glutathione           UniProt        57925  glutathione     NAME\n",
      "glutathione             ChEBI        16856  glutathione      NaN\n",
      "Taking first entry.\n",
      "ERROR:root:16856\n"
     ]
    },
    {
     "data": {
      "text/plain": [
       "{'COMPOUND_ID': 16856,\n",
       " 'EXACT_MATCH': True,\n",
       " 'CHEBI': 'CHEBI:16856',\n",
       " 'REF_NAME': '',\n",
       " 'REF_CHEBI': '',\n",
       " 'SMILES': 'N[C@@H](CCC(=O)N[C@@H](CS)C(=O)NCC(=O)O)C(=O)O',\n",
       " 'QUERY': 'glutathione'}"
      ]
     },
     "execution_count": 4,
     "metadata": {},
     "output_type": "execute_result"
    }
   ],
   "source": [
    "std.process('glutathione')"
   ]
  },
  {
   "cell_type": "code",
   "execution_count": 5,
   "id": "7f2bd06f-97ed-4039-bd63-de51f98c668a",
   "metadata": {},
   "outputs": [
    {
     "name": "stderr",
     "output_type": "stream",
     "text": [
      "WARNING:root:Multiple matches for \"glutathione\":\n",
      "                       SOURCE  COMPOUND_ID         NAME     TYPE\n",
      "NAME_lowercase                                                  \n",
      "glutathione     KEGG COMPOUND        16856  Glutathione  SYNONYM\n",
      "glutathione           UniProt        57925  glutathione     NAME\n",
      "glutathione             ChEBI        16856  glutathione      NaN\n",
      "Taking first entry.\n",
      "ERROR:root:16856\n",
      "WARNING:root:Multiple matches for \"glutathione\":\n",
      "                       SOURCE  COMPOUND_ID         NAME     TYPE\n",
      "NAME_lowercase                                                  \n",
      "glutathione     KEGG COMPOUND        16856  Glutathione  SYNONYM\n",
      "glutathione           UniProt        57925  glutathione     NAME\n",
      "glutathione             ChEBI        16856  glutathione      NaN\n",
      "Taking first entry.\n",
      "ERROR:root:16856\n",
      "WARNING:root:Multiple matches for \"glucosamine\":\n",
      "                       SOURCE  COMPOUND_ID         NAME        TYPE\n",
      "NAME_lowercase                                                     \n",
      "glucosamine     KEGG COMPOUND         5417  Glucosamine     SYNONYM\n",
      "glucosamine             IUPAC         5417  glucosamine  IUPAC NAME\n",
      "glucosamine     KEGG COMPOUND         5417  glucosamine         NaN\n",
      "Taking first entry.\n",
      "WARNING:root:Multiple matches for \"creatine\":\n",
      "                       SOURCE  COMPOUND_ID      NAME     TYPE\n",
      "NAME_lowercase                                               \n",
      "creatine        KEGG COMPOUND        16919  Creatine  SYNONYM\n",
      "creatine              UniProt        57947  creatine     NAME\n",
      "creatine                ChEBI        16919  creatine      NaN\n",
      "Taking first entry.\n"
     ]
    },
    {
     "data": {
      "text/html": [
       "<div>\n",
       "<style scoped>\n",
       "    .dataframe tbody tr th:only-of-type {\n",
       "        vertical-align: middle;\n",
       "    }\n",
       "\n",
       "    .dataframe tbody tr th {\n",
       "        vertical-align: top;\n",
       "    }\n",
       "\n",
       "    .dataframe thead th {\n",
       "        text-align: right;\n",
       "    }\n",
       "</style>\n",
       "<table border=\"1\" class=\"dataframe\">\n",
       "  <thead>\n",
       "    <tr style=\"text-align: right;\">\n",
       "      <th></th>\n",
       "      <th>QUERY</th>\n",
       "      <th>CHEBI</th>\n",
       "      <th>REF_CHEBI</th>\n",
       "      <th>REF_NAME</th>\n",
       "      <th>EXACT_MATCH</th>\n",
       "      <th>SMILES</th>\n",
       "    </tr>\n",
       "  </thead>\n",
       "  <tbody>\n",
       "    <tr>\n",
       "      <th>0</th>\n",
       "      <td>glutathione</td>\n",
       "      <td>CHEBI:16856</td>\n",
       "      <td></td>\n",
       "      <td></td>\n",
       "      <td>True</td>\n",
       "      <td>N[C@@H](CCC(=O)N[C@@H](CS)C(=O)NCC(=O)O)C(=O)O</td>\n",
       "    </tr>\n",
       "    <tr>\n",
       "      <th>1</th>\n",
       "      <td>Glucosamine</td>\n",
       "      <td>CHEBI:5417</td>\n",
       "      <td>CHEBI:5417</td>\n",
       "      <td>Glucosamine</td>\n",
       "      <td>True</td>\n",
       "      <td>None</td>\n",
       "    </tr>\n",
       "    <tr>\n",
       "      <th>2</th>\n",
       "      <td>creatine</td>\n",
       "      <td>CHEBI:16919</td>\n",
       "      <td>CHEBI:16919</td>\n",
       "      <td>Creatine</td>\n",
       "      <td>True</td>\n",
       "      <td>CN(CC(O)=O)C(N)=N</td>\n",
       "    </tr>\n",
       "  </tbody>\n",
       "</table>\n",
       "</div>"
      ],
      "text/plain": [
       "         QUERY        CHEBI    REF_CHEBI     REF_NAME  EXACT_MATCH  \\\n",
       "0  glutathione  CHEBI:16856                                   True   \n",
       "1  Glucosamine   CHEBI:5417   CHEBI:5417  Glucosamine         True   \n",
       "2     creatine  CHEBI:16919  CHEBI:16919     Creatine         True   \n",
       "\n",
       "                                           SMILES  \n",
       "0  N[C@@H](CCC(=O)N[C@@H](CS)C(=O)NCC(=O)O)C(=O)O  \n",
       "1                                            None  \n",
       "2                               CN(CC(O)=O)C(N)=N  "
      ]
     },
     "execution_count": 5,
     "metadata": {},
     "output_type": "execute_result"
    }
   ],
   "source": [
    "std.process_many(['glutathione', 'Glucosamine', 'creatine'])"
   ]
  },
  {
   "cell_type": "code",
   "execution_count": 6,
   "id": "09dde943-2f2b-4c9b-aa87-f4d883fede93",
   "metadata": {},
   "outputs": [
    {
     "name": "stderr",
     "output_type": "stream",
     "text": [
      "WARNING:root:Multiple matches for \"mevalonate\":\n",
      "                 SOURCE  COMPOUND_ID        NAME  TYPE\n",
      "NAME_lowercase                                        \n",
      "mevalonate      UniProt        36464  mevalonate  NAME\n",
      "mevalonate        ChEBI        36464  mevalonate   NaN\n",
      "Taking first entry.\n",
      "WARNING:root:Multiple matches for \"mevalonic acid\":\n",
      "               SOURCE  COMPOUND_ID            NAME     TYPE\n",
      "NAME_lowercase                                             \n",
      "mevalonic acid  ChEBI        25350  mevalonic acid  SYNONYM\n",
      "mevalonic acid  ChEBI        28880  mevalonic acid      NaN\n",
      "mevalonic acid  ChEBI        18790  mevalonic acid  SYNONYM\n",
      "mevalonic acid  ChEBI        17710  mevalonic acid      NaN\n",
      "mevalonic acid  ChEBI        36464  mevalonic acid  SYNONYM\n",
      "Taking first entry.\n"
     ]
    }
   ],
   "source": [
    "assert std.process('mevalonate')['REF_CHEBI'] == std.process('mevalonic acid')['REF_CHEBI']"
   ]
  },
  {
   "cell_type": "code",
   "execution_count": 7,
   "id": "df23cd97-3b46-47f7-8c05-55add7761cd1",
   "metadata": {},
   "outputs": [
    {
     "name": "stderr",
     "output_type": "stream",
     "text": [
      "WARNING:root:Multiple matches for \"(r)-mevalonate\":\n",
      "                 SOURCE  COMPOUND_ID            NAME  TYPE\n",
      "NAME_lowercase                                            \n",
      "(r)-mevalonate  UniProt        36464  (R)-mevalonate  NAME\n",
      "(r)-mevalonate    ChEBI        36464  (R)-mevalonate   NaN\n",
      "Taking first entry.\n",
      "WARNING:root:Multiple matches for \"mevalonic acid\":\n",
      "               SOURCE  COMPOUND_ID            NAME     TYPE\n",
      "NAME_lowercase                                             \n",
      "mevalonic acid  ChEBI        25350  mevalonic acid  SYNONYM\n",
      "mevalonic acid  ChEBI        28880  mevalonic acid      NaN\n",
      "mevalonic acid  ChEBI        18790  mevalonic acid  SYNONYM\n",
      "mevalonic acid  ChEBI        17710  mevalonic acid      NaN\n",
      "mevalonic acid  ChEBI        36464  mevalonic acid  SYNONYM\n",
      "Taking first entry.\n"
     ]
    }
   ],
   "source": [
    "assert std.process('(r)-mevalonate')['REF_CHEBI'] == std.process('mevalonic acid')['REF_CHEBI']"
   ]
  },
  {
   "cell_type": "code",
   "execution_count": 8,
   "id": "3375d69c-a674-49e0-901a-e0bf7c59a706",
   "metadata": {},
   "outputs": [
    {
     "name": "stderr",
     "output_type": "stream",
     "text": [
      "WARNING:root:Multiple matches for \"(r)-mevalonate\":\n",
      "                 SOURCE  COMPOUND_ID            NAME  TYPE\n",
      "NAME_lowercase                                            \n",
      "(r)-mevalonate  UniProt        36464  (R)-mevalonate  NAME\n",
      "(r)-mevalonate    ChEBI        36464  (R)-mevalonate   NaN\n",
      "Taking first entry.\n",
      "WARNING:root:Multiple matches for \"(s)-mevalonic acid\":\n",
      "                   SOURCE  COMPOUND_ID                NAME     TYPE\n",
      "NAME_lowercase                                                     \n",
      "(s)-mevalonic acid  ChEBI        28880  (S)-mevalonic acid      NaN\n",
      "(s)-mevalonic acid  ChEBI        18790  (S)-mevalonic acid  SYNONYM\n",
      "Taking first entry.\n"
     ]
    }
   ],
   "source": [
    "assert std.process('(r)-mevalonate')['REF_CHEBI'] == std.process('(s)-mevalonic acid')['REF_CHEBI']"
   ]
  },
  {
   "cell_type": "code",
   "execution_count": 9,
   "id": "8e254c02-f42c-453e-b2c8-9d748a2e6209",
   "metadata": {},
   "outputs": [
    {
     "name": "stderr",
     "output_type": "stream",
     "text": [
      "WARNING:root:Multiple matches for \"mevalonate\":\n",
      "                 SOURCE  COMPOUND_ID        NAME  TYPE\n",
      "NAME_lowercase                                        \n",
      "mevalonate      UniProt        36464  mevalonate  NAME\n",
      "mevalonate        ChEBI        36464  mevalonate   NaN\n",
      "Taking first entry.\n"
     ]
    },
    {
     "data": {
      "text/plain": [
       "{'CHEBI': 'CHEBI:36464',\n",
       " 'REF_CHEBI': 'CHEBI:25351',\n",
       " 'REF_NAME': 'Mevalonic acid',\n",
       " 'EXACT_MATCH': True,\n",
       " 'COMPOUND_ID': 36464,\n",
       " 'SMILES': 'C[C@@](O)(CCO)CC([O-])=O',\n",
       " 'QUERY': 'Mevalonate'}"
      ]
     },
     "execution_count": 9,
     "metadata": {},
     "output_type": "execute_result"
    }
   ],
   "source": [
    "std.process('Mevalonate')"
   ]
  },
  {
   "cell_type": "markdown",
   "id": "688bd05b-5bbe-4d68-b660-ec4ceedb1a92",
   "metadata": {},
   "source": [
    "## Process multiple queries at once"
   ]
  },
  {
   "cell_type": "code",
   "execution_count": 10,
   "id": "98d31a14-3c89-419e-a2d9-f25e3f7ddbc9",
   "metadata": {},
   "outputs": [
    {
     "name": "stderr",
     "output_type": "stream",
     "text": [
      "WARNING:root:Multiple matches for \"mevalonic acid\":\n",
      "               SOURCE  COMPOUND_ID            NAME     TYPE\n",
      "NAME_lowercase                                             \n",
      "mevalonic acid  ChEBI        25350  mevalonic acid  SYNONYM\n",
      "mevalonic acid  ChEBI        28880  mevalonic acid      NaN\n",
      "mevalonic acid  ChEBI        18790  mevalonic acid  SYNONYM\n",
      "mevalonic acid  ChEBI        17710  mevalonic acid      NaN\n",
      "mevalonic acid  ChEBI        36464  mevalonic acid  SYNONYM\n",
      "Taking first entry.\n",
      "WARNING:root:Multiple matches for \"mevalonic acid\":\n",
      "               SOURCE  COMPOUND_ID            NAME     TYPE\n",
      "NAME_lowercase                                             \n",
      "mevalonic acid  ChEBI        25350  mevalonic acid  SYNONYM\n",
      "mevalonic acid  ChEBI        28880  mevalonic acid      NaN\n",
      "mevalonic acid  ChEBI        18790  mevalonic acid  SYNONYM\n",
      "mevalonic acid  ChEBI        17710  mevalonic acid      NaN\n",
      "mevalonic acid  ChEBI        36464  mevalonic acid  SYNONYM\n",
      "Taking first entry.\n",
      "WARNING:root:Multiple matches for \"mevalonate\":\n",
      "                 SOURCE  COMPOUND_ID        NAME  TYPE\n",
      "NAME_lowercase                                        \n",
      "mevalonate      UniProt        36464  mevalonate  NAME\n",
      "mevalonate        ChEBI        36464  mevalonate   NaN\n",
      "Taking first entry.\n",
      "WARNING:root:Multiple matches for \"succinate\":\n",
      "                 SOURCE  COMPOUND_ID       NAME     TYPE\n",
      "NAME_lowercase                                          \n",
      "succinate       UniProt        30031  succinate     NAME\n",
      "succinate         ChEBI        26806  succinate  SYNONYM\n",
      "Taking first entry.\n",
      "WARNING:root:Multiple matches for \"aspartate\":\n",
      "               SOURCE  COMPOUND_ID       NAME        TYPE\n",
      "NAME_lowercase                                           \n",
      "aspartate       IUPAC        29995  aspartate  IUPAC NAME\n",
      "aspartate       ChEBI        72314  aspartate     SYNONYM\n",
      "aspartate       ChEBI       132943  aspartate         NaN\n",
      "Taking first entry.\n"
     ]
    },
    {
     "data": {
      "text/html": [
       "<div>\n",
       "<style scoped>\n",
       "    .dataframe tbody tr th:only-of-type {\n",
       "        vertical-align: middle;\n",
       "    }\n",
       "\n",
       "    .dataframe tbody tr th {\n",
       "        vertical-align: top;\n",
       "    }\n",
       "\n",
       "    .dataframe thead th {\n",
       "        text-align: right;\n",
       "    }\n",
       "</style>\n",
       "<table border=\"1\" class=\"dataframe\">\n",
       "  <thead>\n",
       "    <tr style=\"text-align: right;\">\n",
       "      <th></th>\n",
       "      <th>QUERY</th>\n",
       "      <th>CHEBI</th>\n",
       "      <th>REF_CHEBI</th>\n",
       "      <th>REF_NAME</th>\n",
       "      <th>EXACT_MATCH</th>\n",
       "      <th>SMILES</th>\n",
       "    </tr>\n",
       "  </thead>\n",
       "  <tbody>\n",
       "    <tr>\n",
       "      <th>0</th>\n",
       "      <td>mevalonic acid</td>\n",
       "      <td>CHEBI:25350</td>\n",
       "      <td>CHEBI:25351</td>\n",
       "      <td>Mevalonic acid</td>\n",
       "      <td>True</td>\n",
       "      <td>None</td>\n",
       "    </tr>\n",
       "    <tr>\n",
       "      <th>1</th>\n",
       "      <td>mevalonate</td>\n",
       "      <td>CHEBI:36464</td>\n",
       "      <td>CHEBI:25351</td>\n",
       "      <td>Mevalonic acid</td>\n",
       "      <td>True</td>\n",
       "      <td>C[C@@](O)(CCO)CC([O-])=O</td>\n",
       "    </tr>\n",
       "    <tr>\n",
       "      <th>2</th>\n",
       "      <td>arabitol</td>\n",
       "      <td>CHEBI:18333</td>\n",
       "      <td>CHEBI:22605</td>\n",
       "      <td>Arabinitol</td>\n",
       "      <td>False</td>\n",
       "      <td>OC[C@@H](O)C(O)[C@H](O)CO</td>\n",
       "    </tr>\n",
       "    <tr>\n",
       "      <th>3</th>\n",
       "      <td>succinate</td>\n",
       "      <td>CHEBI:30031</td>\n",
       "      <td>CHEBI:15741</td>\n",
       "      <td>Succinic acid</td>\n",
       "      <td>True</td>\n",
       "      <td>[O-]C(=O)CCC([O-])=O</td>\n",
       "    </tr>\n",
       "    <tr>\n",
       "      <th>4</th>\n",
       "      <td>succininc acid</td>\n",
       "      <td>CHEBI:15741</td>\n",
       "      <td>CHEBI:15741</td>\n",
       "      <td>Succinic acid</td>\n",
       "      <td>False</td>\n",
       "      <td>OC(=O)CCC(O)=O</td>\n",
       "    </tr>\n",
       "    <tr>\n",
       "      <th>5</th>\n",
       "      <td>aspartate</td>\n",
       "      <td>CHEBI:29995</td>\n",
       "      <td>CHEBI:22660</td>\n",
       "      <td>Aspartic acid</td>\n",
       "      <td>True</td>\n",
       "      <td>NC(CC([O-])=O)C([O-])=O</td>\n",
       "    </tr>\n",
       "  </tbody>\n",
       "</table>\n",
       "</div>"
      ],
      "text/plain": [
       "            QUERY        CHEBI    REF_CHEBI        REF_NAME  EXACT_MATCH  \\\n",
       "0  mevalonic acid  CHEBI:25350  CHEBI:25351  Mevalonic acid         True   \n",
       "1      mevalonate  CHEBI:36464  CHEBI:25351  Mevalonic acid         True   \n",
       "2        arabitol  CHEBI:18333  CHEBI:22605      Arabinitol        False   \n",
       "3       succinate  CHEBI:30031  CHEBI:15741   Succinic acid         True   \n",
       "4  succininc acid  CHEBI:15741  CHEBI:15741   Succinic acid        False   \n",
       "5       aspartate  CHEBI:29995  CHEBI:22660   Aspartic acid         True   \n",
       "\n",
       "                      SMILES  \n",
       "0                       None  \n",
       "1   C[C@@](O)(CCO)CC([O-])=O  \n",
       "2  OC[C@@H](O)C(O)[C@H](O)CO  \n",
       "3       [O-]C(=O)CCC([O-])=O  \n",
       "4             OC(=O)CCC(O)=O  \n",
       "5    NC(CC([O-])=O)C([O-])=O  "
      ]
     },
     "execution_count": 10,
     "metadata": {},
     "output_type": "execute_result"
    }
   ],
   "source": [
    "std.process_many(['mevalonic acid', 'mevalonate', 'arabitol', 'succinate', 'succininc acid', 'aspartate'])"
   ]
  },
  {
   "cell_type": "markdown",
   "id": "ef0efcb5-ebd6-4bf9-83d9-ee0b564031e1",
   "metadata": {},
   "source": [
    "# Get smiles string"
   ]
  },
  {
   "cell_type": "code",
   "execution_count": 27,
   "id": "8ebe2e24-251e-47a4-a610-f5bfc1c49a62",
   "metadata": {},
   "outputs": [],
   "source": [
    "std.get_smiles(25351)"
   ]
  },
  {
   "cell_type": "markdown",
   "id": "cf5b0e92-0afc-4d56-a3ae-6469197a6b6a",
   "metadata": {},
   "source": [
    "## Not working yet"
   ]
  },
  {
   "cell_type": "code",
   "execution_count": 28,
   "id": "c6b9c382-19af-4eb0-b6b0-ad819609fee1",
   "metadata": {},
   "outputs": [],
   "source": [
    "std.get_smiles('CHEBI:25351')"
   ]
  },
  {
   "cell_type": "code",
   "execution_count": 29,
   "id": "538af798-72b7-47d5-9d9d-175f9f6a0944",
   "metadata": {},
   "outputs": [],
   "source": [
    "std.get_smiles('ChEBI:25351')"
   ]
  },
  {
   "cell_type": "code",
   "execution_count": 30,
   "id": "776b6ba2-bbda-44fb-bd95-355636d6b673",
   "metadata": {},
   "outputs": [],
   "source": [
    "std.get_smiles('mevalonate')"
   ]
  },
  {
   "cell_type": "code",
   "execution_count": null,
   "id": "e090911c-756c-4fe5-bb01-8a9082ee3a07",
   "metadata": {},
   "outputs": [],
   "source": []
  },
  {
   "cell_type": "code",
   "execution_count": 31,
   "id": "e8d0a6be-9a16-438d-bca1-c0e1ec521e8f",
   "metadata": {},
   "outputs": [
    {
     "data": {
      "text/html": [
       "<div>\n",
       "<style scoped>\n",
       "    .dataframe tbody tr th:only-of-type {\n",
       "        vertical-align: middle;\n",
       "    }\n",
       "\n",
       "    .dataframe tbody tr th {\n",
       "        vertical-align: top;\n",
       "    }\n",
       "\n",
       "    .dataframe thead th {\n",
       "        text-align: right;\n",
       "    }\n",
       "</style>\n",
       "<table border=\"1\" class=\"dataframe\">\n",
       "  <thead>\n",
       "    <tr style=\"text-align: right;\">\n",
       "      <th></th>\n",
       "      <th>SOURCE</th>\n",
       "      <th>COMPOUND_ID</th>\n",
       "      <th>NAME</th>\n",
       "      <th>TYPE</th>\n",
       "      <th>NAME_lowercase</th>\n",
       "    </tr>\n",
       "  </thead>\n",
       "  <tbody>\n",
       "    <tr>\n",
       "      <th>102</th>\n",
       "      <td>KEGG COMPOUND</td>\n",
       "      <td>113</td>\n",
       "      <td>(S)-1,2,3,4-tetrahydro-1-methyl-6,7-isoquinoli...</td>\n",
       "      <td>SYNONYM</td>\n",
       "      <td>(s)-1,2,3,4-tetrahydro-1-methyl-6,7-isoquinoli...</td>\n",
       "    </tr>\n",
       "    <tr>\n",
       "      <th>105</th>\n",
       "      <td>KEGG COMPOUND</td>\n",
       "      <td>15412</td>\n",
       "      <td>(S)-Ureidoglycolate</td>\n",
       "      <td>SYNONYM</td>\n",
       "      <td>(s)-ureidoglycolate</td>\n",
       "    </tr>\n",
       "    <tr>\n",
       "      <th>160</th>\n",
       "      <td>KEGG COMPOUND</td>\n",
       "      <td>15449</td>\n",
       "      <td>(S)-3-Hydroxy-2-methylbutyryl-CoA</td>\n",
       "      <td>SYNONYM</td>\n",
       "      <td>(s)-3-hydroxy-2-methylbutyryl-coa</td>\n",
       "    </tr>\n",
       "    <tr>\n",
       "      <th>359</th>\n",
       "      <td>KEGG COMPOUND</td>\n",
       "      <td>18285</td>\n",
       "      <td>(S)-Stylopine</td>\n",
       "      <td>SYNONYM</td>\n",
       "      <td>(s)-stylopine</td>\n",
       "    </tr>\n",
       "    <tr>\n",
       "      <th>408</th>\n",
       "      <td>KEGG COMPOUND</td>\n",
       "      <td>15455</td>\n",
       "      <td>(S)-3-Hydroxyacyl-CoA</td>\n",
       "      <td>SYNONYM</td>\n",
       "      <td>(s)-3-hydroxyacyl-coa</td>\n",
       "    </tr>\n",
       "    <tr>\n",
       "      <th>...</th>\n",
       "      <td>...</td>\n",
       "      <td>...</td>\n",
       "      <td>...</td>\n",
       "      <td>...</td>\n",
       "      <td>...</td>\n",
       "    </tr>\n",
       "    <tr>\n",
       "      <th>520403</th>\n",
       "      <td>SUBMITTER</td>\n",
       "      <td>140264</td>\n",
       "      <td>16(S)-cystein-S-yl,17hydroxy-(4Z,7Z,10,12,14,1...</td>\n",
       "      <td>NaN</td>\n",
       "      <td>16(s)-cystein-s-yl,17hydroxy-(4z,7z,10,12,14,1...</td>\n",
       "    </tr>\n",
       "    <tr>\n",
       "      <th>520405</th>\n",
       "      <td>ChEBI</td>\n",
       "      <td>140394</td>\n",
       "      <td>16(S)-glutathionyl-17hydroxy-(4Z,7Z,10,12,14,1...</td>\n",
       "      <td>NaN</td>\n",
       "      <td>16(s)-glutathionyl-17hydroxy-(4z,7z,10,12,14,1...</td>\n",
       "    </tr>\n",
       "    <tr>\n",
       "      <th>520406</th>\n",
       "      <td>ChEBI</td>\n",
       "      <td>140397</td>\n",
       "      <td>16(S)-glycinylcystein-S-yl-17hydroxy-(4Z,7Z,10...</td>\n",
       "      <td>NaN</td>\n",
       "      <td>16(s)-glycinylcystein-s-yl-17hydroxy-(4z,7z,10...</td>\n",
       "    </tr>\n",
       "    <tr>\n",
       "      <th>520412</th>\n",
       "      <td>ChEBI</td>\n",
       "      <td>140401</td>\n",
       "      <td>16(S)-cystein-S-yl,17hydroxy-(4Z,7Z,10,12,14,1...</td>\n",
       "      <td>NaN</td>\n",
       "      <td>16(s)-cystein-s-yl,17hydroxy-(4z,7z,10,12,14,1...</td>\n",
       "    </tr>\n",
       "    <tr>\n",
       "      <th>520724</th>\n",
       "      <td>ChEBI</td>\n",
       "      <td>51797</td>\n",
       "      <td>6alpha-[(S)-1-hydroxyethyl]-2-[tetrahydrofuran...</td>\n",
       "      <td>NaN</td>\n",
       "      <td>6alpha-[(s)-1-hydroxyethyl]-2-[tetrahydrofuran...</td>\n",
       "    </tr>\n",
       "  </tbody>\n",
       "</table>\n",
       "<p>3295 rows × 5 columns</p>\n",
       "</div>"
      ],
      "text/plain": [
       "               SOURCE  COMPOUND_ID  \\\n",
       "102     KEGG COMPOUND          113   \n",
       "105     KEGG COMPOUND        15412   \n",
       "160     KEGG COMPOUND        15449   \n",
       "359     KEGG COMPOUND        18285   \n",
       "408     KEGG COMPOUND        15455   \n",
       "...               ...          ...   \n",
       "520403      SUBMITTER       140264   \n",
       "520405          ChEBI       140394   \n",
       "520406          ChEBI       140397   \n",
       "520412          ChEBI       140401   \n",
       "520724          ChEBI        51797   \n",
       "\n",
       "                                                     NAME     TYPE  \\\n",
       "102     (S)-1,2,3,4-tetrahydro-1-methyl-6,7-isoquinoli...  SYNONYM   \n",
       "105                                   (S)-Ureidoglycolate  SYNONYM   \n",
       "160                     (S)-3-Hydroxy-2-methylbutyryl-CoA  SYNONYM   \n",
       "359                                         (S)-Stylopine  SYNONYM   \n",
       "408                                 (S)-3-Hydroxyacyl-CoA  SYNONYM   \n",
       "...                                                   ...      ...   \n",
       "520403  16(S)-cystein-S-yl,17hydroxy-(4Z,7Z,10,12,14,1...      NaN   \n",
       "520405  16(S)-glutathionyl-17hydroxy-(4Z,7Z,10,12,14,1...      NaN   \n",
       "520406  16(S)-glycinylcystein-S-yl-17hydroxy-(4Z,7Z,10...      NaN   \n",
       "520412  16(S)-cystein-S-yl,17hydroxy-(4Z,7Z,10,12,14,1...      NaN   \n",
       "520724  6alpha-[(S)-1-hydroxyethyl]-2-[tetrahydrofuran...      NaN   \n",
       "\n",
       "                                           NAME_lowercase  \n",
       "102     (s)-1,2,3,4-tetrahydro-1-methyl-6,7-isoquinoli...  \n",
       "105                                   (s)-ureidoglycolate  \n",
       "160                     (s)-3-hydroxy-2-methylbutyryl-coa  \n",
       "359                                         (s)-stylopine  \n",
       "408                                 (s)-3-hydroxyacyl-coa  \n",
       "...                                                   ...  \n",
       "520403  16(s)-cystein-s-yl,17hydroxy-(4z,7z,10,12,14,1...  \n",
       "520405  16(s)-glutathionyl-17hydroxy-(4z,7z,10,12,14,1...  \n",
       "520406  16(s)-glycinylcystein-s-yl-17hydroxy-(4z,7z,10...  \n",
       "520412  16(s)-cystein-s-yl,17hydroxy-(4z,7z,10,12,14,1...  \n",
       "520724  6alpha-[(s)-1-hydroxyethyl]-2-[tetrahydrofuran...  \n",
       "\n",
       "[3295 rows x 5 columns]"
      ]
     },
     "execution_count": 31,
     "metadata": {},
     "output_type": "execute_result"
    }
   ],
   "source": [
    "std.names[std.names.NAME.str.contains('(S)-', regex=False)]"
   ]
  },
  {
   "cell_type": "code",
   "execution_count": 32,
   "id": "f23bd745-f8fd-416e-9a94-eefc27bc3567",
   "metadata": {},
   "outputs": [],
   "source": [
    "new_names = std.names[std.names.NAME.str.contains('(S)-', regex=False)].copy()"
   ]
  },
  {
   "cell_type": "code",
   "execution_count": 33,
   "id": "e2d8d0bd-8efc-45fa-8a3f-44b6ef1e787c",
   "metadata": {},
   "outputs": [],
   "source": [
    "new_names['NAME'] = new_names['NAME'].str.replace('(S)-', '')"
   ]
  },
  {
   "cell_type": "code",
   "execution_count": 34,
   "id": "86fc4f83-e329-4308-bda4-28ee5a998ad1",
   "metadata": {},
   "outputs": [],
   "source": [
    "import pandas as pd"
   ]
  },
  {
   "cell_type": "code",
   "execution_count": 35,
   "id": "e9017c01-b677-4f36-802c-ff2a94bfe5fc",
   "metadata": {},
   "outputs": [],
   "source": [
    "def remove_patterns(patterns):\n",
    "    for pattern in patterns:\n",
    "        new_names = std.names[std.names.NAME.str.contains(pattern, regex=False)].copy()\n",
    "        new_names['NAME'] = new_names['NAME'].str.replace(pattern, '')    \n",
    "        std.names = pd.concat([std.names, new_names]).reset_index(drop=True)"
   ]
  },
  {
   "cell_type": "code",
   "execution_count": 36,
   "id": "4f89ab37-309f-494a-80dc-6280413ac43e",
   "metadata": {},
   "outputs": [],
   "source": [
    "# remove_patterns(['(S)-', '(R)-'])\n",
    "#std.names['NAME_lowercase'] = std.names.NAME.str.lower()"
   ]
  },
  {
   "cell_type": "code",
   "execution_count": null,
   "id": "511c6af8-fa0b-46dc-a912-9ff3b603319a",
   "metadata": {},
   "outputs": [],
   "source": []
  },
  {
   "cell_type": "code",
   "execution_count": null,
   "id": "304957a5-3a2f-4564-911b-7db5d51d288b",
   "metadata": {},
   "outputs": [],
   "source": []
  },
  {
   "cell_type": "code",
   "execution_count": null,
   "id": "6bc6ae6a-e491-4296-b3d5-ca5968855b75",
   "metadata": {},
   "outputs": [],
   "source": []
  },
  {
   "cell_type": "code",
   "execution_count": 37,
   "id": "0346601e-1bf6-4319-950c-577243da85dd",
   "metadata": {},
   "outputs": [
    {
     "data": {
      "text/html": [
       "<div>\n",
       "<style scoped>\n",
       "    .dataframe tbody tr th:only-of-type {\n",
       "        vertical-align: middle;\n",
       "    }\n",
       "\n",
       "    .dataframe tbody tr th {\n",
       "        vertical-align: top;\n",
       "    }\n",
       "\n",
       "    .dataframe thead th {\n",
       "        text-align: right;\n",
       "    }\n",
       "</style>\n",
       "<table border=\"1\" class=\"dataframe\">\n",
       "  <thead>\n",
       "    <tr style=\"text-align: right;\">\n",
       "      <th></th>\n",
       "      <th>SOURCE</th>\n",
       "      <th>COMPOUND_ID</th>\n",
       "      <th>NAME</th>\n",
       "      <th>TYPE</th>\n",
       "      <th>NAME_lowercase</th>\n",
       "    </tr>\n",
       "  </thead>\n",
       "  <tbody>\n",
       "    <tr>\n",
       "      <th>518200</th>\n",
       "      <td>UniProt</td>\n",
       "      <td>36464</td>\n",
       "      <td>mevalonate</td>\n",
       "      <td>NAME</td>\n",
       "      <td>mevalonate</td>\n",
       "    </tr>\n",
       "    <tr>\n",
       "      <th>520707</th>\n",
       "      <td>ChEBI</td>\n",
       "      <td>36464</td>\n",
       "      <td>mevalonate</td>\n",
       "      <td>NaN</td>\n",
       "      <td>mevalonate</td>\n",
       "    </tr>\n",
       "  </tbody>\n",
       "</table>\n",
       "</div>"
      ],
      "text/plain": [
       "         SOURCE  COMPOUND_ID        NAME  TYPE NAME_lowercase\n",
       "518200  UniProt        36464  mevalonate  NAME     mevalonate\n",
       "520707    ChEBI        36464  mevalonate   NaN     mevalonate"
      ]
     },
     "execution_count": 37,
     "metadata": {},
     "output_type": "execute_result"
    }
   ],
   "source": [
    "std.get_by_name('Mevalonate')"
   ]
  },
  {
   "cell_type": "code",
   "execution_count": 38,
   "id": "e19a7023-e18a-4797-8f71-d2439c0b5e08",
   "metadata": {},
   "outputs": [
    {
     "data": {
      "text/html": [
       "<div>\n",
       "<style scoped>\n",
       "    .dataframe tbody tr th:only-of-type {\n",
       "        vertical-align: middle;\n",
       "    }\n",
       "\n",
       "    .dataframe tbody tr th {\n",
       "        vertical-align: top;\n",
       "    }\n",
       "\n",
       "    .dataframe thead th {\n",
       "        text-align: right;\n",
       "    }\n",
       "</style>\n",
       "<table border=\"1\" class=\"dataframe\">\n",
       "  <thead>\n",
       "    <tr style=\"text-align: right;\">\n",
       "      <th></th>\n",
       "      <th>SOURCE</th>\n",
       "      <th>COMPOUND_ID</th>\n",
       "      <th>NAME</th>\n",
       "      <th>TYPE</th>\n",
       "      <th>NAME_lowercase</th>\n",
       "    </tr>\n",
       "  </thead>\n",
       "  <tbody>\n",
       "    <tr>\n",
       "      <th>518200</th>\n",
       "      <td>UniProt</td>\n",
       "      <td>36464</td>\n",
       "      <td>mevalonate</td>\n",
       "      <td>NAME</td>\n",
       "      <td>mevalonate</td>\n",
       "    </tr>\n",
       "    <tr>\n",
       "      <th>520707</th>\n",
       "      <td>ChEBI</td>\n",
       "      <td>36464</td>\n",
       "      <td>mevalonate</td>\n",
       "      <td>NaN</td>\n",
       "      <td>mevalonate</td>\n",
       "    </tr>\n",
       "  </tbody>\n",
       "</table>\n",
       "</div>"
      ],
      "text/plain": [
       "         SOURCE  COMPOUND_ID        NAME  TYPE NAME_lowercase\n",
       "518200  UniProt        36464  mevalonate  NAME     mevalonate\n",
       "520707    ChEBI        36464  mevalonate   NaN     mevalonate"
      ]
     },
     "execution_count": 38,
     "metadata": {},
     "output_type": "execute_result"
    }
   ],
   "source": [
    "std.get_by_name('mevalonate')"
   ]
  },
  {
   "cell_type": "code",
   "execution_count": 39,
   "id": "ed159e83-6e03-4e6f-8318-65f962ed38cc",
   "metadata": {},
   "outputs": [
    {
     "data": {
      "text/html": [
       "<div>\n",
       "<style scoped>\n",
       "    .dataframe tbody tr th:only-of-type {\n",
       "        vertical-align: middle;\n",
       "    }\n",
       "\n",
       "    .dataframe tbody tr th {\n",
       "        vertical-align: top;\n",
       "    }\n",
       "\n",
       "    .dataframe thead th {\n",
       "        text-align: right;\n",
       "    }\n",
       "</style>\n",
       "<table border=\"1\" class=\"dataframe\">\n",
       "  <thead>\n",
       "    <tr style=\"text-align: right;\">\n",
       "      <th></th>\n",
       "      <th>SOURCE</th>\n",
       "      <th>COMPOUND_ID</th>\n",
       "      <th>NAME</th>\n",
       "      <th>TYPE</th>\n",
       "      <th>NAME_lowercase</th>\n",
       "    </tr>\n",
       "  </thead>\n",
       "  <tbody>\n",
       "  </tbody>\n",
       "</table>\n",
       "</div>"
      ],
      "text/plain": [
       "Empty DataFrame\n",
       "Columns: [SOURCE, COMPOUND_ID, NAME, TYPE, NAME_lowercase]\n",
       "Index: []"
      ]
     },
     "execution_count": 39,
     "metadata": {},
     "output_type": "execute_result"
    }
   ],
   "source": [
    "std.get_by_name('mevalic acid')"
   ]
  },
  {
   "cell_type": "code",
   "execution_count": 40,
   "id": "2ffc7f41-9159-4730-b164-781edcd31b6f",
   "metadata": {},
   "outputs": [
    {
     "name": "stderr",
     "output_type": "stream",
     "text": [
      "WARNING:root:Multiple matches for \"mevalonate\":\n",
      "                 SOURCE  COMPOUND_ID        NAME  TYPE\n",
      "NAME_lowercase                                        \n",
      "mevalonate      UniProt        36464  mevalonate  NAME\n",
      "mevalonate        ChEBI        36464  mevalonate   NaN\n",
      "Taking first entry.\n"
     ]
    },
    {
     "data": {
      "text/plain": [
       "(SOURCE            UniProt\n",
       " COMPOUND_ID         36464\n",
       " NAME           mevalonate\n",
       " TYPE                 NAME\n",
       " Name: mevalonate, dtype: object,\n",
       " True)"
      ]
     },
     "execution_count": 40,
     "metadata": {},
     "output_type": "execute_result"
    }
   ],
   "source": [
    "std.search('mevalonate')"
   ]
  },
  {
   "cell_type": "code",
   "execution_count": 41,
   "id": "b013471d-a4e9-40d6-85d0-5d74cccaf77a",
   "metadata": {},
   "outputs": [
    {
     "data": {
      "text/html": [
       "<div>\n",
       "<style scoped>\n",
       "    .dataframe tbody tr th:only-of-type {\n",
       "        vertical-align: middle;\n",
       "    }\n",
       "\n",
       "    .dataframe tbody tr th {\n",
       "        vertical-align: top;\n",
       "    }\n",
       "\n",
       "    .dataframe thead th {\n",
       "        text-align: right;\n",
       "    }\n",
       "</style>\n",
       "<table border=\"1\" class=\"dataframe\">\n",
       "  <thead>\n",
       "    <tr style=\"text-align: right;\">\n",
       "      <th></th>\n",
       "      <th>SOURCE</th>\n",
       "      <th>COMPOUND_ID</th>\n",
       "      <th>TYPE</th>\n",
       "      <th>NAME_lowercase</th>\n",
       "    </tr>\n",
       "    <tr>\n",
       "      <th>NAME</th>\n",
       "      <th></th>\n",
       "      <th></th>\n",
       "      <th></th>\n",
       "      <th></th>\n",
       "    </tr>\n",
       "  </thead>\n",
       "  <tbody>\n",
       "    <tr>\n",
       "      <th>(R)-mevalonate</th>\n",
       "      <td>UniProt</td>\n",
       "      <td>36464</td>\n",
       "      <td>NAME</td>\n",
       "      <td>(r)-mevalonate</td>\n",
       "    </tr>\n",
       "    <tr>\n",
       "      <th>(R)-mevalonate</th>\n",
       "      <td>ChEBI</td>\n",
       "      <td>36464</td>\n",
       "      <td>NaN</td>\n",
       "      <td>(r)-mevalonate</td>\n",
       "    </tr>\n",
       "  </tbody>\n",
       "</table>\n",
       "</div>"
      ],
      "text/plain": [
       "                 SOURCE  COMPOUND_ID  TYPE  NAME_lowercase\n",
       "NAME                                                      \n",
       "(R)-mevalonate  UniProt        36464  NAME  (r)-mevalonate\n",
       "(R)-mevalonate    ChEBI        36464   NaN  (r)-mevalonate"
      ]
     },
     "execution_count": 41,
     "metadata": {},
     "output_type": "execute_result"
    }
   ],
   "source": [
    "std.names.set_index('NAME').loc['(R)-mevalonate']"
   ]
  },
  {
   "cell_type": "code",
   "execution_count": 42,
   "id": "98f75283-0652-4267-a5d6-9db9bb6244dd",
   "metadata": {},
   "outputs": [
    {
     "name": "stderr",
     "output_type": "stream",
     "text": [
      "WARNING:root:Multiple matches for \"mevalonate\":\n",
      "                 SOURCE  COMPOUND_ID        NAME  TYPE\n",
      "NAME_lowercase                                        \n",
      "mevalonate      UniProt        36464  mevalonate  NAME\n",
      "mevalonate        ChEBI        36464  mevalonate   NaN\n",
      "Taking first entry.\n"
     ]
    },
    {
     "data": {
      "text/plain": [
       "{'CHEBI': 'CHEBI:36464',\n",
       " 'REF_CHEBI': 'CHEBI:25351',\n",
       " 'REF_NAME': 'Mevalonic acid',\n",
       " 'EXACT_MATCH': True,\n",
       " 'COMPOUND_ID': 36464,\n",
       " 'SMILES': 'C[C@@](O)(CCO)CC([O-])=O',\n",
       " 'QUERY': 'mevalonate'}"
      ]
     },
     "execution_count": 42,
     "metadata": {},
     "output_type": "execute_result"
    }
   ],
   "source": [
    "std.process('mevalonate')"
   ]
  },
  {
   "cell_type": "code",
   "execution_count": null,
   "id": "e3973611-6e5f-4659-9188-b71eb79f6f1e",
   "metadata": {},
   "outputs": [],
   "source": []
  },
  {
   "cell_type": "code",
   "execution_count": null,
   "id": "5c3fa567-2eb1-446d-91c4-693144f432a1",
   "metadata": {},
   "outputs": [],
   "source": []
  },
  {
   "cell_type": "code",
   "execution_count": null,
   "id": "5c0e3cf8-eb29-4a98-a86f-d79880a54598",
   "metadata": {},
   "outputs": [],
   "source": []
  },
  {
   "cell_type": "code",
   "execution_count": null,
   "id": "b53084b1-7a6b-422e-9909-49f83d8a8d6e",
   "metadata": {},
   "outputs": [],
   "source": []
  },
  {
   "cell_type": "code",
   "execution_count": null,
   "id": "8266536e-89c7-457e-bb65-1b05383254a3",
   "metadata": {},
   "outputs": [],
   "source": []
  }
 ],
 "metadata": {
  "kernelspec": {
   "display_name": "Chem",
   "language": "python",
   "name": "chem"
  },
  "language_info": {
   "codemirror_mode": {
    "name": "ipython",
    "version": 3
   },
   "file_extension": ".py",
   "mimetype": "text/x-python",
   "name": "python",
   "nbconvert_exporter": "python",
   "pygments_lexer": "ipython3",
   "version": "3.10.8"
  }
 },
 "nbformat": 4,
 "nbformat_minor": 5
}
