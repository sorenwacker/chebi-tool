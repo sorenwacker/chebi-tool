{
 "cells": [
  {
   "cell_type": "code",
   "execution_count": 1,
   "id": "f5f22083-b85e-4c5e-ba95-ed65d061d84e",
   "metadata": {},
   "outputs": [],
   "source": [
    "from chebi_tools import ChEBIStandardizer"
   ]
  },
  {
   "cell_type": "code",
   "execution_count": 2,
   "id": "e7524b2d-2bf2-4586-92b1-bf4ff369f130",
   "metadata": {},
   "outputs": [],
   "source": [
    "std = ChEBIStandardizer()"
   ]
  },
  {
   "cell_type": "code",
   "execution_count": 3,
   "id": "6dd79c3b-562a-460d-b255-712e74c852ac",
   "metadata": {},
   "outputs": [],
   "source": [
    "import pandas as pd"
   ]
  },
  {
   "cell_type": "code",
   "execution_count": 4,
   "id": "b0475f2d-0b35-4927-b1b8-45f6655695cf",
   "metadata": {},
   "outputs": [],
   "source": [
    "db_acc = pd.read_parquet(std.downloader.files['database_accession'])"
   ]
  },
  {
   "cell_type": "code",
   "execution_count": 5,
   "id": "791f077d-d8df-4847-861f-122358e68f07",
   "metadata": {},
   "outputs": [
    {
     "data": {
      "text/html": [
       "<div>\n",
       "<style scoped>\n",
       "    .dataframe tbody tr th:only-of-type {\n",
       "        vertical-align: middle;\n",
       "    }\n",
       "\n",
       "    .dataframe tbody tr th {\n",
       "        vertical-align: top;\n",
       "    }\n",
       "\n",
       "    .dataframe thead th {\n",
       "        text-align: right;\n",
       "    }\n",
       "</style>\n",
       "<table border=\"1\" class=\"dataframe\">\n",
       "  <thead>\n",
       "    <tr style=\"text-align: right;\">\n",
       "      <th></th>\n",
       "      <th>ID</th>\n",
       "      <th>COMPOUND_ID</th>\n",
       "      <th>SOURCE</th>\n",
       "      <th>TYPE</th>\n",
       "    </tr>\n",
       "    <tr>\n",
       "      <th>ACCESSION_NUMBER</th>\n",
       "      <th></th>\n",
       "      <th></th>\n",
       "      <th></th>\n",
       "      <th></th>\n",
       "    </tr>\n",
       "  </thead>\n",
       "  <tbody>\n",
       "    <tr>\n",
       "      <th>C00418</th>\n",
       "      <td>805</td>\n",
       "      <td>17710</td>\n",
       "      <td>KEGG COMPOUND</td>\n",
       "      <td>KEGG COMPOUND accession</td>\n",
       "    </tr>\n",
       "    <tr>\n",
       "      <th>C00418</th>\n",
       "      <td>65810</td>\n",
       "      <td>17710</td>\n",
       "      <td>KEGG COMPOUND</td>\n",
       "      <td>KEGG COMPOUND accession</td>\n",
       "    </tr>\n",
       "    <tr>\n",
       "      <th>C00418</th>\n",
       "      <td>99043</td>\n",
       "      <td>36464</td>\n",
       "      <td>KEGG COMPOUND</td>\n",
       "      <td>KEGG COMPOUND accession</td>\n",
       "    </tr>\n",
       "  </tbody>\n",
       "</table>\n",
       "</div>"
      ],
      "text/plain": [
       "                     ID  COMPOUND_ID         SOURCE                     TYPE\n",
       "ACCESSION_NUMBER                                                            \n",
       "C00418              805        17710  KEGG COMPOUND  KEGG COMPOUND accession\n",
       "C00418            65810        17710  KEGG COMPOUND  KEGG COMPOUND accession\n",
       "C00418            99043        36464  KEGG COMPOUND  KEGG COMPOUND accession"
      ]
     },
     "execution_count": 5,
     "metadata": {},
     "output_type": "execute_result"
    }
   ],
   "source": [
    "db_acc.set_index('ACCESSION_NUMBER').loc['C00418']"
   ]
  },
  {
   "cell_type": "code",
   "execution_count": null,
   "id": "e12b188d-0b37-431c-9d14-bb23c11778f2",
   "metadata": {},
   "outputs": [],
   "source": []
  },
  {
   "cell_type": "markdown",
   "id": "7521bf70-3b8f-4024-a1bd-9071020ee0d2",
   "metadata": {},
   "source": [
    "# Find standardized name records"
   ]
  },
  {
   "cell_type": "code",
   "execution_count": 6,
   "id": "2e103e63-ace9-43fa-a4d2-55df8708588b",
   "metadata": {},
   "outputs": [
    {
     "name": "stderr",
     "output_type": "stream",
     "text": [
      "WARNING:root:Multiple matches for \"glucosamine\":\n",
      "                       SOURCE  COMPOUND_ID         NAME        TYPE\n",
      "NAME_lowercase                                                     \n",
      "glucosamine     KEGG COMPOUND         5417  Glucosamine     SYNONYM\n",
      "glucosamine             IUPAC         5417  glucosamine  IUPAC NAME\n",
      "glucosamine     KEGG COMPOUND         5417  glucosamine         NaN\n",
      "Taking first entry.\n"
     ]
    },
    {
     "data": {
      "text/plain": [
       "{'CHEBI': 'CHEBI:5417',\n",
       " 'REF_CHEBI': 'CHEBI:5417',\n",
       " 'REF_NAME': 'Glucosamine',\n",
       " 'EXACT_MATCH': True,\n",
       " 'COMPOUND_ID': 5417,\n",
       " 'SMILES': None,\n",
       " 'QUERY': 'Glucosamine',\n",
       " 'DrugBank': 'DB01296',\n",
       " 'KEGG COMPOUND': 'C01811'}"
      ]
     },
     "execution_count": 6,
     "metadata": {},
     "output_type": "execute_result"
    }
   ],
   "source": [
    "std.process('Glucosamine')"
   ]
  },
  {
   "cell_type": "code",
   "execution_count": 7,
   "id": "dea2d4e2-baff-48d5-893b-5bb0915e720b",
   "metadata": {},
   "outputs": [
    {
     "name": "stderr",
     "output_type": "stream",
     "text": [
      "WARNING:root:Multiple matches for \"glutathione\":\n",
      "                       SOURCE  COMPOUND_ID         NAME     TYPE\n",
      "NAME_lowercase                                                  \n",
      "glutathione     KEGG COMPOUND        16856  Glutathione  SYNONYM\n",
      "glutathione           UniProt        57925  glutathione     NAME\n",
      "glutathione             ChEBI        16856  glutathione      NaN\n",
      "Taking first entry.\n",
      "ERROR:root:16856\n"
     ]
    },
    {
     "data": {
      "text/plain": [
       "{'COMPOUND_ID': 16856,\n",
       " 'EXACT_MATCH': True,\n",
       " 'CHEBI': 'CHEBI:16856',\n",
       " 'REF_NAME': '',\n",
       " 'REF_CHEBI': '',\n",
       " 'SMILES': 'N[C@@H](CCC(=O)N[C@@H](CS)C(=O)NCC(=O)O)C(=O)O',\n",
       " 'QUERY': 'glutathione'}"
      ]
     },
     "execution_count": 7,
     "metadata": {},
     "output_type": "execute_result"
    }
   ],
   "source": [
    "std.process('glutathione')"
   ]
  },
  {
   "cell_type": "code",
   "execution_count": 8,
   "id": "7f2bd06f-97ed-4039-bd63-de51f98c668a",
   "metadata": {},
   "outputs": [
    {
     "name": "stderr",
     "output_type": "stream",
     "text": [
      "WARNING:root:Multiple matches for \"glutathione\":\n",
      "                       SOURCE  COMPOUND_ID         NAME     TYPE\n",
      "NAME_lowercase                                                  \n",
      "glutathione     KEGG COMPOUND        16856  Glutathione  SYNONYM\n",
      "glutathione           UniProt        57925  glutathione     NAME\n",
      "glutathione             ChEBI        16856  glutathione      NaN\n",
      "Taking first entry.\n",
      "ERROR:root:16856\n",
      "WARNING:root:Multiple matches for \"glutathione\":\n",
      "                       SOURCE  COMPOUND_ID         NAME     TYPE\n",
      "NAME_lowercase                                                  \n",
      "glutathione     KEGG COMPOUND        16856  Glutathione  SYNONYM\n",
      "glutathione           UniProt        57925  glutathione     NAME\n",
      "glutathione             ChEBI        16856  glutathione      NaN\n",
      "Taking first entry.\n",
      "ERROR:root:16856\n",
      "WARNING:root:Multiple matches for \"glucosamine\":\n",
      "                       SOURCE  COMPOUND_ID         NAME        TYPE\n",
      "NAME_lowercase                                                     \n",
      "glucosamine     KEGG COMPOUND         5417  Glucosamine     SYNONYM\n",
      "glucosamine             IUPAC         5417  glucosamine  IUPAC NAME\n",
      "glucosamine     KEGG COMPOUND         5417  glucosamine         NaN\n",
      "Taking first entry.\n",
      "WARNING:root:Multiple matches for \"creatine\":\n",
      "                       SOURCE  COMPOUND_ID      NAME     TYPE\n",
      "NAME_lowercase                                               \n",
      "creatine        KEGG COMPOUND        16919  Creatine  SYNONYM\n",
      "creatine              UniProt        57947  creatine     NAME\n",
      "creatine                ChEBI        16919  creatine      NaN\n",
      "Taking first entry.\n"
     ]
    },
    {
     "data": {
      "text/html": [
       "<div>\n",
       "<style scoped>\n",
       "    .dataframe tbody tr th:only-of-type {\n",
       "        vertical-align: middle;\n",
       "    }\n",
       "\n",
       "    .dataframe tbody tr th {\n",
       "        vertical-align: top;\n",
       "    }\n",
       "\n",
       "    .dataframe thead th {\n",
       "        text-align: right;\n",
       "    }\n",
       "</style>\n",
       "<table border=\"1\" class=\"dataframe\">\n",
       "  <thead>\n",
       "    <tr style=\"text-align: right;\">\n",
       "      <th></th>\n",
       "      <th>QUERY</th>\n",
       "      <th>CHEBI</th>\n",
       "      <th>REF_CHEBI</th>\n",
       "      <th>REF_NAME</th>\n",
       "      <th>EXACT_MATCH</th>\n",
       "      <th>SMILES</th>\n",
       "      <th>DrugBank</th>\n",
       "      <th>KEGG COMPOUND</th>\n",
       "      <th>Chemspider</th>\n",
       "      <th>DrugCentral</th>\n",
       "      <th>HMDB</th>\n",
       "      <th>MetaCyc</th>\n",
       "      <th>PDBeChem</th>\n",
       "      <th>Wikipedia</th>\n",
       "    </tr>\n",
       "  </thead>\n",
       "  <tbody>\n",
       "    <tr>\n",
       "      <th>0</th>\n",
       "      <td>glutathione</td>\n",
       "      <td>CHEBI:16856</td>\n",
       "      <td></td>\n",
       "      <td></td>\n",
       "      <td>True</td>\n",
       "      <td>N[C@@H](CCC(=O)N[C@@H](CS)C(=O)NCC(=O)O)C(=O)O</td>\n",
       "      <td>NaN</td>\n",
       "      <td>NaN</td>\n",
       "      <td>NaN</td>\n",
       "      <td>NaN</td>\n",
       "      <td>NaN</td>\n",
       "      <td>NaN</td>\n",
       "      <td>NaN</td>\n",
       "      <td>NaN</td>\n",
       "    </tr>\n",
       "    <tr>\n",
       "      <th>1</th>\n",
       "      <td>Glucosamine</td>\n",
       "      <td>CHEBI:5417</td>\n",
       "      <td>CHEBI:5417</td>\n",
       "      <td>Glucosamine</td>\n",
       "      <td>True</td>\n",
       "      <td>NaN</td>\n",
       "      <td>DB01296</td>\n",
       "      <td>C01811</td>\n",
       "      <td>NaN</td>\n",
       "      <td>NaN</td>\n",
       "      <td>NaN</td>\n",
       "      <td>NaN</td>\n",
       "      <td>NaN</td>\n",
       "      <td>NaN</td>\n",
       "    </tr>\n",
       "    <tr>\n",
       "      <th>2</th>\n",
       "      <td>creatine</td>\n",
       "      <td>CHEBI:16919</td>\n",
       "      <td>CHEBI:16919</td>\n",
       "      <td>Creatine</td>\n",
       "      <td>True</td>\n",
       "      <td>CN(CC(O)=O)C(N)=N</td>\n",
       "      <td>DB00148</td>\n",
       "      <td>C00300</td>\n",
       "      <td>566</td>\n",
       "      <td>4661</td>\n",
       "      <td>HMDB0000064</td>\n",
       "      <td>CREATINE</td>\n",
       "      <td>CRN</td>\n",
       "      <td>Creatine</td>\n",
       "    </tr>\n",
       "  </tbody>\n",
       "</table>\n",
       "</div>"
      ],
      "text/plain": [
       "         QUERY        CHEBI    REF_CHEBI     REF_NAME  EXACT_MATCH  \\\n",
       "0  glutathione  CHEBI:16856                                   True   \n",
       "1  Glucosamine   CHEBI:5417   CHEBI:5417  Glucosamine         True   \n",
       "2     creatine  CHEBI:16919  CHEBI:16919     Creatine         True   \n",
       "\n",
       "                                           SMILES DrugBank KEGG COMPOUND  \\\n",
       "0  N[C@@H](CCC(=O)N[C@@H](CS)C(=O)NCC(=O)O)C(=O)O      NaN           NaN   \n",
       "1                                             NaN  DB01296        C01811   \n",
       "2                               CN(CC(O)=O)C(N)=N  DB00148        C00300   \n",
       "\n",
       "  Chemspider DrugCentral         HMDB   MetaCyc PDBeChem Wikipedia  \n",
       "0        NaN         NaN          NaN       NaN      NaN       NaN  \n",
       "1        NaN         NaN          NaN       NaN      NaN       NaN  \n",
       "2        566        4661  HMDB0000064  CREATINE      CRN  Creatine  "
      ]
     },
     "execution_count": 8,
     "metadata": {},
     "output_type": "execute_result"
    }
   ],
   "source": [
    "std.process_many(['glutathione', 'Glucosamine', 'creatine'])"
   ]
  },
  {
   "cell_type": "code",
   "execution_count": 9,
   "id": "09dde943-2f2b-4c9b-aa87-f4d883fede93",
   "metadata": {},
   "outputs": [
    {
     "name": "stderr",
     "output_type": "stream",
     "text": [
      "WARNING:root:Multiple matches for \"mevalonate\":\n",
      "                 SOURCE  COMPOUND_ID        NAME  TYPE\n",
      "NAME_lowercase                                        \n",
      "mevalonate      UniProt        36464  mevalonate  NAME\n",
      "mevalonate        ChEBI        36464  mevalonate   NaN\n",
      "Taking first entry.\n",
      "WARNING:root:Multiple matches for \"mevalonic acid\":\n",
      "               SOURCE  COMPOUND_ID            NAME     TYPE\n",
      "NAME_lowercase                                             \n",
      "mevalonic acid  ChEBI        25350  mevalonic acid  SYNONYM\n",
      "mevalonic acid  ChEBI        28880  mevalonic acid      NaN\n",
      "mevalonic acid  ChEBI        18790  mevalonic acid  SYNONYM\n",
      "mevalonic acid  ChEBI        17710  mevalonic acid      NaN\n",
      "mevalonic acid  ChEBI        36464  mevalonic acid  SYNONYM\n",
      "Taking first entry.\n",
      "WARNING:root:25350\n"
     ]
    }
   ],
   "source": [
    "assert std.process('mevalonate')['REF_CHEBI'] == std.process('mevalonic acid')['REF_CHEBI']"
   ]
  },
  {
   "cell_type": "code",
   "execution_count": 10,
   "id": "df23cd97-3b46-47f7-8c05-55add7761cd1",
   "metadata": {},
   "outputs": [
    {
     "name": "stderr",
     "output_type": "stream",
     "text": [
      "WARNING:root:Multiple matches for \"(r)-mevalonate\":\n",
      "                 SOURCE  COMPOUND_ID            NAME  TYPE\n",
      "NAME_lowercase                                            \n",
      "(r)-mevalonate  UniProt        36464  (R)-mevalonate  NAME\n",
      "(r)-mevalonate    ChEBI        36464  (R)-mevalonate   NaN\n",
      "Taking first entry.\n",
      "WARNING:root:Multiple matches for \"mevalonic acid\":\n",
      "               SOURCE  COMPOUND_ID            NAME     TYPE\n",
      "NAME_lowercase                                             \n",
      "mevalonic acid  ChEBI        25350  mevalonic acid  SYNONYM\n",
      "mevalonic acid  ChEBI        28880  mevalonic acid      NaN\n",
      "mevalonic acid  ChEBI        18790  mevalonic acid  SYNONYM\n",
      "mevalonic acid  ChEBI        17710  mevalonic acid      NaN\n",
      "mevalonic acid  ChEBI        36464  mevalonic acid  SYNONYM\n",
      "Taking first entry.\n",
      "WARNING:root:25350\n"
     ]
    }
   ],
   "source": [
    "assert std.process('(r)-mevalonate')['REF_CHEBI'] == std.process('mevalonic acid')['REF_CHEBI']"
   ]
  },
  {
   "cell_type": "code",
   "execution_count": 11,
   "id": "3375d69c-a674-49e0-901a-e0bf7c59a706",
   "metadata": {},
   "outputs": [
    {
     "name": "stderr",
     "output_type": "stream",
     "text": [
      "WARNING:root:Multiple matches for \"(r)-mevalonate\":\n",
      "                 SOURCE  COMPOUND_ID            NAME  TYPE\n",
      "NAME_lowercase                                            \n",
      "(r)-mevalonate  UniProt        36464  (R)-mevalonate  NAME\n",
      "(r)-mevalonate    ChEBI        36464  (R)-mevalonate   NaN\n",
      "Taking first entry.\n",
      "WARNING:root:Multiple matches for \"(s)-mevalonic acid\":\n",
      "                   SOURCE  COMPOUND_ID                NAME     TYPE\n",
      "NAME_lowercase                                                     \n",
      "(s)-mevalonic acid  ChEBI        28880  (S)-mevalonic acid      NaN\n",
      "(s)-mevalonic acid  ChEBI        18790  (S)-mevalonic acid  SYNONYM\n",
      "Taking first entry.\n"
     ]
    }
   ],
   "source": [
    "assert std.process('(r)-mevalonate')['REF_CHEBI'] == std.process('(s)-mevalonic acid')['REF_CHEBI']"
   ]
  },
  {
   "cell_type": "code",
   "execution_count": 12,
   "id": "8e254c02-f42c-453e-b2c8-9d748a2e6209",
   "metadata": {},
   "outputs": [
    {
     "name": "stderr",
     "output_type": "stream",
     "text": [
      "WARNING:root:Multiple matches for \"mevalonate\":\n",
      "                 SOURCE  COMPOUND_ID        NAME  TYPE\n",
      "NAME_lowercase                                        \n",
      "mevalonate      UniProt        36464  mevalonate  NAME\n",
      "mevalonate        ChEBI        36464  mevalonate   NaN\n",
      "Taking first entry.\n"
     ]
    },
    {
     "data": {
      "text/plain": [
       "{'CHEBI': 'CHEBI:36464',\n",
       " 'REF_CHEBI': 'CHEBI:25351',\n",
       " 'REF_NAME': 'Mevalonic acid',\n",
       " 'EXACT_MATCH': True,\n",
       " 'COMPOUND_ID': 36464,\n",
       " 'SMILES': 'C[C@@](O)(CCO)CC([O-])=O',\n",
       " 'QUERY': 'Mevalonate',\n",
       " 'KEGG COMPOUND': 'C00418',\n",
       " 'MetaCyc': 'MEVALONATE',\n",
       " 'PDBeChem': 'MEV'}"
      ]
     },
     "execution_count": 12,
     "metadata": {},
     "output_type": "execute_result"
    }
   ],
   "source": [
    "std.process('Mevalonate')"
   ]
  },
  {
   "cell_type": "code",
   "execution_count": 33,
   "id": "351e3964-e480-4bc5-8396-5a303b3a3a54",
   "metadata": {},
   "outputs": [
    {
     "name": "stderr",
     "output_type": "stream",
     "text": [
      "WARNING:root:Multiple matches for \"creatine\":\n",
      "                       SOURCE  COMPOUND_ID      NAME     TYPE\n",
      "NAME_lowercase                                               \n",
      "creatine        KEGG COMPOUND        16919  Creatine  SYNONYM\n",
      "creatine              UniProt        57947  creatine     NAME\n",
      "creatine                ChEBI        16919  creatine      NaN\n",
      "Taking first entry.\n"
     ]
    },
    {
     "data": {
      "text/plain": [
       "{'CHEBI': 'CHEBI:16919',\n",
       " 'REF_CHEBI': 'CHEBI:16919',\n",
       " 'REF_NAME': 'Creatine',\n",
       " 'EXACT_MATCH': True,\n",
       " 'COMPOUND_ID': 16919,\n",
       " 'SMILES': 'CN(CC(O)=O)C(N)=N',\n",
       " 'QUERY': 'Creatine',\n",
       " 'Chemspider': '566',\n",
       " 'DrugBank': 'DB00148',\n",
       " 'DrugCentral': '4661',\n",
       " 'HMDB': 'HMDB0000064',\n",
       " 'KEGG COMPOUND': 'C00300',\n",
       " 'MetaCyc': 'CREATINE',\n",
       " 'PDBeChem': 'CRN',\n",
       " 'Wikipedia': 'Creatine'}"
      ]
     },
     "execution_count": 33,
     "metadata": {},
     "output_type": "execute_result"
    }
   ],
   "source": [
    "std.process('Creatine')"
   ]
  },
  {
   "cell_type": "markdown",
   "id": "688bd05b-5bbe-4d68-b660-ec4ceedb1a92",
   "metadata": {},
   "source": [
    "## Process multiple queries at once"
   ]
  },
  {
   "cell_type": "markdown",
   "id": "0da8d125-cb0a-4a18-83ea-7c10ef5a2eaa",
   "metadata": {},
   "source": [
    "## Mevalonate"
   ]
  },
  {
   "cell_type": "code",
   "execution_count": 13,
   "id": "98d31a14-3c89-419e-a2d9-f25e3f7ddbc9",
   "metadata": {},
   "outputs": [
    {
     "name": "stderr",
     "output_type": "stream",
     "text": [
      "WARNING:root:Multiple matches for \"(r)-mevalonate\":\n",
      "                 SOURCE  COMPOUND_ID            NAME  TYPE\n",
      "NAME_lowercase                                            \n",
      "(r)-mevalonate  UniProt        36464  (R)-mevalonate  NAME\n",
      "(r)-mevalonate    ChEBI        36464  (R)-mevalonate   NaN\n",
      "Taking first entry.\n",
      "WARNING:root:Multiple matches for \"(r)-mevalonate\":\n",
      "                 SOURCE  COMPOUND_ID            NAME  TYPE\n",
      "NAME_lowercase                                            \n",
      "(r)-mevalonate  UniProt        36464  (R)-mevalonate  NAME\n",
      "(r)-mevalonate    ChEBI        36464  (R)-mevalonate   NaN\n",
      "Taking first entry.\n",
      "WARNING:root:25350\n",
      "WARNING:root:Multiple matches for \"mevalonate\":\n",
      "                 SOURCE  COMPOUND_ID        NAME  TYPE\n",
      "NAME_lowercase                                        \n",
      "mevalonate      UniProt        36464  mevalonate  NAME\n",
      "mevalonate        ChEBI        36464  mevalonate   NaN\n",
      "Taking first entry.\n",
      "WARNING:root:Multiple matches for \"(r)-mevalonic acid\":\n",
      "                   SOURCE  COMPOUND_ID                NAME     TYPE\n",
      "NAME_lowercase                                                     \n",
      "(r)-mevalonic acid  ChEBI        17710  (R)-mevalonic acid      NaN\n",
      "(r)-mevalonic acid  ChEBI        36464  (R)-mevalonic acid  SYNONYM\n",
      "Taking first entry.\n",
      "WARNING:root:Multiple matches for \"(s)-mevalonic acid\":\n",
      "                   SOURCE  COMPOUND_ID                NAME     TYPE\n",
      "NAME_lowercase                                                     \n",
      "(s)-mevalonic acid  ChEBI        28880  (S)-mevalonic acid      NaN\n",
      "(s)-mevalonic acid  ChEBI        18790  (S)-mevalonic acid  SYNONYM\n",
      "Taking first entry.\n",
      "WARNING:root:Multiple matches for \"mevalonic acid\":\n",
      "               SOURCE  COMPOUND_ID            NAME     TYPE\n",
      "NAME_lowercase                                             \n",
      "mevalonic acid  ChEBI        25350  mevalonic acid  SYNONYM\n",
      "mevalonic acid  ChEBI        28880  mevalonic acid      NaN\n",
      "mevalonic acid  ChEBI        18790  mevalonic acid  SYNONYM\n",
      "mevalonic acid  ChEBI        17710  mevalonic acid      NaN\n",
      "mevalonic acid  ChEBI        36464  mevalonic acid  SYNONYM\n",
      "Taking first entry.\n",
      "WARNING:root:25350\n"
     ]
    },
    {
     "data": {
      "text/html": [
       "<div>\n",
       "<style scoped>\n",
       "    .dataframe tbody tr th:only-of-type {\n",
       "        vertical-align: middle;\n",
       "    }\n",
       "\n",
       "    .dataframe tbody tr th {\n",
       "        vertical-align: top;\n",
       "    }\n",
       "\n",
       "    .dataframe thead th {\n",
       "        text-align: right;\n",
       "    }\n",
       "</style>\n",
       "<table border=\"1\" class=\"dataframe\">\n",
       "  <thead>\n",
       "    <tr style=\"text-align: right;\">\n",
       "      <th></th>\n",
       "      <th>QUERY</th>\n",
       "      <th>CHEBI</th>\n",
       "      <th>REF_CHEBI</th>\n",
       "      <th>REF_NAME</th>\n",
       "      <th>EXACT_MATCH</th>\n",
       "      <th>SMILES</th>\n",
       "      <th>KEGG COMPOUND</th>\n",
       "      <th>MetaCyc</th>\n",
       "      <th>PDBeChem</th>\n",
       "      <th>DrugBank</th>\n",
       "      <th>KNApSAcK</th>\n",
       "      <th>LIPID MAPS</th>\n",
       "      <th>Wikipedia</th>\n",
       "    </tr>\n",
       "  </thead>\n",
       "  <tbody>\n",
       "    <tr>\n",
       "      <th>0</th>\n",
       "      <td>(R)-mevalonate</td>\n",
       "      <td>CHEBI:36464</td>\n",
       "      <td>CHEBI:25351</td>\n",
       "      <td>Mevalonic acid</td>\n",
       "      <td>True</td>\n",
       "      <td>C[C@@](O)(CCO)CC([O-])=O</td>\n",
       "      <td>C00418</td>\n",
       "      <td>MEVALONATE</td>\n",
       "      <td>MEV</td>\n",
       "      <td>NaN</td>\n",
       "      <td>NaN</td>\n",
       "      <td>NaN</td>\n",
       "      <td>NaN</td>\n",
       "    </tr>\n",
       "    <tr>\n",
       "      <th>1</th>\n",
       "      <td>(S)-mevalonate</td>\n",
       "      <td>CHEBI:25350</td>\n",
       "      <td>CHEBI:25351</td>\n",
       "      <td>Mevalonic acid</td>\n",
       "      <td>False</td>\n",
       "      <td>NaN</td>\n",
       "      <td>NaN</td>\n",
       "      <td>NaN</td>\n",
       "      <td>NaN</td>\n",
       "      <td>NaN</td>\n",
       "      <td>NaN</td>\n",
       "      <td>NaN</td>\n",
       "      <td>NaN</td>\n",
       "    </tr>\n",
       "    <tr>\n",
       "      <th>2</th>\n",
       "      <td>mevalonate</td>\n",
       "      <td>CHEBI:36464</td>\n",
       "      <td>CHEBI:25351</td>\n",
       "      <td>Mevalonic acid</td>\n",
       "      <td>True</td>\n",
       "      <td>C[C@@](O)(CCO)CC([O-])=O</td>\n",
       "      <td>C00418</td>\n",
       "      <td>MEVALONATE</td>\n",
       "      <td>MEV</td>\n",
       "      <td>NaN</td>\n",
       "      <td>NaN</td>\n",
       "      <td>NaN</td>\n",
       "      <td>NaN</td>\n",
       "    </tr>\n",
       "    <tr>\n",
       "      <th>3</th>\n",
       "      <td>(R)-mevalonic acid</td>\n",
       "      <td>CHEBI:17710</td>\n",
       "      <td>CHEBI:25351</td>\n",
       "      <td>Mevalonic acid</td>\n",
       "      <td>True</td>\n",
       "      <td>C[C@@](O)(CCO)CC(O)=O</td>\n",
       "      <td>C00418</td>\n",
       "      <td>NaN</td>\n",
       "      <td>NaN</td>\n",
       "      <td>DB03518</td>\n",
       "      <td>C00001195</td>\n",
       "      <td>LMFA01050352</td>\n",
       "      <td>Mevalonic_acid</td>\n",
       "    </tr>\n",
       "    <tr>\n",
       "      <th>4</th>\n",
       "      <td>(S)-mevalonic acid</td>\n",
       "      <td>CHEBI:28880</td>\n",
       "      <td>CHEBI:25351</td>\n",
       "      <td>Mevalonic acid</td>\n",
       "      <td>True</td>\n",
       "      <td>C[C@](O)(CCO)CC(O)=O</td>\n",
       "      <td>C02104</td>\n",
       "      <td>NaN</td>\n",
       "      <td>NaN</td>\n",
       "      <td>NaN</td>\n",
       "      <td>C00001195</td>\n",
       "      <td>NaN</td>\n",
       "      <td>NaN</td>\n",
       "    </tr>\n",
       "    <tr>\n",
       "      <th>5</th>\n",
       "      <td>mevalonic acid</td>\n",
       "      <td>CHEBI:25350</td>\n",
       "      <td>CHEBI:25351</td>\n",
       "      <td>Mevalonic acid</td>\n",
       "      <td>True</td>\n",
       "      <td>NaN</td>\n",
       "      <td>NaN</td>\n",
       "      <td>NaN</td>\n",
       "      <td>NaN</td>\n",
       "      <td>NaN</td>\n",
       "      <td>NaN</td>\n",
       "      <td>NaN</td>\n",
       "      <td>NaN</td>\n",
       "    </tr>\n",
       "  </tbody>\n",
       "</table>\n",
       "</div>"
      ],
      "text/plain": [
       "                QUERY        CHEBI    REF_CHEBI        REF_NAME  EXACT_MATCH  \\\n",
       "0      (R)-mevalonate  CHEBI:36464  CHEBI:25351  Mevalonic acid         True   \n",
       "1      (S)-mevalonate  CHEBI:25350  CHEBI:25351  Mevalonic acid        False   \n",
       "2          mevalonate  CHEBI:36464  CHEBI:25351  Mevalonic acid         True   \n",
       "3  (R)-mevalonic acid  CHEBI:17710  CHEBI:25351  Mevalonic acid         True   \n",
       "4  (S)-mevalonic acid  CHEBI:28880  CHEBI:25351  Mevalonic acid         True   \n",
       "5      mevalonic acid  CHEBI:25350  CHEBI:25351  Mevalonic acid         True   \n",
       "\n",
       "                     SMILES KEGG COMPOUND     MetaCyc PDBeChem DrugBank  \\\n",
       "0  C[C@@](O)(CCO)CC([O-])=O        C00418  MEVALONATE      MEV      NaN   \n",
       "1                       NaN           NaN         NaN      NaN      NaN   \n",
       "2  C[C@@](O)(CCO)CC([O-])=O        C00418  MEVALONATE      MEV      NaN   \n",
       "3     C[C@@](O)(CCO)CC(O)=O        C00418         NaN      NaN  DB03518   \n",
       "4      C[C@](O)(CCO)CC(O)=O        C02104         NaN      NaN      NaN   \n",
       "5                       NaN           NaN         NaN      NaN      NaN   \n",
       "\n",
       "    KNApSAcK    LIPID MAPS       Wikipedia  \n",
       "0        NaN           NaN             NaN  \n",
       "1        NaN           NaN             NaN  \n",
       "2        NaN           NaN             NaN  \n",
       "3  C00001195  LMFA01050352  Mevalonic_acid  \n",
       "4  C00001195           NaN             NaN  \n",
       "5        NaN           NaN             NaN  "
      ]
     },
     "execution_count": 13,
     "metadata": {},
     "output_type": "execute_result"
    }
   ],
   "source": [
    "std.process_many(['(R)-mevalonate', '(S)-mevalonate', 'mevalonate', '(R)-mevalonic acid', '(S)-mevalonic acid', 'mevalonic acid'])"
   ]
  },
  {
   "cell_type": "markdown",
   "id": "7ce81c9b-dd8e-43ed-9283-17c74e1ab8dc",
   "metadata": {},
   "source": [
    "## Arabitol"
   ]
  },
  {
   "cell_type": "code",
   "execution_count": 14,
   "id": "1fcd2d14-0a05-413e-9859-046b9505d008",
   "metadata": {},
   "outputs": [
    {
     "name": "stderr",
     "output_type": "stream",
     "text": [
      "WARNING:root:Multiple matches for \"d-arabinitol\":\n",
      "                       SOURCE  COMPOUND_ID          NAME        TYPE\n",
      "NAME_lowercase                                                      \n",
      "d-arabinitol    KEGG COMPOUND        18333  D-Arabinitol     SYNONYM\n",
      "d-arabinitol            IUPAC        18333  D-arabinitol  IUPAC NAME\n",
      "d-arabinitol          UniProt        18333  D-arabinitol        NAME\n",
      "d-arabinitol            ChEBI        18333  D-arabinitol         NaN\n",
      "Taking first entry.\n",
      "WARNING:root:Multiple matches for \"l-arabinitol\":\n",
      "                       SOURCE  COMPOUND_ID          NAME        TYPE\n",
      "NAME_lowercase                                                      \n",
      "l-arabinitol    KEGG COMPOUND        18403  L-Arabinitol     SYNONYM\n",
      "l-arabinitol            IUPAC        18403  L-arabinitol  IUPAC NAME\n",
      "l-arabinitol          UniProt        18403  L-arabinitol        NAME\n",
      "l-arabinitol            ChEBI        18403  L-arabinitol         NaN\n",
      "Taking first entry.\n"
     ]
    },
    {
     "data": {
      "text/html": [
       "<div>\n",
       "<style scoped>\n",
       "    .dataframe tbody tr th:only-of-type {\n",
       "        vertical-align: middle;\n",
       "    }\n",
       "\n",
       "    .dataframe tbody tr th {\n",
       "        vertical-align: top;\n",
       "    }\n",
       "\n",
       "    .dataframe thead th {\n",
       "        text-align: right;\n",
       "    }\n",
       "</style>\n",
       "<table border=\"1\" class=\"dataframe\">\n",
       "  <thead>\n",
       "    <tr style=\"text-align: right;\">\n",
       "      <th></th>\n",
       "      <th>QUERY</th>\n",
       "      <th>CHEBI</th>\n",
       "      <th>REF_CHEBI</th>\n",
       "      <th>REF_NAME</th>\n",
       "      <th>EXACT_MATCH</th>\n",
       "      <th>SMILES</th>\n",
       "      <th>HMDB</th>\n",
       "      <th>KEGG COMPOUND</th>\n",
       "      <th>KNApSAcK</th>\n",
       "      <th>Wikipedia</th>\n",
       "      <th>MetaCyc</th>\n",
       "    </tr>\n",
       "  </thead>\n",
       "  <tbody>\n",
       "    <tr>\n",
       "      <th>0</th>\n",
       "      <td>Arabitol</td>\n",
       "      <td>CHEBI:18333</td>\n",
       "      <td>CHEBI:22605</td>\n",
       "      <td>Arabinitol</td>\n",
       "      <td>False</td>\n",
       "      <td>OC[C@@H](O)C(O)[C@H](O)CO</td>\n",
       "      <td>HMDB0000568</td>\n",
       "      <td>C01904</td>\n",
       "      <td>C00001156</td>\n",
       "      <td>D-arabinitol</td>\n",
       "      <td>NaN</td>\n",
       "    </tr>\n",
       "    <tr>\n",
       "      <th>1</th>\n",
       "      <td>Arabinitol</td>\n",
       "      <td>CHEBI:18333</td>\n",
       "      <td>CHEBI:22605</td>\n",
       "      <td>Arabinitol</td>\n",
       "      <td>False</td>\n",
       "      <td>OC[C@@H](O)C(O)[C@H](O)CO</td>\n",
       "      <td>HMDB0000568</td>\n",
       "      <td>C01904</td>\n",
       "      <td>C00001156</td>\n",
       "      <td>D-arabinitol</td>\n",
       "      <td>NaN</td>\n",
       "    </tr>\n",
       "    <tr>\n",
       "      <th>2</th>\n",
       "      <td>arabitol</td>\n",
       "      <td>CHEBI:18333</td>\n",
       "      <td>CHEBI:22605</td>\n",
       "      <td>Arabinitol</td>\n",
       "      <td>False</td>\n",
       "      <td>OC[C@@H](O)C(O)[C@H](O)CO</td>\n",
       "      <td>HMDB0000568</td>\n",
       "      <td>C01904</td>\n",
       "      <td>C00001156</td>\n",
       "      <td>D-arabinitol</td>\n",
       "      <td>NaN</td>\n",
       "    </tr>\n",
       "    <tr>\n",
       "      <th>3</th>\n",
       "      <td>arabinitol</td>\n",
       "      <td>CHEBI:18333</td>\n",
       "      <td>CHEBI:22605</td>\n",
       "      <td>Arabinitol</td>\n",
       "      <td>False</td>\n",
       "      <td>OC[C@@H](O)C(O)[C@H](O)CO</td>\n",
       "      <td>HMDB0000568</td>\n",
       "      <td>C01904</td>\n",
       "      <td>C00001156</td>\n",
       "      <td>D-arabinitol</td>\n",
       "      <td>NaN</td>\n",
       "    </tr>\n",
       "    <tr>\n",
       "      <th>4</th>\n",
       "      <td>D-arabinitol</td>\n",
       "      <td>CHEBI:18333</td>\n",
       "      <td>CHEBI:22605</td>\n",
       "      <td>Arabinitol</td>\n",
       "      <td>True</td>\n",
       "      <td>OC[C@@H](O)C(O)[C@H](O)CO</td>\n",
       "      <td>HMDB0000568</td>\n",
       "      <td>C01904</td>\n",
       "      <td>C00001156</td>\n",
       "      <td>D-arabinitol</td>\n",
       "      <td>NaN</td>\n",
       "    </tr>\n",
       "    <tr>\n",
       "      <th>5</th>\n",
       "      <td>L-arabinitol</td>\n",
       "      <td>CHEBI:18403</td>\n",
       "      <td>CHEBI:22605</td>\n",
       "      <td>Arabinitol</td>\n",
       "      <td>True</td>\n",
       "      <td>OC[C@H](O)C(O)[C@@H](O)CO</td>\n",
       "      <td>HMDB0001851</td>\n",
       "      <td>C00532</td>\n",
       "      <td>NaN</td>\n",
       "      <td>NaN</td>\n",
       "      <td>L-ARABITOL</td>\n",
       "    </tr>\n",
       "  </tbody>\n",
       "</table>\n",
       "</div>"
      ],
      "text/plain": [
       "          QUERY        CHEBI    REF_CHEBI    REF_NAME  EXACT_MATCH  \\\n",
       "0      Arabitol  CHEBI:18333  CHEBI:22605  Arabinitol        False   \n",
       "1    Arabinitol  CHEBI:18333  CHEBI:22605  Arabinitol        False   \n",
       "2      arabitol  CHEBI:18333  CHEBI:22605  Arabinitol        False   \n",
       "3    arabinitol  CHEBI:18333  CHEBI:22605  Arabinitol        False   \n",
       "4  D-arabinitol  CHEBI:18333  CHEBI:22605  Arabinitol         True   \n",
       "5  L-arabinitol  CHEBI:18403  CHEBI:22605  Arabinitol         True   \n",
       "\n",
       "                      SMILES         HMDB KEGG COMPOUND   KNApSAcK  \\\n",
       "0  OC[C@@H](O)C(O)[C@H](O)CO  HMDB0000568        C01904  C00001156   \n",
       "1  OC[C@@H](O)C(O)[C@H](O)CO  HMDB0000568        C01904  C00001156   \n",
       "2  OC[C@@H](O)C(O)[C@H](O)CO  HMDB0000568        C01904  C00001156   \n",
       "3  OC[C@@H](O)C(O)[C@H](O)CO  HMDB0000568        C01904  C00001156   \n",
       "4  OC[C@@H](O)C(O)[C@H](O)CO  HMDB0000568        C01904  C00001156   \n",
       "5  OC[C@H](O)C(O)[C@@H](O)CO  HMDB0001851        C00532        NaN   \n",
       "\n",
       "      Wikipedia     MetaCyc  \n",
       "0  D-arabinitol         NaN  \n",
       "1  D-arabinitol         NaN  \n",
       "2  D-arabinitol         NaN  \n",
       "3  D-arabinitol         NaN  \n",
       "4  D-arabinitol         NaN  \n",
       "5           NaN  L-ARABITOL  "
      ]
     },
     "execution_count": 14,
     "metadata": {},
     "output_type": "execute_result"
    }
   ],
   "source": [
    "x = std.process_many(['Arabitol', 'Arabinitol', 'arabitol', 'arabinitol', 'D-arabinitol', 'L-arabinitol'])\n",
    "x"
   ]
  },
  {
   "cell_type": "code",
   "execution_count": 15,
   "id": "c7801472-0dc0-4077-af0f-b0483dc4cc1b",
   "metadata": {},
   "outputs": [
    {
     "data": {
      "text/plain": [
       "['3', 'C', '2', '0', '5']"
      ]
     },
     "execution_count": 15,
     "metadata": {},
     "output_type": "execute_result"
    }
   ],
   "source": [
    "list(set(x.loc[5, 'KEGG COMPOUND']))"
   ]
  },
  {
   "cell_type": "code",
   "execution_count": null,
   "id": "9e189e6b-5c35-4957-820d-63aa3f2ffa73",
   "metadata": {},
   "outputs": [],
   "source": []
  },
  {
   "cell_type": "markdown",
   "id": "ef0efcb5-ebd6-4bf9-83d9-ee0b564031e1",
   "metadata": {},
   "source": [
    "# Get smiles string"
   ]
  },
  {
   "cell_type": "code",
   "execution_count": 16,
   "id": "8ebe2e24-251e-47a4-a610-f5bfc1c49a62",
   "metadata": {},
   "outputs": [],
   "source": [
    "std.get_smiles(25351)"
   ]
  },
  {
   "cell_type": "markdown",
   "id": "cf5b0e92-0afc-4d56-a3ae-6469197a6b6a",
   "metadata": {},
   "source": [
    "## Not working yet"
   ]
  },
  {
   "cell_type": "code",
   "execution_count": 17,
   "id": "c6b9c382-19af-4eb0-b6b0-ad819609fee1",
   "metadata": {},
   "outputs": [],
   "source": [
    "std.get_smiles('CHEBI:25351')"
   ]
  },
  {
   "cell_type": "code",
   "execution_count": 18,
   "id": "538af798-72b7-47d5-9d9d-175f9f6a0944",
   "metadata": {},
   "outputs": [],
   "source": [
    "std.get_smiles('ChEBI:25351')"
   ]
  },
  {
   "cell_type": "code",
   "execution_count": 19,
   "id": "776b6ba2-bbda-44fb-bd95-355636d6b673",
   "metadata": {},
   "outputs": [],
   "source": [
    "std.get_smiles('mevalonate')"
   ]
  },
  {
   "cell_type": "code",
   "execution_count": null,
   "id": "e090911c-756c-4fe5-bb01-8a9082ee3a07",
   "metadata": {},
   "outputs": [],
   "source": []
  },
  {
   "cell_type": "code",
   "execution_count": 20,
   "id": "e8d0a6be-9a16-438d-bca1-c0e1ec521e8f",
   "metadata": {},
   "outputs": [
    {
     "data": {
      "text/html": [
       "<div>\n",
       "<style scoped>\n",
       "    .dataframe tbody tr th:only-of-type {\n",
       "        vertical-align: middle;\n",
       "    }\n",
       "\n",
       "    .dataframe tbody tr th {\n",
       "        vertical-align: top;\n",
       "    }\n",
       "\n",
       "    .dataframe thead th {\n",
       "        text-align: right;\n",
       "    }\n",
       "</style>\n",
       "<table border=\"1\" class=\"dataframe\">\n",
       "  <thead>\n",
       "    <tr style=\"text-align: right;\">\n",
       "      <th></th>\n",
       "      <th>SOURCE</th>\n",
       "      <th>COMPOUND_ID</th>\n",
       "      <th>NAME</th>\n",
       "      <th>TYPE</th>\n",
       "      <th>NAME_lowercase</th>\n",
       "    </tr>\n",
       "  </thead>\n",
       "  <tbody>\n",
       "    <tr>\n",
       "      <th>102</th>\n",
       "      <td>KEGG COMPOUND</td>\n",
       "      <td>113</td>\n",
       "      <td>(S)-1,2,3,4-tetrahydro-1-methyl-6,7-isoquinoli...</td>\n",
       "      <td>SYNONYM</td>\n",
       "      <td>(s)-1,2,3,4-tetrahydro-1-methyl-6,7-isoquinoli...</td>\n",
       "    </tr>\n",
       "    <tr>\n",
       "      <th>105</th>\n",
       "      <td>KEGG COMPOUND</td>\n",
       "      <td>15412</td>\n",
       "      <td>(S)-Ureidoglycolate</td>\n",
       "      <td>SYNONYM</td>\n",
       "      <td>(s)-ureidoglycolate</td>\n",
       "    </tr>\n",
       "    <tr>\n",
       "      <th>160</th>\n",
       "      <td>KEGG COMPOUND</td>\n",
       "      <td>15449</td>\n",
       "      <td>(S)-3-Hydroxy-2-methylbutyryl-CoA</td>\n",
       "      <td>SYNONYM</td>\n",
       "      <td>(s)-3-hydroxy-2-methylbutyryl-coa</td>\n",
       "    </tr>\n",
       "    <tr>\n",
       "      <th>359</th>\n",
       "      <td>KEGG COMPOUND</td>\n",
       "      <td>18285</td>\n",
       "      <td>(S)-Stylopine</td>\n",
       "      <td>SYNONYM</td>\n",
       "      <td>(s)-stylopine</td>\n",
       "    </tr>\n",
       "    <tr>\n",
       "      <th>408</th>\n",
       "      <td>KEGG COMPOUND</td>\n",
       "      <td>15455</td>\n",
       "      <td>(S)-3-Hydroxyacyl-CoA</td>\n",
       "      <td>SYNONYM</td>\n",
       "      <td>(s)-3-hydroxyacyl-coa</td>\n",
       "    </tr>\n",
       "    <tr>\n",
       "      <th>...</th>\n",
       "      <td>...</td>\n",
       "      <td>...</td>\n",
       "      <td>...</td>\n",
       "      <td>...</td>\n",
       "      <td>...</td>\n",
       "    </tr>\n",
       "    <tr>\n",
       "      <th>520403</th>\n",
       "      <td>SUBMITTER</td>\n",
       "      <td>140264</td>\n",
       "      <td>16(S)-cystein-S-yl,17hydroxy-(4Z,7Z,10,12,14,1...</td>\n",
       "      <td>NaN</td>\n",
       "      <td>16(s)-cystein-s-yl,17hydroxy-(4z,7z,10,12,14,1...</td>\n",
       "    </tr>\n",
       "    <tr>\n",
       "      <th>520405</th>\n",
       "      <td>ChEBI</td>\n",
       "      <td>140394</td>\n",
       "      <td>16(S)-glutathionyl-17hydroxy-(4Z,7Z,10,12,14,1...</td>\n",
       "      <td>NaN</td>\n",
       "      <td>16(s)-glutathionyl-17hydroxy-(4z,7z,10,12,14,1...</td>\n",
       "    </tr>\n",
       "    <tr>\n",
       "      <th>520406</th>\n",
       "      <td>ChEBI</td>\n",
       "      <td>140397</td>\n",
       "      <td>16(S)-glycinylcystein-S-yl-17hydroxy-(4Z,7Z,10...</td>\n",
       "      <td>NaN</td>\n",
       "      <td>16(s)-glycinylcystein-s-yl-17hydroxy-(4z,7z,10...</td>\n",
       "    </tr>\n",
       "    <tr>\n",
       "      <th>520412</th>\n",
       "      <td>ChEBI</td>\n",
       "      <td>140401</td>\n",
       "      <td>16(S)-cystein-S-yl,17hydroxy-(4Z,7Z,10,12,14,1...</td>\n",
       "      <td>NaN</td>\n",
       "      <td>16(s)-cystein-s-yl,17hydroxy-(4z,7z,10,12,14,1...</td>\n",
       "    </tr>\n",
       "    <tr>\n",
       "      <th>520724</th>\n",
       "      <td>ChEBI</td>\n",
       "      <td>51797</td>\n",
       "      <td>6alpha-[(S)-1-hydroxyethyl]-2-[tetrahydrofuran...</td>\n",
       "      <td>NaN</td>\n",
       "      <td>6alpha-[(s)-1-hydroxyethyl]-2-[tetrahydrofuran...</td>\n",
       "    </tr>\n",
       "  </tbody>\n",
       "</table>\n",
       "<p>3295 rows × 5 columns</p>\n",
       "</div>"
      ],
      "text/plain": [
       "               SOURCE  COMPOUND_ID  \\\n",
       "102     KEGG COMPOUND          113   \n",
       "105     KEGG COMPOUND        15412   \n",
       "160     KEGG COMPOUND        15449   \n",
       "359     KEGG COMPOUND        18285   \n",
       "408     KEGG COMPOUND        15455   \n",
       "...               ...          ...   \n",
       "520403      SUBMITTER       140264   \n",
       "520405          ChEBI       140394   \n",
       "520406          ChEBI       140397   \n",
       "520412          ChEBI       140401   \n",
       "520724          ChEBI        51797   \n",
       "\n",
       "                                                     NAME     TYPE  \\\n",
       "102     (S)-1,2,3,4-tetrahydro-1-methyl-6,7-isoquinoli...  SYNONYM   \n",
       "105                                   (S)-Ureidoglycolate  SYNONYM   \n",
       "160                     (S)-3-Hydroxy-2-methylbutyryl-CoA  SYNONYM   \n",
       "359                                         (S)-Stylopine  SYNONYM   \n",
       "408                                 (S)-3-Hydroxyacyl-CoA  SYNONYM   \n",
       "...                                                   ...      ...   \n",
       "520403  16(S)-cystein-S-yl,17hydroxy-(4Z,7Z,10,12,14,1...      NaN   \n",
       "520405  16(S)-glutathionyl-17hydroxy-(4Z,7Z,10,12,14,1...      NaN   \n",
       "520406  16(S)-glycinylcystein-S-yl-17hydroxy-(4Z,7Z,10...      NaN   \n",
       "520412  16(S)-cystein-S-yl,17hydroxy-(4Z,7Z,10,12,14,1...      NaN   \n",
       "520724  6alpha-[(S)-1-hydroxyethyl]-2-[tetrahydrofuran...      NaN   \n",
       "\n",
       "                                           NAME_lowercase  \n",
       "102     (s)-1,2,3,4-tetrahydro-1-methyl-6,7-isoquinoli...  \n",
       "105                                   (s)-ureidoglycolate  \n",
       "160                     (s)-3-hydroxy-2-methylbutyryl-coa  \n",
       "359                                         (s)-stylopine  \n",
       "408                                 (s)-3-hydroxyacyl-coa  \n",
       "...                                                   ...  \n",
       "520403  16(s)-cystein-s-yl,17hydroxy-(4z,7z,10,12,14,1...  \n",
       "520405  16(s)-glutathionyl-17hydroxy-(4z,7z,10,12,14,1...  \n",
       "520406  16(s)-glycinylcystein-s-yl-17hydroxy-(4z,7z,10...  \n",
       "520412  16(s)-cystein-s-yl,17hydroxy-(4z,7z,10,12,14,1...  \n",
       "520724  6alpha-[(s)-1-hydroxyethyl]-2-[tetrahydrofuran...  \n",
       "\n",
       "[3295 rows x 5 columns]"
      ]
     },
     "execution_count": 20,
     "metadata": {},
     "output_type": "execute_result"
    }
   ],
   "source": [
    "std.names[std.names.NAME.str.contains('(S)-', regex=False)]"
   ]
  },
  {
   "cell_type": "code",
   "execution_count": 21,
   "id": "f23bd745-f8fd-416e-9a94-eefc27bc3567",
   "metadata": {},
   "outputs": [],
   "source": [
    "new_names = std.names[std.names.NAME.str.contains('(S)-', regex=False)].copy()"
   ]
  },
  {
   "cell_type": "code",
   "execution_count": 22,
   "id": "e2d8d0bd-8efc-45fa-8a3f-44b6ef1e787c",
   "metadata": {},
   "outputs": [],
   "source": [
    "new_names['NAME'] = new_names['NAME'].str.replace('(S)-', '')"
   ]
  },
  {
   "cell_type": "code",
   "execution_count": 23,
   "id": "86fc4f83-e329-4308-bda4-28ee5a998ad1",
   "metadata": {},
   "outputs": [],
   "source": [
    "import pandas as pd"
   ]
  },
  {
   "cell_type": "code",
   "execution_count": 24,
   "id": "e9017c01-b677-4f36-802c-ff2a94bfe5fc",
   "metadata": {},
   "outputs": [],
   "source": [
    "def remove_patterns(patterns):\n",
    "    for pattern in patterns:\n",
    "        new_names = std.names[std.names.NAME.str.contains(pattern, regex=False)].copy()\n",
    "        new_names['NAME'] = new_names['NAME'].str.replace(pattern, '')    \n",
    "        std.names = pd.concat([std.names, new_names]).reset_index(drop=True)"
   ]
  },
  {
   "cell_type": "code",
   "execution_count": 25,
   "id": "4f89ab37-309f-494a-80dc-6280413ac43e",
   "metadata": {},
   "outputs": [],
   "source": [
    "# remove_patterns(['(S)-', '(R)-'])\n",
    "#std.names['NAME_lowercase'] = std.names.NAME.str.lower()"
   ]
  },
  {
   "cell_type": "code",
   "execution_count": null,
   "id": "511c6af8-fa0b-46dc-a912-9ff3b603319a",
   "metadata": {},
   "outputs": [],
   "source": []
  },
  {
   "cell_type": "code",
   "execution_count": null,
   "id": "304957a5-3a2f-4564-911b-7db5d51d288b",
   "metadata": {},
   "outputs": [],
   "source": []
  },
  {
   "cell_type": "code",
   "execution_count": null,
   "id": "6bc6ae6a-e491-4296-b3d5-ca5968855b75",
   "metadata": {},
   "outputs": [],
   "source": []
  },
  {
   "cell_type": "code",
   "execution_count": 26,
   "id": "0346601e-1bf6-4319-950c-577243da85dd",
   "metadata": {},
   "outputs": [
    {
     "data": {
      "text/html": [
       "<div>\n",
       "<style scoped>\n",
       "    .dataframe tbody tr th:only-of-type {\n",
       "        vertical-align: middle;\n",
       "    }\n",
       "\n",
       "    .dataframe tbody tr th {\n",
       "        vertical-align: top;\n",
       "    }\n",
       "\n",
       "    .dataframe thead th {\n",
       "        text-align: right;\n",
       "    }\n",
       "</style>\n",
       "<table border=\"1\" class=\"dataframe\">\n",
       "  <thead>\n",
       "    <tr style=\"text-align: right;\">\n",
       "      <th></th>\n",
       "      <th>SOURCE</th>\n",
       "      <th>COMPOUND_ID</th>\n",
       "      <th>NAME</th>\n",
       "      <th>TYPE</th>\n",
       "      <th>NAME_lowercase</th>\n",
       "    </tr>\n",
       "  </thead>\n",
       "  <tbody>\n",
       "    <tr>\n",
       "      <th>518200</th>\n",
       "      <td>UniProt</td>\n",
       "      <td>36464</td>\n",
       "      <td>mevalonate</td>\n",
       "      <td>NAME</td>\n",
       "      <td>mevalonate</td>\n",
       "    </tr>\n",
       "    <tr>\n",
       "      <th>520707</th>\n",
       "      <td>ChEBI</td>\n",
       "      <td>36464</td>\n",
       "      <td>mevalonate</td>\n",
       "      <td>NaN</td>\n",
       "      <td>mevalonate</td>\n",
       "    </tr>\n",
       "  </tbody>\n",
       "</table>\n",
       "</div>"
      ],
      "text/plain": [
       "         SOURCE  COMPOUND_ID        NAME  TYPE NAME_lowercase\n",
       "518200  UniProt        36464  mevalonate  NAME     mevalonate\n",
       "520707    ChEBI        36464  mevalonate   NaN     mevalonate"
      ]
     },
     "execution_count": 26,
     "metadata": {},
     "output_type": "execute_result"
    }
   ],
   "source": [
    "std.get_by_name('Mevalonate')"
   ]
  },
  {
   "cell_type": "code",
   "execution_count": 27,
   "id": "e19a7023-e18a-4797-8f71-d2439c0b5e08",
   "metadata": {},
   "outputs": [
    {
     "data": {
      "text/html": [
       "<div>\n",
       "<style scoped>\n",
       "    .dataframe tbody tr th:only-of-type {\n",
       "        vertical-align: middle;\n",
       "    }\n",
       "\n",
       "    .dataframe tbody tr th {\n",
       "        vertical-align: top;\n",
       "    }\n",
       "\n",
       "    .dataframe thead th {\n",
       "        text-align: right;\n",
       "    }\n",
       "</style>\n",
       "<table border=\"1\" class=\"dataframe\">\n",
       "  <thead>\n",
       "    <tr style=\"text-align: right;\">\n",
       "      <th></th>\n",
       "      <th>SOURCE</th>\n",
       "      <th>COMPOUND_ID</th>\n",
       "      <th>NAME</th>\n",
       "      <th>TYPE</th>\n",
       "      <th>NAME_lowercase</th>\n",
       "    </tr>\n",
       "  </thead>\n",
       "  <tbody>\n",
       "    <tr>\n",
       "      <th>518200</th>\n",
       "      <td>UniProt</td>\n",
       "      <td>36464</td>\n",
       "      <td>mevalonate</td>\n",
       "      <td>NAME</td>\n",
       "      <td>mevalonate</td>\n",
       "    </tr>\n",
       "    <tr>\n",
       "      <th>520707</th>\n",
       "      <td>ChEBI</td>\n",
       "      <td>36464</td>\n",
       "      <td>mevalonate</td>\n",
       "      <td>NaN</td>\n",
       "      <td>mevalonate</td>\n",
       "    </tr>\n",
       "  </tbody>\n",
       "</table>\n",
       "</div>"
      ],
      "text/plain": [
       "         SOURCE  COMPOUND_ID        NAME  TYPE NAME_lowercase\n",
       "518200  UniProt        36464  mevalonate  NAME     mevalonate\n",
       "520707    ChEBI        36464  mevalonate   NaN     mevalonate"
      ]
     },
     "execution_count": 27,
     "metadata": {},
     "output_type": "execute_result"
    }
   ],
   "source": [
    "std.get_by_name('mevalonate')"
   ]
  },
  {
   "cell_type": "code",
   "execution_count": 28,
   "id": "ed159e83-6e03-4e6f-8318-65f962ed38cc",
   "metadata": {},
   "outputs": [
    {
     "data": {
      "text/html": [
       "<div>\n",
       "<style scoped>\n",
       "    .dataframe tbody tr th:only-of-type {\n",
       "        vertical-align: middle;\n",
       "    }\n",
       "\n",
       "    .dataframe tbody tr th {\n",
       "        vertical-align: top;\n",
       "    }\n",
       "\n",
       "    .dataframe thead th {\n",
       "        text-align: right;\n",
       "    }\n",
       "</style>\n",
       "<table border=\"1\" class=\"dataframe\">\n",
       "  <thead>\n",
       "    <tr style=\"text-align: right;\">\n",
       "      <th></th>\n",
       "      <th>SOURCE</th>\n",
       "      <th>COMPOUND_ID</th>\n",
       "      <th>NAME</th>\n",
       "      <th>TYPE</th>\n",
       "      <th>NAME_lowercase</th>\n",
       "    </tr>\n",
       "  </thead>\n",
       "  <tbody>\n",
       "    <tr>\n",
       "      <th>513391</th>\n",
       "      <td>ChEBI</td>\n",
       "      <td>25350</td>\n",
       "      <td>mevalonic acid</td>\n",
       "      <td>SYNONYM</td>\n",
       "      <td>mevalonic acid</td>\n",
       "    </tr>\n",
       "    <tr>\n",
       "      <th>517627</th>\n",
       "      <td>ChEBI</td>\n",
       "      <td>28880</td>\n",
       "      <td>mevalonic acid</td>\n",
       "      <td>NaN</td>\n",
       "      <td>mevalonic acid</td>\n",
       "    </tr>\n",
       "    <tr>\n",
       "      <th>517678</th>\n",
       "      <td>ChEBI</td>\n",
       "      <td>18790</td>\n",
       "      <td>mevalonic acid</td>\n",
       "      <td>SYNONYM</td>\n",
       "      <td>mevalonic acid</td>\n",
       "    </tr>\n",
       "    <tr>\n",
       "      <th>520677</th>\n",
       "      <td>ChEBI</td>\n",
       "      <td>17710</td>\n",
       "      <td>mevalonic acid</td>\n",
       "      <td>NaN</td>\n",
       "      <td>mevalonic acid</td>\n",
       "    </tr>\n",
       "    <tr>\n",
       "      <th>520746</th>\n",
       "      <td>ChEBI</td>\n",
       "      <td>36464</td>\n",
       "      <td>mevalonic acid</td>\n",
       "      <td>SYNONYM</td>\n",
       "      <td>mevalonic acid</td>\n",
       "    </tr>\n",
       "  </tbody>\n",
       "</table>\n",
       "</div>"
      ],
      "text/plain": [
       "       SOURCE  COMPOUND_ID            NAME     TYPE  NAME_lowercase\n",
       "513391  ChEBI        25350  mevalonic acid  SYNONYM  mevalonic acid\n",
       "517627  ChEBI        28880  mevalonic acid      NaN  mevalonic acid\n",
       "517678  ChEBI        18790  mevalonic acid  SYNONYM  mevalonic acid\n",
       "520677  ChEBI        17710  mevalonic acid      NaN  mevalonic acid\n",
       "520746  ChEBI        36464  mevalonic acid  SYNONYM  mevalonic acid"
      ]
     },
     "execution_count": 28,
     "metadata": {},
     "output_type": "execute_result"
    }
   ],
   "source": [
    "std.get_by_name('mevalonic acid')"
   ]
  },
  {
   "cell_type": "code",
   "execution_count": 29,
   "id": "2ffc7f41-9159-4730-b164-781edcd31b6f",
   "metadata": {},
   "outputs": [
    {
     "name": "stderr",
     "output_type": "stream",
     "text": [
      "WARNING:root:Multiple matches for \"mevalonate\":\n",
      "                 SOURCE  COMPOUND_ID        NAME  TYPE\n",
      "NAME_lowercase                                        \n",
      "mevalonate      UniProt        36464  mevalonate  NAME\n",
      "mevalonate        ChEBI        36464  mevalonate   NaN\n",
      "Taking first entry.\n"
     ]
    },
    {
     "data": {
      "text/plain": [
       "(SOURCE            UniProt\n",
       " COMPOUND_ID         36464\n",
       " NAME           mevalonate\n",
       " TYPE                 NAME\n",
       " Name: mevalonate, dtype: object,\n",
       " True)"
      ]
     },
     "execution_count": 29,
     "metadata": {},
     "output_type": "execute_result"
    }
   ],
   "source": [
    "std.search('mevalonate')"
   ]
  },
  {
   "cell_type": "code",
   "execution_count": 30,
   "id": "b013471d-a4e9-40d6-85d0-5d74cccaf77a",
   "metadata": {},
   "outputs": [
    {
     "data": {
      "text/html": [
       "<div>\n",
       "<style scoped>\n",
       "    .dataframe tbody tr th:only-of-type {\n",
       "        vertical-align: middle;\n",
       "    }\n",
       "\n",
       "    .dataframe tbody tr th {\n",
       "        vertical-align: top;\n",
       "    }\n",
       "\n",
       "    .dataframe thead th {\n",
       "        text-align: right;\n",
       "    }\n",
       "</style>\n",
       "<table border=\"1\" class=\"dataframe\">\n",
       "  <thead>\n",
       "    <tr style=\"text-align: right;\">\n",
       "      <th></th>\n",
       "      <th>SOURCE</th>\n",
       "      <th>COMPOUND_ID</th>\n",
       "      <th>TYPE</th>\n",
       "      <th>NAME_lowercase</th>\n",
       "    </tr>\n",
       "    <tr>\n",
       "      <th>NAME</th>\n",
       "      <th></th>\n",
       "      <th></th>\n",
       "      <th></th>\n",
       "      <th></th>\n",
       "    </tr>\n",
       "  </thead>\n",
       "  <tbody>\n",
       "    <tr>\n",
       "      <th>(R)-mevalonate</th>\n",
       "      <td>UniProt</td>\n",
       "      <td>36464</td>\n",
       "      <td>NAME</td>\n",
       "      <td>(r)-mevalonate</td>\n",
       "    </tr>\n",
       "    <tr>\n",
       "      <th>(R)-mevalonate</th>\n",
       "      <td>ChEBI</td>\n",
       "      <td>36464</td>\n",
       "      <td>NaN</td>\n",
       "      <td>(r)-mevalonate</td>\n",
       "    </tr>\n",
       "  </tbody>\n",
       "</table>\n",
       "</div>"
      ],
      "text/plain": [
       "                 SOURCE  COMPOUND_ID  TYPE  NAME_lowercase\n",
       "NAME                                                      \n",
       "(R)-mevalonate  UniProt        36464  NAME  (r)-mevalonate\n",
       "(R)-mevalonate    ChEBI        36464   NaN  (r)-mevalonate"
      ]
     },
     "execution_count": 30,
     "metadata": {},
     "output_type": "execute_result"
    }
   ],
   "source": [
    "std.names.set_index('NAME').loc['(R)-mevalonate']"
   ]
  },
  {
   "cell_type": "code",
   "execution_count": 31,
   "id": "98f75283-0652-4267-a5d6-9db9bb6244dd",
   "metadata": {},
   "outputs": [
    {
     "name": "stderr",
     "output_type": "stream",
     "text": [
      "WARNING:root:Multiple matches for \"mevalonate\":\n",
      "                 SOURCE  COMPOUND_ID        NAME  TYPE\n",
      "NAME_lowercase                                        \n",
      "mevalonate      UniProt        36464  mevalonate  NAME\n",
      "mevalonate        ChEBI        36464  mevalonate   NaN\n",
      "Taking first entry.\n"
     ]
    },
    {
     "data": {
      "text/plain": [
       "{'CHEBI': 'CHEBI:36464',\n",
       " 'REF_CHEBI': 'CHEBI:25351',\n",
       " 'REF_NAME': 'Mevalonic acid',\n",
       " 'EXACT_MATCH': True,\n",
       " 'COMPOUND_ID': 36464,\n",
       " 'SMILES': 'C[C@@](O)(CCO)CC([O-])=O',\n",
       " 'QUERY': 'mevalonate',\n",
       " 'KEGG COMPOUND': 'C00418',\n",
       " 'MetaCyc': 'MEVALONATE',\n",
       " 'PDBeChem': 'MEV'}"
      ]
     },
     "execution_count": 31,
     "metadata": {},
     "output_type": "execute_result"
    }
   ],
   "source": [
    "std.process('mevalonate')"
   ]
  },
  {
   "cell_type": "code",
   "execution_count": 32,
   "id": "e3973611-6e5f-4659-9188-b71eb79f6f1e",
   "metadata": {},
   "outputs": [
    {
     "name": "stderr",
     "output_type": "stream",
     "text": [
      "WARNING:root:Multiple matches for \"mevalonic acid\":\n",
      "               SOURCE  COMPOUND_ID            NAME     TYPE\n",
      "NAME_lowercase                                             \n",
      "mevalonic acid  ChEBI        25350  mevalonic acid  SYNONYM\n",
      "mevalonic acid  ChEBI        28880  mevalonic acid      NaN\n",
      "mevalonic acid  ChEBI        18790  mevalonic acid  SYNONYM\n",
      "mevalonic acid  ChEBI        17710  mevalonic acid      NaN\n",
      "mevalonic acid  ChEBI        36464  mevalonic acid  SYNONYM\n",
      "Taking first entry.\n",
      "WARNING:root:25350\n"
     ]
    },
    {
     "data": {
      "text/plain": [
       "{'CHEBI': 'CHEBI:25350',\n",
       " 'REF_CHEBI': 'CHEBI:25351',\n",
       " 'REF_NAME': 'Mevalonic acid',\n",
       " 'EXACT_MATCH': True,\n",
       " 'COMPOUND_ID': 25350,\n",
       " 'SMILES': None,\n",
       " 'QUERY': 'mevalonic acid'}"
      ]
     },
     "execution_count": 32,
     "metadata": {},
     "output_type": "execute_result"
    }
   ],
   "source": [
    "std.process('mevalonic acid')"
   ]
  },
  {
   "cell_type": "code",
   "execution_count": null,
   "id": "5c3fa567-2eb1-446d-91c4-693144f432a1",
   "metadata": {},
   "outputs": [],
   "source": []
  },
  {
   "cell_type": "code",
   "execution_count": null,
   "id": "5c0e3cf8-eb29-4a98-a86f-d79880a54598",
   "metadata": {},
   "outputs": [],
   "source": []
  },
  {
   "cell_type": "code",
   "execution_count": null,
   "id": "b53084b1-7a6b-422e-9909-49f83d8a8d6e",
   "metadata": {},
   "outputs": [],
   "source": []
  },
  {
   "cell_type": "code",
   "execution_count": null,
   "id": "8266536e-89c7-457e-bb65-1b05383254a3",
   "metadata": {},
   "outputs": [],
   "source": []
  },
  {
   "cell_type": "code",
   "execution_count": null,
   "id": "b551d383-c7e0-46c2-8419-476fe7dcf616",
   "metadata": {},
   "outputs": [],
   "source": []
  },
  {
   "cell_type": "code",
   "execution_count": null,
   "id": "845e392f-ed00-40ba-9c2e-218e3c66d5d9",
   "metadata": {},
   "outputs": [],
   "source": []
  },
  {
   "cell_type": "code",
   "execution_count": null,
   "id": "ef1635a6-30b6-4406-84fc-9112eb96b66d",
   "metadata": {},
   "outputs": [],
   "source": []
  },
  {
   "cell_type": "code",
   "execution_count": null,
   "id": "e554d96f-c636-4745-8530-20ff7fd1ec03",
   "metadata": {},
   "outputs": [],
   "source": []
  },
  {
   "cell_type": "code",
   "execution_count": null,
   "id": "9fcdbfdb-a682-4e8a-a4bf-f593139e4304",
   "metadata": {},
   "outputs": [],
   "source": []
  },
  {
   "cell_type": "code",
   "execution_count": null,
   "id": "3da85b50-cb39-4e57-86d5-10a60008a10c",
   "metadata": {},
   "outputs": [],
   "source": []
  },
  {
   "cell_type": "code",
   "execution_count": null,
   "id": "040bba59-546b-442f-a96a-3d96e25aec9f",
   "metadata": {},
   "outputs": [],
   "source": []
  },
  {
   "cell_type": "code",
   "execution_count": null,
   "id": "aeeaca59-286f-466d-bc7d-4441ad962a5f",
   "metadata": {},
   "outputs": [],
   "source": []
  }
 ],
 "metadata": {
  "kernelspec": {
   "display_name": "Chem",
   "language": "python",
   "name": "chem"
  },
  "language_info": {
   "codemirror_mode": {
    "name": "ipython",
    "version": 3
   },
   "file_extension": ".py",
   "mimetype": "text/x-python",
   "name": "python",
   "nbconvert_exporter": "python",
   "pygments_lexer": "ipython3",
   "version": "3.10.8"
  }
 },
 "nbformat": 4,
 "nbformat_minor": 5
}
