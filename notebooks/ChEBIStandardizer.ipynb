{
 "cells": [
  {
   "cell_type": "code",
   "execution_count": 1,
   "id": "f5f22083-b85e-4c5e-ba95-ed65d061d84e",
   "metadata": {},
   "outputs": [],
   "source": [
    "from chebi_tools import ChEBIStandardizer"
   ]
  },
  {
   "cell_type": "code",
   "execution_count": 2,
   "id": "e7524b2d-2bf2-4586-92b1-bf4ff369f130",
   "metadata": {},
   "outputs": [],
   "source": [
    "std = ChEBIStandardizer()"
   ]
  },
  {
   "cell_type": "markdown",
   "id": "7521bf70-3b8f-4024-a1bd-9071020ee0d2",
   "metadata": {},
   "source": [
    "# Find standardized name records"
   ]
  },
  {
   "cell_type": "code",
   "execution_count": 3,
   "id": "2e103e63-ace9-43fa-a4d2-55df8708588b",
   "metadata": {},
   "outputs": [
    {
     "data": {
      "text/plain": [
       "{'CHEBI': 'CHEBI:25350',\n",
       " 'REF_CHEBI': 'CHEBI:25351',\n",
       " 'REF_NAME': 'Mevalonic acid',\n",
       " 'EXACT_MATCH': True,\n",
       " 'COMPOUND_ID': 25350,\n",
       " 'SMILES': 'CC(O)(CCO)CC([O-])=O',\n",
       " 'QUERY': 'mevalonate'}"
      ]
     },
     "execution_count": 3,
     "metadata": {},
     "output_type": "execute_result"
    }
   ],
   "source": [
    "std.process('mevalonate')"
   ]
  },
  {
   "cell_type": "code",
   "execution_count": 4,
   "id": "dea2d4e2-baff-48d5-893b-5bb0915e720b",
   "metadata": {},
   "outputs": [
    {
     "data": {
      "text/plain": [
       "dict_keys(['CHEBI', 'REF_CHEBI', 'REF_NAME', 'EXACT_MATCH', 'COMPOUND_ID', 'SMILES', 'QUERY'])"
      ]
     },
     "execution_count": 4,
     "metadata": {},
     "output_type": "execute_result"
    }
   ],
   "source": [
    "std.process('mevalonic acid').keys()"
   ]
  },
  {
   "cell_type": "code",
   "execution_count": 7,
   "id": "09dde943-2f2b-4c9b-aa87-f4d883fede93",
   "metadata": {},
   "outputs": [],
   "source": [
    "assert std.process('mevalonate')['REF_CHEBI'] == std.process('mevalonic acid')['REF_CHEBI']"
   ]
  },
  {
   "cell_type": "code",
   "execution_count": 8,
   "id": "df23cd97-3b46-47f7-8c05-55add7761cd1",
   "metadata": {},
   "outputs": [
    {
     "name": "stderr",
     "output_type": "stream",
     "text": [
      "WARNING:root:Multiple matches for \"(r)-mevalonate\":\n",
      "                       SOURCE  COMPOUND_ID            NAME     TYPE\n",
      "NAME_lowercase                                                     \n",
      "(r)-mevalonate  KEGG COMPOUND        17710  (R)-Mevalonate  SYNONYM\n",
      "(r)-mevalonate  KEGG COMPOUND        36464  (R)-Mevalonate  SYNONYM\n",
      "(r)-mevalonate        UniProt        36464  (R)-mevalonate     NAME\n",
      "(r)-mevalonate          ChEBI        36464  (R)-mevalonate      NaN\n",
      "Taking first entry.\n"
     ]
    }
   ],
   "source": [
    "assert std.process('(r)-mevalonate')['REF_CHEBI'] == std.process('mevalonic acid')['REF_CHEBI']"
   ]
  },
  {
   "cell_type": "code",
   "execution_count": 9,
   "id": "3375d69c-a674-49e0-901a-e0bf7c59a706",
   "metadata": {},
   "outputs": [
    {
     "name": "stderr",
     "output_type": "stream",
     "text": [
      "WARNING:root:Multiple matches for \"(r)-mevalonate\":\n",
      "                       SOURCE  COMPOUND_ID            NAME     TYPE\n",
      "NAME_lowercase                                                     \n",
      "(r)-mevalonate  KEGG COMPOUND        17710  (R)-Mevalonate  SYNONYM\n",
      "(r)-mevalonate  KEGG COMPOUND        36464  (R)-Mevalonate  SYNONYM\n",
      "(r)-mevalonate        UniProt        36464  (R)-mevalonate     NAME\n",
      "(r)-mevalonate          ChEBI        36464  (R)-mevalonate      NaN\n",
      "Taking first entry.\n",
      "WARNING:root:Multiple matches for \"(s)-mevalonic acid\":\n",
      "                           SOURCE  COMPOUND_ID                NAME     TYPE\n",
      "NAME_lowercase                                                             \n",
      "(s)-mevalonic acid  KEGG COMPOUND        28880  (S)-Mevalonic acid  SYNONYM\n",
      "(s)-mevalonic acid          ChEBI        28880  (S)-mevalonic acid      NaN\n",
      "Taking first entry.\n"
     ]
    }
   ],
   "source": [
    "assert std.process('(r)-mevalonate')['REF_CHEBI'] == std.process('(s)-mevalonic acid')['REF_CHEBI']"
   ]
  },
  {
   "cell_type": "markdown",
   "id": "688bd05b-5bbe-4d68-b660-ec4ceedb1a92",
   "metadata": {},
   "source": [
    "## Process multiple queries at once"
   ]
  },
  {
   "cell_type": "code",
   "execution_count": 29,
   "id": "98d31a14-3c89-419e-a2d9-f25e3f7ddbc9",
   "metadata": {},
   "outputs": [
    {
     "name": "stderr",
     "output_type": "stream",
     "text": [
      "WARNING:root:Multiple matches for \"succinate\":\n",
      "                 SOURCE  COMPOUND_ID       NAME     TYPE\n",
      "NAME_lowercase                                          \n",
      "succinate       UniProt        30031  succinate     NAME\n",
      "succinate         ChEBI        26806  succinate  SYNONYM\n",
      "Taking first entry.\n",
      "WARNING:root:Multiple matches for \"aspartate\":\n",
      "               SOURCE  COMPOUND_ID       NAME        TYPE\n",
      "NAME_lowercase                                           \n",
      "aspartate       IUPAC        29995  aspartate  IUPAC NAME\n",
      "aspartate       ChEBI        72314  aspartate     SYNONYM\n",
      "aspartate       ChEBI       132943  aspartate         NaN\n",
      "Taking first entry.\n"
     ]
    },
    {
     "data": {
      "text/html": [
       "<div>\n",
       "<style scoped>\n",
       "    .dataframe tbody tr th:only-of-type {\n",
       "        vertical-align: middle;\n",
       "    }\n",
       "\n",
       "    .dataframe tbody tr th {\n",
       "        vertical-align: top;\n",
       "    }\n",
       "\n",
       "    .dataframe thead th {\n",
       "        text-align: right;\n",
       "    }\n",
       "</style>\n",
       "<table border=\"1\" class=\"dataframe\">\n",
       "  <thead>\n",
       "    <tr style=\"text-align: right;\">\n",
       "      <th></th>\n",
       "      <th>CHEBI</th>\n",
       "      <th>REF_CHEBI</th>\n",
       "      <th>REF_NAME</th>\n",
       "      <th>EXACT_MATCH</th>\n",
       "      <th>COMPOUND_ID</th>\n",
       "      <th>SMILES</th>\n",
       "      <th>QUERY</th>\n",
       "    </tr>\n",
       "  </thead>\n",
       "  <tbody>\n",
       "    <tr>\n",
       "      <th>0</th>\n",
       "      <td>CHEBI:17710</td>\n",
       "      <td>CHEBI:25351</td>\n",
       "      <td>mevalonic acid</td>\n",
       "      <td>True</td>\n",
       "      <td>17710</td>\n",
       "      <td>C[C@@](O)(CCO)CC(O)=O</td>\n",
       "      <td>mevalonic acid</td>\n",
       "    </tr>\n",
       "    <tr>\n",
       "      <th>1</th>\n",
       "      <td>CHEBI:25350</td>\n",
       "      <td>CHEBI:25351</td>\n",
       "      <td>mevalonic acid</td>\n",
       "      <td>True</td>\n",
       "      <td>25350</td>\n",
       "      <td>CC(O)(CCO)CC([O-])=O</td>\n",
       "      <td>mevalonate</td>\n",
       "    </tr>\n",
       "    <tr>\n",
       "      <th>2</th>\n",
       "      <td>CHEBI:18333</td>\n",
       "      <td>CHEBI:18403</td>\n",
       "      <td>L-arabinitol</td>\n",
       "      <td>False</td>\n",
       "      <td>18333</td>\n",
       "      <td>OC[C@@H](O)C(O)[C@H](O)CO</td>\n",
       "      <td>arabitol</td>\n",
       "    </tr>\n",
       "    <tr>\n",
       "      <th>3</th>\n",
       "      <td>CHEBI:30031</td>\n",
       "      <td>CHEBI:15741</td>\n",
       "      <td>succinic acid</td>\n",
       "      <td>True</td>\n",
       "      <td>30031</td>\n",
       "      <td>[O-]C(=O)CCC([O-])=O</td>\n",
       "      <td>succinate</td>\n",
       "    </tr>\n",
       "    <tr>\n",
       "      <th>4</th>\n",
       "      <td>CHEBI:15741</td>\n",
       "      <td>CHEBI:15741</td>\n",
       "      <td>succinic acid</td>\n",
       "      <td>False</td>\n",
       "      <td>15741</td>\n",
       "      <td>OC(=O)CCC(O)=O</td>\n",
       "      <td>succininc acid</td>\n",
       "    </tr>\n",
       "    <tr>\n",
       "      <th>5</th>\n",
       "      <td>CHEBI:29995</td>\n",
       "      <td>CHEBI:22660</td>\n",
       "      <td>aspartic acid</td>\n",
       "      <td>True</td>\n",
       "      <td>29995</td>\n",
       "      <td>NC(CC([O-])=O)C([O-])=O</td>\n",
       "      <td>aspartate</td>\n",
       "    </tr>\n",
       "  </tbody>\n",
       "</table>\n",
       "</div>"
      ],
      "text/plain": [
       "         CHEBI    REF_CHEBI  ...                     SMILES           QUERY\n",
       "0  CHEBI:17710  CHEBI:25351  ...      C[C@@](O)(CCO)CC(O)=O  mevalonic acid\n",
       "1  CHEBI:25350  CHEBI:25351  ...       CC(O)(CCO)CC([O-])=O      mevalonate\n",
       "2  CHEBI:18333  CHEBI:18403  ...  OC[C@@H](O)C(O)[C@H](O)CO        arabitol\n",
       "3  CHEBI:30031  CHEBI:15741  ...       [O-]C(=O)CCC([O-])=O       succinate\n",
       "4  CHEBI:15741  CHEBI:15741  ...             OC(=O)CCC(O)=O  succininc acid\n",
       "5  CHEBI:29995  CHEBI:22660  ...    NC(CC([O-])=O)C([O-])=O       aspartate\n",
       "\n",
       "[6 rows x 7 columns]"
      ]
     },
     "execution_count": 29,
     "metadata": {},
     "output_type": "execute_result"
    }
   ],
   "source": [
    "std.process_many(['mevalonic acid', 'mevalonate', 'arabitol', 'succinate', 'succininc acid', 'aspartate'])"
   ]
  },
  {
   "cell_type": "markdown",
   "id": "ef0efcb5-ebd6-4bf9-83d9-ee0b564031e1",
   "metadata": {},
   "source": [
    "# Get smiles string"
   ]
  },
  {
   "cell_type": "code",
   "execution_count": 22,
   "id": "8ebe2e24-251e-47a4-a610-f5bfc1c49a62",
   "metadata": {},
   "outputs": [
    {
     "data": {
      "text/plain": [
       "'CC(O)(CCO)CC(O)=O'"
      ]
     },
     "execution_count": 22,
     "metadata": {},
     "output_type": "execute_result"
    }
   ],
   "source": [
    "std.get_smiles(25351)"
   ]
  },
  {
   "cell_type": "markdown",
   "id": "cf5b0e92-0afc-4d56-a3ae-6469197a6b6a",
   "metadata": {},
   "source": [
    "## Not working yet"
   ]
  },
  {
   "cell_type": "code",
   "execution_count": 23,
   "id": "c6b9c382-19af-4eb0-b6b0-ad819609fee1",
   "metadata": {},
   "outputs": [],
   "source": [
    "std.get_smiles('CHEBI:25351')"
   ]
  },
  {
   "cell_type": "code",
   "execution_count": 25,
   "id": "538af798-72b7-47d5-9d9d-175f9f6a0944",
   "metadata": {},
   "outputs": [],
   "source": [
    "std.get_smiles('ChEBI:25351')"
   ]
  },
  {
   "cell_type": "code",
   "execution_count": 17,
   "id": "776b6ba2-bbda-44fb-bd95-355636d6b673",
   "metadata": {},
   "outputs": [],
   "source": [
    "std.get_smiles('mevalonate')"
   ]
  },
  {
   "cell_type": "code",
   "execution_count": null,
   "id": "e090911c-756c-4fe5-bb01-8a9082ee3a07",
   "metadata": {},
   "outputs": [],
   "source": []
  },
  {
   "cell_type": "code",
   "execution_count": null,
   "id": "0346601e-1bf6-4319-950c-577243da85dd",
   "metadata": {},
   "outputs": [],
   "source": []
  }
 ],
 "metadata": {
  "kernelspec": {
   "display_name": "Chem",
   "language": "python",
   "name": "chem"
  },
  "language_info": {
   "codemirror_mode": {
    "name": "ipython",
    "version": 3
   },
   "file_extension": ".py",
   "mimetype": "text/x-python",
   "name": "python",
   "nbconvert_exporter": "python",
   "pygments_lexer": "ipython3",
   "version": "3.10.8"
  }
 },
 "nbformat": 4,
 "nbformat_minor": 5
}
