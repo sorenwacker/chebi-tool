{
 "cells": [
  {
   "cell_type": "code",
   "execution_count": 1,
   "id": "8f6ab6b6-8d79-4ec7-b8d5-5be8ee482106",
   "metadata": {},
   "outputs": [],
   "source": [
    "from chebi_tools import ChEBIDownloader"
   ]
  },
  {
   "cell_type": "code",
   "execution_count": 2,
   "id": "6f3e6740-7ac7-4a1f-b06e-61083517f7a1",
   "metadata": {},
   "outputs": [
    {
     "name": "stdout",
     "output_type": "stream",
     "text": [
      "Downloading https://ftp.ebi.ac.uk/pub/databases/chebi/Flat_file_tab_delimited/chebiId_inchi.tsv to /data/ChEBI\n",
      "Converting: /data/ChEBI/chebiId_inchi.tsv to /data/ChEBI/chebiId_inchi.parquet\n",
      "Downloading https://ftp.ebi.ac.uk/pub/databases/chebi/Flat_file_tab_delimited/comments.tsv to /data/ChEBI\n",
      "Converting: /data/ChEBI/comments.tsv to /data/ChEBI/comments.parquet\n",
      "Downloading https://ftp.ebi.ac.uk/pub/databases/chebi/Flat_file_tab_delimited/chemical_data.tsv to /data/ChEBI\n",
      "Converting: /data/ChEBI/chemical_data.tsv to /data/ChEBI/chemical_data.parquet\n",
      "Downloading https://ftp.ebi.ac.uk/pub/databases/chebi/Flat_file_tab_delimited/compounds.tsv.gz to /data/ChEBI\n",
      "Extracting: /data/ChEBI/compounds.tsv.gz to /data/ChEBI/compounds.tsv\n",
      "Converting: /data/ChEBI/compounds.tsv to /data/ChEBI/compounds.parquet\n",
      "Downloading https://ftp.ebi.ac.uk/pub/databases/chebi/Flat_file_tab_delimited/database_accession.tsv to /data/ChEBI\n",
      "Converting: /data/ChEBI/database_accession.tsv to /data/ChEBI/database_accession.parquet\n",
      "Downloading https://ftp.ebi.ac.uk/pub/databases/chebi/Flat_file_tab_delimited/names.tsv.gz to /data/ChEBI\n",
      "Extracting: /data/ChEBI/names.tsv.gz to /data/ChEBI/names.tsv\n",
      "Converting: /data/ChEBI/names.tsv to /data/ChEBI/names.parquet\n",
      "Downloading https://ftp.ebi.ac.uk/pub/databases/chebi/Flat_file_tab_delimited/reference.tsv.gz to /data/ChEBI\n",
      "Extracting: /data/ChEBI/reference.tsv.gz to /data/ChEBI/reference.tsv\n",
      "Converting: /data/ChEBI/reference.tsv to /data/ChEBI/reference.parquet\n",
      "Downloading https://ftp.ebi.ac.uk/pub/databases/chebi/Flat_file_tab_delimited/relation.tsv to /data/ChEBI\n",
      "Converting: /data/ChEBI/relation.tsv to /data/ChEBI/relation.parquet\n",
      "Downloading https://ftp.ebi.ac.uk/pub/databases/chebi/Flat_file_tab_delimited/structures.csv.gz to /data/ChEBI\n",
      "Extracting: /data/ChEBI/structures.csv.gz to /data/ChEBI/structures.csv\n",
      "Converting: /data/ChEBI/structures.csv to /data/ChEBI/structures.parquet\n",
      "Downloading https://ftp.ebi.ac.uk/pub/databases/chebi/ontology/chebi_core.obo.gz to /data/ChEBI\n",
      "Extracting: /data/ChEBI/chebi_core.obo.gz to /data/ChEBI/chebi_core.obo\n",
      "Converting: /data/ChEBI/chebi_core.obo to /data/ChEBI/chebi_core.parquet\n",
      "Done\n"
     ]
    }
   ],
   "source": [
    "ChEBIDownloader().download_all()"
   ]
  },
  {
   "cell_type": "code",
   "execution_count": null,
   "id": "34ef45bf-b25f-48ee-9a7d-0992318405bf",
   "metadata": {},
   "outputs": [],
   "source": []
  }
 ],
 "metadata": {
  "kernelspec": {
   "display_name": "Chem",
   "language": "python",
   "name": "chem"
  },
  "language_info": {
   "codemirror_mode": {
    "name": "ipython",
    "version": 3
   },
   "file_extension": ".py",
   "mimetype": "text/x-python",
   "name": "python",
   "nbconvert_exporter": "python",
   "pygments_lexer": "ipython3",
   "version": "3.10.8"
  }
 },
 "nbformat": 4,
 "nbformat_minor": 5
}
